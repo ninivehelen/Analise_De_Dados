{
  "nbformat": 4,
  "nbformat_minor": 0,
  "metadata": {
    "colab": {
      "name": "analise_dados_suicide.ipynb",
      "provenance": [],
      "collapsed_sections": [],
      "mount_file_id": "1CcFXUA45fyDFqsaRSqoWxtKqkMpzvs8V",
      "authorship_tag": "ABX9TyOmy6vPAoX9Ub7o0n7Q+WY1",
      "include_colab_link": true
    },
    "kernelspec": {
      "name": "python3",
      "display_name": "Python 3"
    },
    "language_info": {
      "name": "python"
    }
  },
  "cells": [
    {
      "cell_type": "markdown",
      "metadata": {
        "id": "view-in-github",
        "colab_type": "text"
      },
      "source": [
        "<a href=\"https://colab.research.google.com/github/ninivehelen/Analise_De_Dados/blob/master/analise_dados_suicidio.ipynb\" target=\"_parent\"><img src=\"https://colab.research.google.com/assets/colab-badge.svg\" alt=\"Open In Colab\"/></a>"
      ]
    },
    {
      "cell_type": "code",
      "metadata": {
        "colab": {
          "base_uri": "https://localhost:8080/"
        },
        "id": "-rjqV0EL_HZ6",
        "outputId": "95170003-cac6-4e74-de6b-7e3478bc6149"
      },
      "source": [
        "from google.colab import drive\n",
        "drive.mount('/content/drive')"
      ],
      "execution_count": null,
      "outputs": [
        {
          "output_type": "stream",
          "name": "stdout",
          "text": [
            "Drive already mounted at /content/drive; to attempt to forcibly remount, call drive.mount(\"/content/drive\", force_remount=True).\n"
          ]
        }
      ]
    },
    {
      "cell_type": "code",
      "metadata": {
        "id": "-OeZPE3cx87h"
      },
      "source": [
        "import pandas as pd\n",
        "import matplotlib.pyplot as plt\n",
        "from datetime import datetime\n",
        "import seaborn as sns"
      ],
      "execution_count": 139,
      "outputs": []
    },
    {
      "cell_type": "code",
      "metadata": {
        "id": "aujBVdoH5QPR"
      },
      "source": [
        "df_suicidio = pd.read_csv(\"/content/drive/MyDrive/suicide.csv\")"
      ],
      "execution_count": 140,
      "outputs": []
    },
    {
      "cell_type": "code",
      "metadata": {
        "colab": {
          "base_uri": "https://localhost:8080/",
          "height": 713
        },
        "id": "MdiyP9qd5kog",
        "outputId": "f82eb87f-96a4-4256-b2ab-36667fc42237"
      },
      "source": [
        "df_suicidio.head(10)"
      ],
      "execution_count": 141,
      "outputs": [
        {
          "output_type": "execute_result",
          "data": {
            "text/html": [
              "<div>\n",
              "<style scoped>\n",
              "    .dataframe tbody tr th:only-of-type {\n",
              "        vertical-align: middle;\n",
              "    }\n",
              "\n",
              "    .dataframe tbody tr th {\n",
              "        vertical-align: top;\n",
              "    }\n",
              "\n",
              "    .dataframe thead th {\n",
              "        text-align: right;\n",
              "    }\n",
              "</style>\n",
              "<table border=\"1\" class=\"dataframe\">\n",
              "  <thead>\n",
              "    <tr style=\"text-align: right;\">\n",
              "      <th></th>\n",
              "      <th>country</th>\n",
              "      <th>year</th>\n",
              "      <th>sex</th>\n",
              "      <th>age</th>\n",
              "      <th>suicides_no</th>\n",
              "      <th>population</th>\n",
              "      <th>suicides/100k pop</th>\n",
              "      <th>country-year</th>\n",
              "      <th>HDI for year</th>\n",
              "      <th>gdp_for_year ($)</th>\n",
              "      <th>gdp_per_capita ($)</th>\n",
              "      <th>generation</th>\n",
              "    </tr>\n",
              "  </thead>\n",
              "  <tbody>\n",
              "    <tr>\n",
              "      <th>0</th>\n",
              "      <td>Albania</td>\n",
              "      <td>1987</td>\n",
              "      <td>male</td>\n",
              "      <td>15-24 years</td>\n",
              "      <td>21</td>\n",
              "      <td>312900</td>\n",
              "      <td>6.71</td>\n",
              "      <td>Albania1987</td>\n",
              "      <td>NaN</td>\n",
              "      <td>2,156,624,900</td>\n",
              "      <td>796</td>\n",
              "      <td>Generation X</td>\n",
              "    </tr>\n",
              "    <tr>\n",
              "      <th>1</th>\n",
              "      <td>Albania</td>\n",
              "      <td>1987</td>\n",
              "      <td>male</td>\n",
              "      <td>35-54 years</td>\n",
              "      <td>16</td>\n",
              "      <td>308000</td>\n",
              "      <td>5.19</td>\n",
              "      <td>Albania1987</td>\n",
              "      <td>NaN</td>\n",
              "      <td>2,156,624,900</td>\n",
              "      <td>796</td>\n",
              "      <td>Silent</td>\n",
              "    </tr>\n",
              "    <tr>\n",
              "      <th>2</th>\n",
              "      <td>Albania</td>\n",
              "      <td>1987</td>\n",
              "      <td>female</td>\n",
              "      <td>15-24 years</td>\n",
              "      <td>14</td>\n",
              "      <td>289700</td>\n",
              "      <td>4.83</td>\n",
              "      <td>Albania1987</td>\n",
              "      <td>NaN</td>\n",
              "      <td>2,156,624,900</td>\n",
              "      <td>796</td>\n",
              "      <td>Generation X</td>\n",
              "    </tr>\n",
              "    <tr>\n",
              "      <th>3</th>\n",
              "      <td>Albania</td>\n",
              "      <td>1987</td>\n",
              "      <td>male</td>\n",
              "      <td>75+ years</td>\n",
              "      <td>1</td>\n",
              "      <td>21800</td>\n",
              "      <td>4.59</td>\n",
              "      <td>Albania1987</td>\n",
              "      <td>NaN</td>\n",
              "      <td>2,156,624,900</td>\n",
              "      <td>796</td>\n",
              "      <td>G.I. Generation</td>\n",
              "    </tr>\n",
              "    <tr>\n",
              "      <th>4</th>\n",
              "      <td>Albania</td>\n",
              "      <td>1987</td>\n",
              "      <td>male</td>\n",
              "      <td>25-34 years</td>\n",
              "      <td>9</td>\n",
              "      <td>274300</td>\n",
              "      <td>3.28</td>\n",
              "      <td>Albania1987</td>\n",
              "      <td>NaN</td>\n",
              "      <td>2,156,624,900</td>\n",
              "      <td>796</td>\n",
              "      <td>Boomers</td>\n",
              "    </tr>\n",
              "    <tr>\n",
              "      <th>5</th>\n",
              "      <td>Albania</td>\n",
              "      <td>1987</td>\n",
              "      <td>female</td>\n",
              "      <td>75+ years</td>\n",
              "      <td>1</td>\n",
              "      <td>35600</td>\n",
              "      <td>2.81</td>\n",
              "      <td>Albania1987</td>\n",
              "      <td>NaN</td>\n",
              "      <td>2,156,624,900</td>\n",
              "      <td>796</td>\n",
              "      <td>G.I. Generation</td>\n",
              "    </tr>\n",
              "    <tr>\n",
              "      <th>6</th>\n",
              "      <td>Albania</td>\n",
              "      <td>1987</td>\n",
              "      <td>female</td>\n",
              "      <td>35-54 years</td>\n",
              "      <td>6</td>\n",
              "      <td>278800</td>\n",
              "      <td>2.15</td>\n",
              "      <td>Albania1987</td>\n",
              "      <td>NaN</td>\n",
              "      <td>2,156,624,900</td>\n",
              "      <td>796</td>\n",
              "      <td>Silent</td>\n",
              "    </tr>\n",
              "    <tr>\n",
              "      <th>7</th>\n",
              "      <td>Albania</td>\n",
              "      <td>1987</td>\n",
              "      <td>female</td>\n",
              "      <td>25-34 years</td>\n",
              "      <td>4</td>\n",
              "      <td>257200</td>\n",
              "      <td>1.56</td>\n",
              "      <td>Albania1987</td>\n",
              "      <td>NaN</td>\n",
              "      <td>2,156,624,900</td>\n",
              "      <td>796</td>\n",
              "      <td>Boomers</td>\n",
              "    </tr>\n",
              "    <tr>\n",
              "      <th>8</th>\n",
              "      <td>Albania</td>\n",
              "      <td>1987</td>\n",
              "      <td>male</td>\n",
              "      <td>55-74 years</td>\n",
              "      <td>1</td>\n",
              "      <td>137500</td>\n",
              "      <td>0.73</td>\n",
              "      <td>Albania1987</td>\n",
              "      <td>NaN</td>\n",
              "      <td>2,156,624,900</td>\n",
              "      <td>796</td>\n",
              "      <td>G.I. Generation</td>\n",
              "    </tr>\n",
              "    <tr>\n",
              "      <th>9</th>\n",
              "      <td>Albania</td>\n",
              "      <td>1987</td>\n",
              "      <td>female</td>\n",
              "      <td>5-14 years</td>\n",
              "      <td>0</td>\n",
              "      <td>311000</td>\n",
              "      <td>0.00</td>\n",
              "      <td>Albania1987</td>\n",
              "      <td>NaN</td>\n",
              "      <td>2,156,624,900</td>\n",
              "      <td>796</td>\n",
              "      <td>Generation X</td>\n",
              "    </tr>\n",
              "  </tbody>\n",
              "</table>\n",
              "</div>"
            ],
            "text/plain": [
              "   country  year  ... gdp_per_capita ($)       generation\n",
              "0  Albania  1987  ...                796     Generation X\n",
              "1  Albania  1987  ...                796           Silent\n",
              "2  Albania  1987  ...                796     Generation X\n",
              "3  Albania  1987  ...                796  G.I. Generation\n",
              "4  Albania  1987  ...                796          Boomers\n",
              "5  Albania  1987  ...                796  G.I. Generation\n",
              "6  Albania  1987  ...                796           Silent\n",
              "7  Albania  1987  ...                796          Boomers\n",
              "8  Albania  1987  ...                796  G.I. Generation\n",
              "9  Albania  1987  ...                796     Generation X\n",
              "\n",
              "[10 rows x 12 columns]"
            ]
          },
          "metadata": {},
          "execution_count": 141
        }
      ]
    },
    {
      "cell_type": "markdown",
      "metadata": {
        "id": "KbopEopj6Jqh"
      },
      "source": [
        "# Dicionário dos dados\n",
        "**Country**: Coluna que representa os países (string)\n",
        "\n",
        "**Year**: Coluna que representa os anos (integer)\n",
        "\n",
        "**Sex**: Coluna que representa os gêneros (string)\n",
        "\n",
        "**Age**: Coluna que representa as idades (string)\n",
        "\n",
        "**Suicides_no**: Coluna que representa o número de suicídios (integer)\n",
        "\n",
        "**Population**: Coluna que representa a população (integer)\n",
        "\n",
        "**Suicides/100k pop**: Coluna que representa o número de suicídio a cada 100 mil habitantes (float)\n",
        "\n",
        "**Country-year**: Coluna que representa (string)\n",
        "\n",
        "**HDI for year**: Coluna que representa o IDH em cada ano (float)\n",
        "\n",
        "**Gdp_for_year** ($): Coluna que representa o PIB em cada ano (string)\n",
        "\n",
        "**Gdp_per_capita** ($): Coluna que representa o PIB per capita (float)\n",
        "\n",
        "**Generation**: Coluna que representa a geração (string)\n",
        "\n"
      ]
    },
    {
      "cell_type": "markdown",
      "metadata": {
        "id": "7gEMR5UpRoNS"
      },
      "source": [
        "**soma de suicidio nos países**"
      ]
    },
    {
      "cell_type": "code",
      "metadata": {
        "colab": {
          "base_uri": "https://localhost:8080/",
          "height": 455
        },
        "id": "geggEM9mQMt9",
        "outputId": "2f5acc26-fb1c-44e5-e4da-03f78749264c"
      },
      "source": [
        "df_suicidio.filter(items = ['suicides_no' ,'country']).groupby('country').sum().sort_values(by='suicides_no',ascending=False)"
      ],
      "execution_count": 142,
      "outputs": [
        {
          "output_type": "execute_result",
          "data": {
            "text/html": [
              "<div>\n",
              "<style scoped>\n",
              "    .dataframe tbody tr th:only-of-type {\n",
              "        vertical-align: middle;\n",
              "    }\n",
              "\n",
              "    .dataframe tbody tr th {\n",
              "        vertical-align: top;\n",
              "    }\n",
              "\n",
              "    .dataframe thead th {\n",
              "        text-align: right;\n",
              "    }\n",
              "</style>\n",
              "<table border=\"1\" class=\"dataframe\">\n",
              "  <thead>\n",
              "    <tr style=\"text-align: right;\">\n",
              "      <th></th>\n",
              "      <th>suicides_no</th>\n",
              "    </tr>\n",
              "    <tr>\n",
              "      <th>country</th>\n",
              "      <th></th>\n",
              "    </tr>\n",
              "  </thead>\n",
              "  <tbody>\n",
              "    <tr>\n",
              "      <th>Russian Federation</th>\n",
              "      <td>1209742</td>\n",
              "    </tr>\n",
              "    <tr>\n",
              "      <th>United States</th>\n",
              "      <td>1034013</td>\n",
              "    </tr>\n",
              "    <tr>\n",
              "      <th>Japan</th>\n",
              "      <td>806902</td>\n",
              "    </tr>\n",
              "    <tr>\n",
              "      <th>France</th>\n",
              "      <td>329127</td>\n",
              "    </tr>\n",
              "    <tr>\n",
              "      <th>Ukraine</th>\n",
              "      <td>319950</td>\n",
              "    </tr>\n",
              "    <tr>\n",
              "      <th>...</th>\n",
              "      <td>...</td>\n",
              "    </tr>\n",
              "    <tr>\n",
              "      <th>Maldives</th>\n",
              "      <td>20</td>\n",
              "    </tr>\n",
              "    <tr>\n",
              "      <th>Antigua and Barbuda</th>\n",
              "      <td>11</td>\n",
              "    </tr>\n",
              "    <tr>\n",
              "      <th>San Marino</th>\n",
              "      <td>4</td>\n",
              "    </tr>\n",
              "    <tr>\n",
              "      <th>Saint Kitts and Nevis</th>\n",
              "      <td>0</td>\n",
              "    </tr>\n",
              "    <tr>\n",
              "      <th>Dominica</th>\n",
              "      <td>0</td>\n",
              "    </tr>\n",
              "  </tbody>\n",
              "</table>\n",
              "<p>101 rows × 1 columns</p>\n",
              "</div>"
            ],
            "text/plain": [
              "                       suicides_no\n",
              "country                           \n",
              "Russian Federation         1209742\n",
              "United States              1034013\n",
              "Japan                       806902\n",
              "France                      329127\n",
              "Ukraine                     319950\n",
              "...                            ...\n",
              "Maldives                        20\n",
              "Antigua and Barbuda             11\n",
              "San Marino                       4\n",
              "Saint Kitts and Nevis            0\n",
              "Dominica                         0\n",
              "\n",
              "[101 rows x 1 columns]"
            ]
          },
          "metadata": {},
          "execution_count": 142
        }
      ]
    },
    {
      "cell_type": "markdown",
      "metadata": {
        "id": "MiqDPn66H-8x"
      },
      "source": [
        "**Grafico de suicidio no mundo**"
      ]
    },
    {
      "cell_type": "code",
      "metadata": {
        "colab": {
          "base_uri": "https://localhost:8080/",
          "height": 334
        },
        "id": "WbHtOej2H2PI",
        "outputId": "1360a63d-586c-4982-bcda-54363f0976aa"
      },
      "source": [
        "plt.figure(figsize=(15,5))\n",
        "sns.lineplot(x=df_suicidio['year'],y=df_suicidio['suicides_no'], color=\"red\")\n",
        "plt.xlabel('Avg price')\n",
        "plt.ylabel('years')\n",
        "plt.show()"
      ],
      "execution_count": 143,
      "outputs": [
        {
          "output_type": "display_data",
          "data": {
            "image/png": "[encoded data removed]",
            "text/plain": [
              "<Figure size 1080x360 with 1 Axes>"
            ]
          },
          "metadata": {
            "needs_background": "light"
          }
        }
      ]
    },
    {
      "cell_type": "markdown",
      "metadata": {
        "id": "cGYv88AGB3ZE"
      },
      "source": [
        "**media de suicidio nos países**"
      ]
    },
    {
      "cell_type": "code",
      "metadata": {
        "id": "fOkEmF1ABxtM",
        "colab": {
          "base_uri": "https://localhost:8080/",
          "height": 455
        },
        "outputId": "0867441c-239f-47bb-ed25-b97e673672bf"
      },
      "source": [
        "df_suicidio.filter(items = ['suicides_no' ,'country']).groupby('country').mean().sort_values(by='suicides_no',ascending=False)"
      ],
      "execution_count": 144,
      "outputs": [
        {
          "output_type": "execute_result",
          "data": {
            "text/html": [
              "<div>\n",
              "<style scoped>\n",
              "    .dataframe tbody tr th:only-of-type {\n",
              "        vertical-align: middle;\n",
              "    }\n",
              "\n",
              "    .dataframe tbody tr th {\n",
              "        vertical-align: top;\n",
              "    }\n",
              "\n",
              "    .dataframe thead th {\n",
              "        text-align: right;\n",
              "    }\n",
              "</style>\n",
              "<table border=\"1\" class=\"dataframe\">\n",
              "  <thead>\n",
              "    <tr style=\"text-align: right;\">\n",
              "      <th></th>\n",
              "      <th>suicides_no</th>\n",
              "    </tr>\n",
              "    <tr>\n",
              "      <th>country</th>\n",
              "      <th></th>\n",
              "    </tr>\n",
              "  </thead>\n",
              "  <tbody>\n",
              "    <tr>\n",
              "      <th>Russian Federation</th>\n",
              "      <td>3733.771605</td>\n",
              "    </tr>\n",
              "    <tr>\n",
              "      <th>United States</th>\n",
              "      <td>2779.604839</td>\n",
              "    </tr>\n",
              "    <tr>\n",
              "      <th>Japan</th>\n",
              "      <td>2169.091398</td>\n",
              "    </tr>\n",
              "    <tr>\n",
              "      <th>Ukraine</th>\n",
              "      <td>952.232143</td>\n",
              "    </tr>\n",
              "    <tr>\n",
              "      <th>Germany</th>\n",
              "      <td>933.532051</td>\n",
              "    </tr>\n",
              "    <tr>\n",
              "      <th>...</th>\n",
              "      <td>...</td>\n",
              "    </tr>\n",
              "    <tr>\n",
              "      <th>Grenada</th>\n",
              "      <td>0.122581</td>\n",
              "    </tr>\n",
              "    <tr>\n",
              "      <th>San Marino</th>\n",
              "      <td>0.111111</td>\n",
              "    </tr>\n",
              "    <tr>\n",
              "      <th>Antigua and Barbuda</th>\n",
              "      <td>0.033951</td>\n",
              "    </tr>\n",
              "    <tr>\n",
              "      <th>Saint Kitts and Nevis</th>\n",
              "      <td>0.000000</td>\n",
              "    </tr>\n",
              "    <tr>\n",
              "      <th>Dominica</th>\n",
              "      <td>0.000000</td>\n",
              "    </tr>\n",
              "  </tbody>\n",
              "</table>\n",
              "<p>101 rows × 1 columns</p>\n",
              "</div>"
            ],
            "text/plain": [
              "                       suicides_no\n",
              "country                           \n",
              "Russian Federation     3733.771605\n",
              "United States          2779.604839\n",
              "Japan                  2169.091398\n",
              "Ukraine                 952.232143\n",
              "Germany                 933.532051\n",
              "...                            ...\n",
              "Grenada                   0.122581\n",
              "San Marino                0.111111\n",
              "Antigua and Barbuda       0.033951\n",
              "Saint Kitts and Nevis     0.000000\n",
              "Dominica                  0.000000\n",
              "\n",
              "[101 rows x 1 columns]"
            ]
          },
          "metadata": {},
          "execution_count": 144
        }
      ]
    },
    {
      "cell_type": "markdown",
      "metadata": {
        "id": "0VajvSzjVuBj"
      },
      "source": [
        "**Media percapita dos países**"
      ]
    },
    {
      "cell_type": "code",
      "metadata": {
        "id": "U9mpyveZVppw",
        "colab": {
          "base_uri": "https://localhost:8080/",
          "height": 455
        },
        "outputId": "efbd11cd-ccfa-4a7b-9c7b-077c027fcf28"
      },
      "source": [
        "df_suicidio.filter(items = ['gdp_per_capita ($)' ,'country']).groupby('country').mean().sort_values(by='gdp_per_capita ($)',ascending=False)"
      ],
      "execution_count": 145,
      "outputs": [
        {
          "output_type": "execute_result",
          "data": {
            "text/html": [
              "<div>\n",
              "<style scoped>\n",
              "    .dataframe tbody tr th:only-of-type {\n",
              "        vertical-align: middle;\n",
              "    }\n",
              "\n",
              "    .dataframe tbody tr th {\n",
              "        vertical-align: top;\n",
              "    }\n",
              "\n",
              "    .dataframe thead th {\n",
              "        text-align: right;\n",
              "    }\n",
              "</style>\n",
              "<table border=\"1\" class=\"dataframe\">\n",
              "  <thead>\n",
              "    <tr style=\"text-align: right;\">\n",
              "      <th></th>\n",
              "      <th>gdp_per_capita ($)</th>\n",
              "    </tr>\n",
              "    <tr>\n",
              "      <th>country</th>\n",
              "      <th></th>\n",
              "    </tr>\n",
              "  </thead>\n",
              "  <tbody>\n",
              "    <tr>\n",
              "      <th>Luxembourg</th>\n",
              "      <td>68798.387097</td>\n",
              "    </tr>\n",
              "    <tr>\n",
              "      <th>Qatar</th>\n",
              "      <td>67756.449438</td>\n",
              "    </tr>\n",
              "    <tr>\n",
              "      <th>Switzerland</th>\n",
              "      <td>62981.761905</td>\n",
              "    </tr>\n",
              "    <tr>\n",
              "      <th>Norway</th>\n",
              "      <td>57319.600000</td>\n",
              "    </tr>\n",
              "    <tr>\n",
              "      <th>San Marino</th>\n",
              "      <td>53663.666667</td>\n",
              "    </tr>\n",
              "    <tr>\n",
              "      <th>...</th>\n",
              "      <td>...</td>\n",
              "    </tr>\n",
              "    <tr>\n",
              "      <th>Azerbaijan</th>\n",
              "      <td>1005.125000</td>\n",
              "    </tr>\n",
              "    <tr>\n",
              "      <th>Uzbekistan</th>\n",
              "      <td>976.181818</td>\n",
              "    </tr>\n",
              "    <tr>\n",
              "      <th>Sri Lanka</th>\n",
              "      <td>904.272727</td>\n",
              "    </tr>\n",
              "    <tr>\n",
              "      <th>Kiribati</th>\n",
              "      <td>875.909091</td>\n",
              "    </tr>\n",
              "    <tr>\n",
              "      <th>Kyrgyzstan</th>\n",
              "      <td>720.730769</td>\n",
              "    </tr>\n",
              "  </tbody>\n",
              "</table>\n",
              "<p>101 rows × 1 columns</p>\n",
              "</div>"
            ],
            "text/plain": [
              "             gdp_per_capita ($)\n",
              "country                        \n",
              "Luxembourg         68798.387097\n",
              "Qatar              67756.449438\n",
              "Switzerland        62981.761905\n",
              "Norway             57319.600000\n",
              "San Marino         53663.666667\n",
              "...                         ...\n",
              "Azerbaijan          1005.125000\n",
              "Uzbekistan           976.181818\n",
              "Sri Lanka            904.272727\n",
              "Kiribati             875.909091\n",
              "Kyrgyzstan           720.730769\n",
              "\n",
              "[101 rows x 1 columns]"
            ]
          },
          "metadata": {},
          "execution_count": 145
        }
      ]
    },
    {
      "cell_type": "markdown",
      "metadata": {
        "id": "9sahttjmDkCV"
      },
      "source": [
        "**Media de suicidio no pais com maior renda per capita**"
      ]
    },
    {
      "cell_type": "code",
      "metadata": {
        "id": "8YcQ1fkJB9e6"
      },
      "source": [
        "luxembourg_media= df_suicidio[df_suicidio[\"country\"]==\"Luxembourg\"]"
      ],
      "execution_count": 146,
      "outputs": []
    },
    {
      "cell_type": "code",
      "metadata": {
        "colab": {
          "base_uri": "https://localhost:8080/",
          "height": 112
        },
        "id": "gpKobaHdCqOE",
        "outputId": "54bc9b59-f546-4b06-e3b0-5513f3b295b8"
      },
      "source": [
        "luxembourg_media.filter(items = ['suicides_no' ,'country']).groupby('country').mean().sort_values(by='suicides_no',ascending=False)"
      ],
      "execution_count": 147,
      "outputs": [
        {
          "output_type": "execute_result",
          "data": {
            "text/html": [
              "<div>\n",
              "<style scoped>\n",
              "    .dataframe tbody tr th:only-of-type {\n",
              "        vertical-align: middle;\n",
              "    }\n",
              "\n",
              "    .dataframe tbody tr th {\n",
              "        vertical-align: top;\n",
              "    }\n",
              "\n",
              "    .dataframe thead th {\n",
              "        text-align: right;\n",
              "    }\n",
              "</style>\n",
              "<table border=\"1\" class=\"dataframe\">\n",
              "  <thead>\n",
              "    <tr style=\"text-align: right;\">\n",
              "      <th></th>\n",
              "      <th>suicides_no</th>\n",
              "    </tr>\n",
              "    <tr>\n",
              "      <th>country</th>\n",
              "      <th></th>\n",
              "    </tr>\n",
              "  </thead>\n",
              "  <tbody>\n",
              "    <tr>\n",
              "      <th>Luxembourg</th>\n",
              "      <td>5.263441</td>\n",
              "    </tr>\n",
              "  </tbody>\n",
              "</table>\n",
              "</div>"
            ],
            "text/plain": [
              "            suicides_no\n",
              "country                \n",
              "Luxembourg     5.263441"
            ]
          },
          "metadata": {},
          "execution_count": 147
        }
      ]
    },
    {
      "cell_type": "markdown",
      "metadata": {
        "id": "mx3rzNrmUZRv"
      },
      "source": [
        "**Qual geraçao cometeu mais suicidio**"
      ]
    },
    {
      "cell_type": "code",
      "metadata": {
        "colab": {
          "base_uri": "https://localhost:8080/",
          "height": 415
        },
        "id": "kdUmLQ6OTuGm",
        "outputId": "719f316a-0a7c-471d-9259-1fd92b9886df"
      },
      "source": [
        "fig = plt.figure(figsize=(13,5))\n",
        "sns.countplot('generation', order = df_suicidio['generation'].value_counts().index, palette=\"Paired\", data = df_suicidio)\n",
        "plt.xlabel('Gerações', fontsize=13)\n",
        "plt.ylabel(' ')\n",
        "plt.title('Suicídio por geração',fontsize=21);"
      ],
      "execution_count": 148,
      "outputs": [
        {
          "output_type": "stream",
          "name": "stderr",
          "text": [
            "/usr/local/lib/python3.7/dist-packages/seaborn/_decorators.py:43: FutureWarning: Pass the following variable as a keyword arg: x. From version 0.12, the only valid positional argument will be `data`, and passing other arguments without an explicit keyword will result in an error or misinterpretation.\n",
            "  FutureWarning\n"
          ]
        },
        {
          "output_type": "display_data",
          "data": {
            "image/png": "[encoded data removed]",
            "text/plain": [
              "<Figure size 936x360 with 1 Axes>"
            ]
          },
          "metadata": {
            "needs_background": "light"
          }
        }
      ]
    },
    {
      "cell_type": "markdown",
      "metadata": {
        "id": "fhETfeRjEjkL"
      },
      "source": [
        "**Suicidio por geraçao mundial valores**"
      ]
    },
    {
      "cell_type": "code",
      "metadata": {
        "colab": {
          "base_uri": "https://localhost:8080/",
          "height": 269
        },
        "id": "Ghf_bsvtEeO6",
        "outputId": "c0438923-ef54-4248-beac-6546f6e41701"
      },
      "source": [
        "df_suicidio.filter(items = ['suicides_no' ,'generation']).groupby('generation').count().sort_values(by='suicides_no',ascending=False)"
      ],
      "execution_count": 149,
      "outputs": [
        {
          "output_type": "execute_result",
          "data": {
            "text/html": [
              "<div>\n",
              "<style scoped>\n",
              "    .dataframe tbody tr th:only-of-type {\n",
              "        vertical-align: middle;\n",
              "    }\n",
              "\n",
              "    .dataframe tbody tr th {\n",
              "        vertical-align: top;\n",
              "    }\n",
              "\n",
              "    .dataframe thead th {\n",
              "        text-align: right;\n",
              "    }\n",
              "</style>\n",
              "<table border=\"1\" class=\"dataframe\">\n",
              "  <thead>\n",
              "    <tr style=\"text-align: right;\">\n",
              "      <th></th>\n",
              "      <th>suicides_no</th>\n",
              "    </tr>\n",
              "    <tr>\n",
              "      <th>generation</th>\n",
              "      <th></th>\n",
              "    </tr>\n",
              "  </thead>\n",
              "  <tbody>\n",
              "    <tr>\n",
              "      <th>Generation X</th>\n",
              "      <td>6408</td>\n",
              "    </tr>\n",
              "    <tr>\n",
              "      <th>Silent</th>\n",
              "      <td>6364</td>\n",
              "    </tr>\n",
              "    <tr>\n",
              "      <th>Millenials</th>\n",
              "      <td>5844</td>\n",
              "    </tr>\n",
              "    <tr>\n",
              "      <th>Boomers</th>\n",
              "      <td>4990</td>\n",
              "    </tr>\n",
              "    <tr>\n",
              "      <th>G.I. Generation</th>\n",
              "      <td>2744</td>\n",
              "    </tr>\n",
              "    <tr>\n",
              "      <th>Generation Z</th>\n",
              "      <td>1470</td>\n",
              "    </tr>\n",
              "  </tbody>\n",
              "</table>\n",
              "</div>"
            ],
            "text/plain": [
              "                 suicides_no\n",
              "generation                  \n",
              "Generation X            6408\n",
              "Silent                  6364\n",
              "Millenials              5844\n",
              "Boomers                 4990\n",
              "G.I. Generation         2744\n",
              "Generation Z            1470"
            ]
          },
          "metadata": {},
          "execution_count": 149
        }
      ]
    },
    {
      "cell_type": "markdown",
      "metadata": {
        "id": "nNkDpCpSWGcD"
      },
      "source": [
        "**Taxa de suicidio por faixa etaria**"
      ]
    },
    {
      "cell_type": "code",
      "metadata": {
        "colab": {
          "base_uri": "https://localhost:8080/",
          "height": 238
        },
        "id": "Wt7700pyTtxt",
        "outputId": "ed1551ea-2e92-4697-8734-929bf8d20ac0"
      },
      "source": [
        "tabela = pd.pivot_table(df_suicidio, values='suicides_no', index=['year'], columns=['age'])\n",
        "column_order = ['5-14 years', '15-24 years', '25-34 years', '35-54 years', '55-74 years', '+75 years']\n",
        "tabela = tabela.reindex(column_order, axis=1)\n",
        "tabela.head()"
      ],
      "execution_count": 150,
      "outputs": [
        {
          "output_type": "execute_result",
          "data": {
            "text/html": [
              "<div>\n",
              "<style scoped>\n",
              "    .dataframe tbody tr th:only-of-type {\n",
              "        vertical-align: middle;\n",
              "    }\n",
              "\n",
              "    .dataframe tbody tr th {\n",
              "        vertical-align: top;\n",
              "    }\n",
              "\n",
              "    .dataframe thead th {\n",
              "        text-align: right;\n",
              "    }\n",
              "</style>\n",
              "<table border=\"1\" class=\"dataframe\">\n",
              "  <thead>\n",
              "    <tr style=\"text-align: right;\">\n",
              "      <th>age</th>\n",
              "      <th>5-14 years</th>\n",
              "      <th>15-24 years</th>\n",
              "      <th>25-34 years</th>\n",
              "      <th>35-54 years</th>\n",
              "      <th>55-74 years</th>\n",
              "      <th>+75 years</th>\n",
              "    </tr>\n",
              "    <tr>\n",
              "      <th>year</th>\n",
              "      <th></th>\n",
              "      <th></th>\n",
              "      <th></th>\n",
              "      <th></th>\n",
              "      <th></th>\n",
              "      <th></th>\n",
              "    </tr>\n",
              "  </thead>\n",
              "  <tbody>\n",
              "    <tr>\n",
              "      <th>1985</th>\n",
              "      <td>10.250000</td>\n",
              "      <td>186.145833</td>\n",
              "      <td>216.364583</td>\n",
              "      <td>372.375000</td>\n",
              "      <td>299.333333</td>\n",
              "      <td>NaN</td>\n",
              "    </tr>\n",
              "    <tr>\n",
              "      <th>1986</th>\n",
              "      <td>9.833333</td>\n",
              "      <td>188.156250</td>\n",
              "      <td>225.885417</td>\n",
              "      <td>391.229167</td>\n",
              "      <td>310.000000</td>\n",
              "      <td>NaN</td>\n",
              "    </tr>\n",
              "    <tr>\n",
              "      <th>1987</th>\n",
              "      <td>8.657407</td>\n",
              "      <td>152.148148</td>\n",
              "      <td>206.564815</td>\n",
              "      <td>376.379630</td>\n",
              "      <td>300.638889</td>\n",
              "      <td>NaN</td>\n",
              "    </tr>\n",
              "    <tr>\n",
              "      <th>1988</th>\n",
              "      <td>8.540816</td>\n",
              "      <td>156.500000</td>\n",
              "      <td>217.673469</td>\n",
              "      <td>395.612245</td>\n",
              "      <td>311.612245</td>\n",
              "      <td>NaN</td>\n",
              "    </tr>\n",
              "    <tr>\n",
              "      <th>1989</th>\n",
              "      <td>11.057692</td>\n",
              "      <td>179.192308</td>\n",
              "      <td>282.951923</td>\n",
              "      <td>514.817308</td>\n",
              "      <td>385.451923</td>\n",
              "      <td>NaN</td>\n",
              "    </tr>\n",
              "  </tbody>\n",
              "</table>\n",
              "</div>"
            ],
            "text/plain": [
              "age   5-14 years  15-24 years  25-34 years  35-54 years  55-74 years  +75 years\n",
              "year                                                                           \n",
              "1985   10.250000   186.145833   216.364583   372.375000   299.333333        NaN\n",
              "1986    9.833333   188.156250   225.885417   391.229167   310.000000        NaN\n",
              "1987    8.657407   152.148148   206.564815   376.379630   300.638889        NaN\n",
              "1988    8.540816   156.500000   217.673469   395.612245   311.612245        NaN\n",
              "1989   11.057692   179.192308   282.951923   514.817308   385.451923        NaN"
            ]
          },
          "metadata": {},
          "execution_count": 150
        }
      ]
    },
    {
      "cell_type": "code",
      "metadata": {
        "colab": {
          "base_uri": "https://localhost:8080/",
          "height": 536
        },
        "id": "ipUeRUOBW8Ah",
        "outputId": "db371350-e7c8-456c-c1ca-4ea39908f966"
      },
      "source": [
        "tabela.plot.bar(stacked=True,figsize=(16,8))\n",
        "plt.legend(title='Idade')\n",
        "plt.xlabel(' ')\n",
        "plt.title(' Suicídio por faixa etária',fontsize=21);"
      ],
      "execution_count": 151,
      "outputs": [
        {
          "output_type": "display_data",
          "data": {
            "image/png": "[encoded data removed]",
            "text/plain": [
              "<Figure size 1152x576 with 1 Axes>"
            ]
          },
          "metadata": {
            "needs_background": "light"
          }
        }
      ]
    },
    {
      "cell_type": "code",
      "metadata": {
        "id": "vaiCnhG4IzDf"
      },
      "source": [
        "cor = ['#f78981', '#81f795']"
      ],
      "execution_count": 152,
      "outputs": []
    },
    {
      "cell_type": "code",
      "metadata": {
        "colab": {
          "base_uri": "https://localhost:8080/",
          "height": 379
        },
        "id": "sd8XJ0m3IKzy",
        "outputId": "e6dd56db-9f66-4ccb-cd24-62b55ab0acdd"
      },
      "source": [
        "generos = df_suicidio.groupby('sex').suicides_no.sum() / df_suicidio.groupby('sex').suicides_no.sum().sum()\n",
        "fig = plt.figure(figsize=(6,6))\n",
        "plt.pie(generos, labels=['MULHERES', 'HOMENS'], colors=cor, autopct='%1.1f%%', shadow = True, startangle=90)\n",
        "plt.title('Número de suicídio por gênero (1985 - 2015)', fontsize=19);"
      ],
      "execution_count": 153,
      "outputs": [
        {
          "output_type": "display_data",
          "data": {
            "image/png": "[encoded data removed]",
            "text/plain": [
              "<Figure size 432x432 with 1 Axes>"
            ]
          },
          "metadata": {}
        }
      ]
    },
    {
      "cell_type": "markdown",
      "metadata": {
        "id": "PK3I9EB4SGmT"
      },
      "source": [
        "# **Analisando dados de suicidio no Brasil**"
      ]
    },
    {
      "cell_type": "code",
      "metadata": {
        "id": "xJtzJLgRJFdD"
      },
      "source": [
        "df_suicidio_brasil = df_suicidio[df_suicidio[\"country\"]==\"Brazil\"]"
      ],
      "execution_count": 154,
      "outputs": []
    },
    {
      "cell_type": "code",
      "metadata": {
        "id": "-WareWZgJSZz",
        "colab": {
          "base_uri": "https://localhost:8080/",
          "height": 730
        },
        "outputId": "bdf0176a-2295-471f-e040-6490cfce661a"
      },
      "source": [
        "df_suicidio_brasil.head(10)"
      ],
      "execution_count": 155,
      "outputs": [
        {
          "output_type": "execute_result",
          "data": {
            "text/html": [
              "<div>\n",
              "<style scoped>\n",
              "    .dataframe tbody tr th:only-of-type {\n",
              "        vertical-align: middle;\n",
              "    }\n",
              "\n",
              "    .dataframe tbody tr th {\n",
              "        vertical-align: top;\n",
              "    }\n",
              "\n",
              "    .dataframe thead th {\n",
              "        text-align: right;\n",
              "    }\n",
              "</style>\n",
              "<table border=\"1\" class=\"dataframe\">\n",
              "  <thead>\n",
              "    <tr style=\"text-align: right;\">\n",
              "      <th></th>\n",
              "      <th>country</th>\n",
              "      <th>year</th>\n",
              "      <th>sex</th>\n",
              "      <th>age</th>\n",
              "      <th>suicides_no</th>\n",
              "      <th>population</th>\n",
              "      <th>suicides/100k pop</th>\n",
              "      <th>country-year</th>\n",
              "      <th>HDI for year</th>\n",
              "      <th>gdp_for_year ($)</th>\n",
              "      <th>gdp_per_capita ($)</th>\n",
              "      <th>generation</th>\n",
              "    </tr>\n",
              "  </thead>\n",
              "  <tbody>\n",
              "    <tr>\n",
              "      <th>4172</th>\n",
              "      <td>Brazil</td>\n",
              "      <td>1985</td>\n",
              "      <td>male</td>\n",
              "      <td>75+ years</td>\n",
              "      <td>129</td>\n",
              "      <td>840300</td>\n",
              "      <td>15.35</td>\n",
              "      <td>Brazil1985</td>\n",
              "      <td>0.576</td>\n",
              "      <td>222,942,790,435</td>\n",
              "      <td>1898</td>\n",
              "      <td>G.I. Generation</td>\n",
              "    </tr>\n",
              "    <tr>\n",
              "      <th>4173</th>\n",
              "      <td>Brazil</td>\n",
              "      <td>1985</td>\n",
              "      <td>male</td>\n",
              "      <td>55-74 years</td>\n",
              "      <td>535</td>\n",
              "      <td>5364900</td>\n",
              "      <td>9.97</td>\n",
              "      <td>Brazil1985</td>\n",
              "      <td>0.576</td>\n",
              "      <td>222,942,790,435</td>\n",
              "      <td>1898</td>\n",
              "      <td>G.I. Generation</td>\n",
              "    </tr>\n",
              "    <tr>\n",
              "      <th>4174</th>\n",
              "      <td>Brazil</td>\n",
              "      <td>1985</td>\n",
              "      <td>male</td>\n",
              "      <td>35-54 years</td>\n",
              "      <td>1011</td>\n",
              "      <td>11986300</td>\n",
              "      <td>8.43</td>\n",
              "      <td>Brazil1985</td>\n",
              "      <td>0.576</td>\n",
              "      <td>222,942,790,435</td>\n",
              "      <td>1898</td>\n",
              "      <td>Silent</td>\n",
              "    </tr>\n",
              "    <tr>\n",
              "      <th>4175</th>\n",
              "      <td>Brazil</td>\n",
              "      <td>1985</td>\n",
              "      <td>male</td>\n",
              "      <td>25-34 years</td>\n",
              "      <td>791</td>\n",
              "      <td>10762900</td>\n",
              "      <td>7.35</td>\n",
              "      <td>Brazil1985</td>\n",
              "      <td>0.576</td>\n",
              "      <td>222,942,790,435</td>\n",
              "      <td>1898</td>\n",
              "      <td>Boomers</td>\n",
              "    </tr>\n",
              "    <tr>\n",
              "      <th>4176</th>\n",
              "      <td>Brazil</td>\n",
              "      <td>1985</td>\n",
              "      <td>male</td>\n",
              "      <td>15-24 years</td>\n",
              "      <td>661</td>\n",
              "      <td>13834000</td>\n",
              "      <td>4.78</td>\n",
              "      <td>Brazil1985</td>\n",
              "      <td>0.576</td>\n",
              "      <td>222,942,790,435</td>\n",
              "      <td>1898</td>\n",
              "      <td>Generation X</td>\n",
              "    </tr>\n",
              "    <tr>\n",
              "      <th>4177</th>\n",
              "      <td>Brazil</td>\n",
              "      <td>1985</td>\n",
              "      <td>female</td>\n",
              "      <td>75+ years</td>\n",
              "      <td>32</td>\n",
              "      <td>988100</td>\n",
              "      <td>3.24</td>\n",
              "      <td>Brazil1985</td>\n",
              "      <td>0.576</td>\n",
              "      <td>222,942,790,435</td>\n",
              "      <td>1898</td>\n",
              "      <td>G.I. Generation</td>\n",
              "    </tr>\n",
              "    <tr>\n",
              "      <th>4178</th>\n",
              "      <td>Brazil</td>\n",
              "      <td>1985</td>\n",
              "      <td>female</td>\n",
              "      <td>55-74 years</td>\n",
              "      <td>148</td>\n",
              "      <td>5650100</td>\n",
              "      <td>2.62</td>\n",
              "      <td>Brazil1985</td>\n",
              "      <td>0.576</td>\n",
              "      <td>222,942,790,435</td>\n",
              "      <td>1898</td>\n",
              "      <td>G.I. Generation</td>\n",
              "    </tr>\n",
              "    <tr>\n",
              "      <th>4179</th>\n",
              "      <td>Brazil</td>\n",
              "      <td>1985</td>\n",
              "      <td>female</td>\n",
              "      <td>25-34 years</td>\n",
              "      <td>269</td>\n",
              "      <td>10798700</td>\n",
              "      <td>2.49</td>\n",
              "      <td>Brazil1985</td>\n",
              "      <td>0.576</td>\n",
              "      <td>222,942,790,435</td>\n",
              "      <td>1898</td>\n",
              "      <td>Boomers</td>\n",
              "    </tr>\n",
              "    <tr>\n",
              "      <th>4180</th>\n",
              "      <td>Brazil</td>\n",
              "      <td>1985</td>\n",
              "      <td>female</td>\n",
              "      <td>35-54 years</td>\n",
              "      <td>296</td>\n",
              "      <td>12185200</td>\n",
              "      <td>2.43</td>\n",
              "      <td>Brazil1985</td>\n",
              "      <td>0.576</td>\n",
              "      <td>222,942,790,435</td>\n",
              "      <td>1898</td>\n",
              "      <td>Silent</td>\n",
              "    </tr>\n",
              "    <tr>\n",
              "      <th>4181</th>\n",
              "      <td>Brazil</td>\n",
              "      <td>1985</td>\n",
              "      <td>female</td>\n",
              "      <td>15-24 years</td>\n",
              "      <td>280</td>\n",
              "      <td>13751800</td>\n",
              "      <td>2.04</td>\n",
              "      <td>Brazil1985</td>\n",
              "      <td>0.576</td>\n",
              "      <td>222,942,790,435</td>\n",
              "      <td>1898</td>\n",
              "      <td>Generation X</td>\n",
              "    </tr>\n",
              "  </tbody>\n",
              "</table>\n",
              "</div>"
            ],
            "text/plain": [
              "     country  year  ... gdp_per_capita ($)       generation\n",
              "4172  Brazil  1985  ...               1898  G.I. Generation\n",
              "4173  Brazil  1985  ...               1898  G.I. Generation\n",
              "4174  Brazil  1985  ...               1898           Silent\n",
              "4175  Brazil  1985  ...               1898          Boomers\n",
              "4176  Brazil  1985  ...               1898     Generation X\n",
              "4177  Brazil  1985  ...               1898  G.I. Generation\n",
              "4178  Brazil  1985  ...               1898  G.I. Generation\n",
              "4179  Brazil  1985  ...               1898          Boomers\n",
              "4180  Brazil  1985  ...               1898           Silent\n",
              "4181  Brazil  1985  ...               1898     Generation X\n",
              "\n",
              "[10 rows x 12 columns]"
            ]
          },
          "metadata": {},
          "execution_count": 155
        }
      ]
    },
    {
      "cell_type": "code",
      "metadata": {
        "id": "XR1NlgfF5n9s"
      },
      "source": [
        "mulheres = df_suicidio_brasil[df_suicidio_brasil[\"sex\"]==\"female\"]\n",
        "colunas=[\"sex\",\"age\", \"suicides_no\"]\n",
        "mulheres = mulheres.filter(items = colunas)\n",
        "\n",
        "homens = df_suicidio_brasil[df_suicidio_brasil[\"sex\"]==\"male\"]\n",
        "colunas=[\"sex\",\"age\", \"suicides_no\"]\n",
        "homens= homens.filter(items = colunas)\n"
      ],
      "execution_count": 156,
      "outputs": []
    },
    {
      "cell_type": "markdown",
      "metadata": {
        "id": "bg4rjXEm_dBN"
      },
      "source": [
        "**Quantidade de suicidio por faixa de idade/**\n",
        "**Mulheres**"
      ]
    },
    {
      "cell_type": "code",
      "metadata": {
        "id": "QEIqniw2FVdi",
        "colab": {
          "base_uri": "https://localhost:8080/",
          "height": 269
        },
        "outputId": "0c25ce0b-4016-4217-f627-1b4cfe93bb61"
      },
      "source": [
        "mulheres.filter(items = ['suicides_no' ,'age']).groupby('age').mean().sort_values(by='suicides_no',ascending=False)\n"
      ],
      "execution_count": 157,
      "outputs": [
        {
          "output_type": "execute_result",
          "data": {
            "text/html": [
              "<div>\n",
              "<style scoped>\n",
              "    .dataframe tbody tr th:only-of-type {\n",
              "        vertical-align: middle;\n",
              "    }\n",
              "\n",
              "    .dataframe tbody tr th {\n",
              "        vertical-align: top;\n",
              "    }\n",
              "\n",
              "    .dataframe thead th {\n",
              "        text-align: right;\n",
              "    }\n",
              "</style>\n",
              "<table border=\"1\" class=\"dataframe\">\n",
              "  <thead>\n",
              "    <tr style=\"text-align: right;\">\n",
              "      <th></th>\n",
              "      <th>suicides_no</th>\n",
              "    </tr>\n",
              "    <tr>\n",
              "      <th>age</th>\n",
              "      <th></th>\n",
              "    </tr>\n",
              "  </thead>\n",
              "  <tbody>\n",
              "    <tr>\n",
              "      <th>35-54 years</th>\n",
              "      <td>560.000000</td>\n",
              "    </tr>\n",
              "    <tr>\n",
              "      <th>15-24 years</th>\n",
              "      <td>350.870968</td>\n",
              "    </tr>\n",
              "    <tr>\n",
              "      <th>25-34 years</th>\n",
              "      <td>324.677419</td>\n",
              "    </tr>\n",
              "    <tr>\n",
              "      <th>55-74 years</th>\n",
              "      <td>248.774194</td>\n",
              "    </tr>\n",
              "    <tr>\n",
              "      <th>75+ years</th>\n",
              "      <td>51.677419</td>\n",
              "    </tr>\n",
              "    <tr>\n",
              "      <th>5-14 years</th>\n",
              "      <td>45.129032</td>\n",
              "    </tr>\n",
              "  </tbody>\n",
              "</table>\n",
              "</div>"
            ],
            "text/plain": [
              "             suicides_no\n",
              "age                     \n",
              "35-54 years   560.000000\n",
              "15-24 years   350.870968\n",
              "25-34 years   324.677419\n",
              "55-74 years   248.774194\n",
              "75+ years      51.677419\n",
              "5-14 years     45.129032"
            ]
          },
          "metadata": {},
          "execution_count": 157
        }
      ]
    },
    {
      "cell_type": "markdown",
      "metadata": {
        "id": "uWRm3cjX_xz1"
      },
      "source": [
        "**Quantidade de suicidio por faixa de idade/**\n",
        "**Homens**"
      ]
    },
    {
      "cell_type": "code",
      "metadata": {
        "colab": {
          "base_uri": "https://localhost:8080/",
          "height": 269
        },
        "id": "b1XZx3xQaIBd",
        "outputId": "dfc93aa5-e807-4e59-d425-a4c204c78684"
      },
      "source": [
        "homens.filter(items = ['suicides_no' ,'age']).groupby('age').mean().sort_values(by='suicides_no',ascending=False)"
      ],
      "execution_count": 158,
      "outputs": [
        {
          "output_type": "execute_result",
          "data": {
            "text/html": [
              "<div>\n",
              "<style scoped>\n",
              "    .dataframe tbody tr th:only-of-type {\n",
              "        vertical-align: middle;\n",
              "    }\n",
              "\n",
              "    .dataframe tbody tr th {\n",
              "        vertical-align: top;\n",
              "    }\n",
              "\n",
              "    .dataframe thead th {\n",
              "        text-align: right;\n",
              "    }\n",
              "</style>\n",
              "<table border=\"1\" class=\"dataframe\">\n",
              "  <thead>\n",
              "    <tr style=\"text-align: right;\">\n",
              "      <th></th>\n",
              "      <th>suicides_no</th>\n",
              "    </tr>\n",
              "    <tr>\n",
              "      <th>age</th>\n",
              "      <th></th>\n",
              "    </tr>\n",
              "  </thead>\n",
              "  <tbody>\n",
              "    <tr>\n",
              "      <th>35-54 years</th>\n",
              "      <td>2016.129032</td>\n",
              "    </tr>\n",
              "    <tr>\n",
              "      <th>25-34 years</th>\n",
              "      <td>1369.967742</td>\n",
              "    </tr>\n",
              "    <tr>\n",
              "      <th>15-24 years</th>\n",
              "      <td>1087.741935</td>\n",
              "    </tr>\n",
              "    <tr>\n",
              "      <th>55-74 years</th>\n",
              "      <td>962.709677</td>\n",
              "    </tr>\n",
              "    <tr>\n",
              "      <th>75+ years</th>\n",
              "      <td>239.838710</td>\n",
              "    </tr>\n",
              "    <tr>\n",
              "      <th>5-14 years</th>\n",
              "      <td>52.580645</td>\n",
              "    </tr>\n",
              "  </tbody>\n",
              "</table>\n",
              "</div>"
            ],
            "text/plain": [
              "             suicides_no\n",
              "age                     \n",
              "35-54 years  2016.129032\n",
              "25-34 years  1369.967742\n",
              "15-24 years  1087.741935\n",
              "55-74 years   962.709677\n",
              "75+ years     239.838710\n",
              "5-14 years     52.580645"
            ]
          },
          "metadata": {},
          "execution_count": 158
        }
      ]
    },
    {
      "cell_type": "markdown",
      "metadata": {
        "id": "OCgaRyoB_6Gn"
      },
      "source": [
        "**Gráficos**"
      ]
    },
    {
      "cell_type": "code",
      "metadata": {
        "id": "rZzpOvS6F3sZ",
        "colab": {
          "base_uri": "https://localhost:8080/",
          "height": 355
        },
        "outputId": "655716c9-19dd-419e-eec0-6aa761749e01"
      },
      "source": [
        "idade = mulheres[\"age\"]\n",
        "valor = mulheres[\"suicides_no\"]\n",
        "fig = plt.figure(figsize=(10,5))\n",
        "sns.barplot(x=idade, y = valor, data=mulheres, palette=\"Paired\")\n",
        "plt.title('Faixa etária (mulheres)', fontsize=19);"
      ],
      "execution_count": 159,
      "outputs": [
        {
          "output_type": "display_data",
          "data": {
            "image/png": "[encoded data removed]",
            "text/plain": [
              "<Figure size 720x360 with 1 Axes>"
            ]
          },
          "metadata": {
            "needs_background": "light"
          }
        }
      ]
    },
    {
      "cell_type": "code",
      "metadata": {
        "colab": {
          "base_uri": "https://localhost:8080/",
          "height": 355
        },
        "id": "hJrbl3DnY9Mn",
        "outputId": "4bfd5c5e-78b4-4bcc-891e-f0c5a64b4bbb"
      },
      "source": [
        "idade = homens[\"age\"]\n",
        "valor = homens[\"suicides_no\"]\n",
        "fig = plt.figure(figsize=(10,5))\n",
        "sns.barplot(x=idade, y = valor, data=homens, palette=\"Paired\")\n",
        "plt.title('Faixa etária (Homens)', fontsize=19);"
      ],
      "execution_count": 160,
      "outputs": [
        {
          "output_type": "display_data",
          "data": {
            "image/png": "[encoded data removed]",
            "text/plain": [
              "<Figure size 720x360 with 1 Axes>"
            ]
          },
          "metadata": {
            "needs_background": "light"
          }
        }
      ]
    },
    {
      "cell_type": "markdown",
      "metadata": {
        "id": "5BOew3h__-jC"
      },
      "source": [
        "**Suicidio por geração**"
      ]
    },
    {
      "cell_type": "code",
      "metadata": {
        "id": "b4YJydQFbpSc",
        "colab": {
          "base_uri": "https://localhost:8080/",
          "height": 269
        },
        "outputId": "e3468ebf-9ad8-4457-c002-a61a2fa1cc1f"
      },
      "source": [
        "df_suicidio_brasil.filter(items = ['suicides_no' ,'generation']).groupby('generation').count().sort_values(by='suicides_no',ascending=False)"
      ],
      "execution_count": 161,
      "outputs": [
        {
          "output_type": "execute_result",
          "data": {
            "text/html": [
              "<div>\n",
              "<style scoped>\n",
              "    .dataframe tbody tr th:only-of-type {\n",
              "        vertical-align: middle;\n",
              "    }\n",
              "\n",
              "    .dataframe tbody tr th {\n",
              "        vertical-align: top;\n",
              "    }\n",
              "\n",
              "    .dataframe thead th {\n",
              "        text-align: right;\n",
              "    }\n",
              "</style>\n",
              "<table border=\"1\" class=\"dataframe\">\n",
              "  <thead>\n",
              "    <tr style=\"text-align: right;\">\n",
              "      <th></th>\n",
              "      <th>suicides_no</th>\n",
              "    </tr>\n",
              "    <tr>\n",
              "      <th>generation</th>\n",
              "      <th></th>\n",
              "    </tr>\n",
              "  </thead>\n",
              "  <tbody>\n",
              "    <tr>\n",
              "      <th>Generation X</th>\n",
              "      <td>88</td>\n",
              "    </tr>\n",
              "    <tr>\n",
              "      <th>Silent</th>\n",
              "      <td>82</td>\n",
              "    </tr>\n",
              "    <tr>\n",
              "      <th>Millenials</th>\n",
              "      <td>72</td>\n",
              "    </tr>\n",
              "    <tr>\n",
              "      <th>Boomers</th>\n",
              "      <td>68</td>\n",
              "    </tr>\n",
              "    <tr>\n",
              "      <th>G.I. Generation</th>\n",
              "      <td>44</td>\n",
              "    </tr>\n",
              "    <tr>\n",
              "      <th>Generation Z</th>\n",
              "      <td>18</td>\n",
              "    </tr>\n",
              "  </tbody>\n",
              "</table>\n",
              "</div>"
            ],
            "text/plain": [
              "                 suicides_no\n",
              "generation                  \n",
              "Generation X              88\n",
              "Silent                    82\n",
              "Millenials                72\n",
              "Boomers                   68\n",
              "G.I. Generation           44\n",
              "Generation Z              18"
            ]
          },
          "metadata": {},
          "execution_count": 161
        }
      ]
    },
    {
      "cell_type": "markdown",
      "metadata": {
        "id": "PKEeRQteACI2"
      },
      "source": [
        "**Gráfico**"
      ]
    },
    {
      "cell_type": "code",
      "metadata": {
        "colab": {
          "base_uri": "https://localhost:8080/",
          "height": 415
        },
        "id": "qVAPeYj-Y_l9",
        "outputId": "0beace5b-d6bb-4254-fcef-9730ef965b0f"
      },
      "source": [
        "fig = plt.figure(figsize=(13,5))\n",
        "sns.countplot('generation', order = df_suicidio_brasil['generation'].value_counts().index,palette=\"husl\", data = df_suicidio_brasil)\n",
        "plt.xlabel('Gerações', fontsize=13)\n",
        "plt.ylabel(' ')\n",
        "plt.title('Suicídio por geração',fontsize=21);"
      ],
      "execution_count": 162,
      "outputs": [
        {
          "output_type": "stream",
          "name": "stderr",
          "text": [
            "/usr/local/lib/python3.7/dist-packages/seaborn/_decorators.py:43: FutureWarning: Pass the following variable as a keyword arg: x. From version 0.12, the only valid positional argument will be `data`, and passing other arguments without an explicit keyword will result in an error or misinterpretation.\n",
            "  FutureWarning\n"
          ]
        },
        {
          "output_type": "display_data",
          "data": {
            "image/png": "[encoded data removed]",
            "text/plain": [
              "<Figure size 936x360 with 1 Axes>"
            ]
          },
          "metadata": {
            "needs_background": "light"
          }
        }
      ]
    },
    {
      "cell_type": "markdown",
      "metadata": {
        "id": "OCrA-xurHkzF"
      },
      "source": [
        "**Renda per capita Brasil**"
      ]
    },
    {
      "cell_type": "code",
      "metadata": {
        "colab": {
          "base_uri": "https://localhost:8080/",
          "height": 334
        },
        "id": "mQqq9fSaHNux",
        "outputId": "52fedecd-df88-4724-8dd7-57b9c0699e72"
      },
      "source": [
        "plt.figure(figsize=(15,5))\n",
        "sns.lineplot(x=df_suicidio_brasil['year'],y=df_suicidio_brasil['gdp_per_capita ($)'], color=\"blue\")\n",
        "plt.xlabel('Avg price')\n",
        "plt.ylabel('years')\n",
        "plt.show()"
      ],
      "execution_count": 163,
      "outputs": [
        {
          "output_type": "display_data",
          "data": {
            "image/png": "[encoded data removed]",
            "text/plain": [
              "<Figure size 1080x360 with 1 Axes>"
            ]
          },
          "metadata": {
            "needs_background": "light"
          }
        }
      ]
    },
    {
      "cell_type": "markdown",
      "metadata": {
        "id": "mdQ2uPi-AF9I"
      },
      "source": [
        "**Gráfico por crescimento de suícidio por geração**"
      ]
    },
    {
      "cell_type": "code",
      "metadata": {
        "id": "XbeQzQ-wbDtb",
        "colab": {
          "base_uri": "https://localhost:8080/",
          "height": 337
        },
        "outputId": "8f75306d-affa-4066-a40a-ce1cc40cbed3"
      },
      "source": [
        "plt.figure(figsize=(15,5))\n",
        "sns.lineplot(x=df_suicidio_brasil['year'],y=df_suicidio_brasil['suicides_no'], color=\"red\")\n",
        "plt.xlabel('Avg price')\n",
        "plt.ylabel('years')\n",
        "plt.show()"
      ],
      "execution_count": 164,
      "outputs": [
        {
          "output_type": "display_data",
          "data": {
            "image/png": "[encoded data removed]",
            "text/plain": [
              "<Figure size 1080x360 with 1 Axes>"
            ]
          },
          "metadata": {
            "needs_background": "light"
          }
        }
      ]
    },
    {
      "cell_type": "code",
      "metadata": {
        "id": "FIqgUdcgATf7",
        "colab": {
          "base_uri": "https://localhost:8080/",
          "height": 334
        },
        "outputId": "d572d19d-8223-49ad-add4-c76884c9898a"
      },
      "source": [
        "plt.figure(figsize=(15,5))\n",
        "sns.lineplot(x=df_suicidio_brasil['year'],y=df_suicidio_brasil['suicides/100k pop'], color=\"red\")\n",
        "plt.xlabel('Avg price')\n",
        "plt.ylabel('years')\n",
        "plt.show()"
      ],
      "execution_count": 165,
      "outputs": [
        {
          "output_type": "display_data",
          "data": {
            "image/png": "[encoded data removed]",
            "text/plain": [
              "<Figure size 1080x360 with 1 Axes>"
            ]
          },
          "metadata": {
            "needs_background": "light"
          }
        }
      ]
    },
    {
      "cell_type": "markdown",
      "metadata": {
        "id": "JxHt1ok_LXfo"
      },
      "source": [
        "Analisando o grafico da renda per capita do Brasil, nota-se que teve uma queda na renda no ano de 2015, o mesmo ano em que o Brasil teve um aumento na taxa de suicidios.   O que mostra que a renda de um pais e sa qualidade de vida pode infuência na taxa de suicidios. "
      ]
    },
    {
      "cell_type": "markdown",
      "metadata": {
        "id": "VfKdhnxJD4n4"
      },
      "source": [
        "**Suicidio Brasil tabela por faixa etaria**"
      ]
    },
    {
      "cell_type": "code",
      "metadata": {
        "colab": {
          "base_uri": "https://localhost:8080/",
          "height": 238
        },
        "id": "HT3_VumQAmdJ",
        "outputId": "cc1f744f-0b9b-428f-cb25-a941139a5fd7"
      },
      "source": [
        "tabela = pd.pivot_table(df_suicidio_brasil, values='suicides_no', index=['year'], columns=['age'])\n",
        "column_order = ['5-14 years', '15-24 years', '25-34 years', '35-54 years', '55-74 years', '+75 years']\n",
        "tabela = tabela.reindex(column_order, axis=1)\n",
        "tabela.head()"
      ],
      "execution_count": 166,
      "outputs": [
        {
          "output_type": "execute_result",
          "data": {
            "text/html": [
              "<div>\n",
              "<style scoped>\n",
              "    .dataframe tbody tr th:only-of-type {\n",
              "        vertical-align: middle;\n",
              "    }\n",
              "\n",
              "    .dataframe tbody tr th {\n",
              "        vertical-align: top;\n",
              "    }\n",
              "\n",
              "    .dataframe thead th {\n",
              "        text-align: right;\n",
              "    }\n",
              "</style>\n",
              "<table border=\"1\" class=\"dataframe\">\n",
              "  <thead>\n",
              "    <tr style=\"text-align: right;\">\n",
              "      <th>age</th>\n",
              "      <th>5-14 years</th>\n",
              "      <th>15-24 years</th>\n",
              "      <th>25-34 years</th>\n",
              "      <th>35-54 years</th>\n",
              "      <th>55-74 years</th>\n",
              "      <th>+75 years</th>\n",
              "    </tr>\n",
              "    <tr>\n",
              "      <th>year</th>\n",
              "      <th></th>\n",
              "      <th></th>\n",
              "      <th></th>\n",
              "      <th></th>\n",
              "      <th></th>\n",
              "      <th></th>\n",
              "    </tr>\n",
              "  </thead>\n",
              "  <tbody>\n",
              "    <tr>\n",
              "      <th>1985</th>\n",
              "      <td>38.0</td>\n",
              "      <td>470.5</td>\n",
              "      <td>530.0</td>\n",
              "      <td>653.5</td>\n",
              "      <td>341.5</td>\n",
              "      <td>NaN</td>\n",
              "    </tr>\n",
              "    <tr>\n",
              "      <th>1986</th>\n",
              "      <td>31.0</td>\n",
              "      <td>508.0</td>\n",
              "      <td>505.5</td>\n",
              "      <td>651.0</td>\n",
              "      <td>372.0</td>\n",
              "      <td>NaN</td>\n",
              "    </tr>\n",
              "    <tr>\n",
              "      <th>1987</th>\n",
              "      <td>33.5</td>\n",
              "      <td>502.0</td>\n",
              "      <td>565.5</td>\n",
              "      <td>724.5</td>\n",
              "      <td>422.0</td>\n",
              "      <td>NaN</td>\n",
              "    </tr>\n",
              "    <tr>\n",
              "      <th>1988</th>\n",
              "      <td>30.0</td>\n",
              "      <td>472.0</td>\n",
              "      <td>557.5</td>\n",
              "      <td>724.0</td>\n",
              "      <td>356.0</td>\n",
              "      <td>NaN</td>\n",
              "    </tr>\n",
              "    <tr>\n",
              "      <th>1989</th>\n",
              "      <td>31.5</td>\n",
              "      <td>491.5</td>\n",
              "      <td>569.0</td>\n",
              "      <td>692.5</td>\n",
              "      <td>354.5</td>\n",
              "      <td>NaN</td>\n",
              "    </tr>\n",
              "  </tbody>\n",
              "</table>\n",
              "</div>"
            ],
            "text/plain": [
              "age   5-14 years  15-24 years  25-34 years  35-54 years  55-74 years  +75 years\n",
              "year                                                                           \n",
              "1985        38.0        470.5        530.0        653.5        341.5        NaN\n",
              "1986        31.0        508.0        505.5        651.0        372.0        NaN\n",
              "1987        33.5        502.0        565.5        724.5        422.0        NaN\n",
              "1988        30.0        472.0        557.5        724.0        356.0        NaN\n",
              "1989        31.5        491.5        569.0        692.5        354.5        NaN"
            ]
          },
          "metadata": {},
          "execution_count": 166
        }
      ]
    },
    {
      "cell_type": "markdown",
      "metadata": {
        "id": "-96HazCZEFEI"
      },
      "source": [
        "**Gráfico**"
      ]
    },
    {
      "cell_type": "code",
      "metadata": {
        "colab": {
          "base_uri": "https://localhost:8080/",
          "height": 536
        },
        "id": "MTn0cM_WD2Yt",
        "outputId": "175a0e6b-d529-483c-aea1-de8acb25b04b"
      },
      "source": [
        "tabela.plot.bar(stacked=True,figsize=(16,8))\n",
        "plt.legend(title='Idade')\n",
        "plt.xlabel(' ')\n",
        "plt.title(' Suicídio por faixa etária',fontsize=21);"
      ],
      "execution_count": 167,
      "outputs": [
        {
          "output_type": "display_data",
          "data": {
            "image/png": "[encoded data removed]",
            "text/plain": [
              "<Figure size 1152x576 with 1 Axes>"
            ]
          },
          "metadata": {
            "needs_background": "light"
          }
        }
      ]
    },
    {
      "cell_type": "code",
      "metadata": {
        "id": "9bgFbRLFLGGY"
      },
      "source": [
        "cor=[\"#f781df\",\"#8581f7\"]"
      ],
      "execution_count": 168,
      "outputs": []
    },
    {
      "cell_type": "code",
      "metadata": {
        "colab": {
          "base_uri": "https://localhost:8080/",
          "height": 379
        },
        "id": "3L3otViMLBaw",
        "outputId": "659c5b36-3084-450d-ca06-9165a9ca8bd4"
      },
      "source": [
        "generos = df_suicidio_brasil.groupby('sex').suicides_no.sum() / df_suicidio_brasil.groupby('sex').suicides_no.sum().sum()\n",
        "fig = plt.figure(figsize=(6,6))\n",
        "plt.pie(generos, labels=['MULHERES', 'HOMENS'], colors=cor, autopct='%1.1f%%', shadow = True, startangle=90)\n",
        "plt.title('Número de suicídio por gênero (1985 - 2015)', fontsize=19);"
      ],
      "execution_count": 169,
      "outputs": [
        {
          "output_type": "display_data",
          "data": {
            "image/png": "[encoded data removed]",
            "text/plain": [
              "<Figure size 432x432 with 1 Axes>"
            ]
          },
          "metadata": {}
        }
      ]
    },
    {
      "cell_type": "markdown",
      "source": [
        "**Suicidio no Brasil X Mundo**"
      ],
      "metadata": {
        "id": "K0Q3Scu0Y6WH"
      }
    },
    {
      "cell_type": "code",
      "source": [
        "anos = df_suicidio_brasil.year.unique()\n",
        "suicidio_brasil_media = df_suicidio_brasil.groupby('year')['suicides/100k pop'].mean()\n",
        "suicidio_mundial_media = df_suicidio.groupby('year')['suicides/100k pop'].mean()\n",
        "gdp_media_mundo = df_suicidio.groupby('year')['gdp_per_capita ($)'].mean()\n",
        "gdp_media_brasil = df_suicidio_brasil.groupby('year')['gdp_per_capita ($)'].mean()\n",
        "\n",
        "suicidio_mundial_media.drop(2016, inplace=True)\n",
        "\n",
        "fig = plt.figure(figsize=(15,5))\n",
        "ax = sns.lineplot(x=anos,y=suicidio_mundial_media, label='Mundial', color='black')\n",
        "ax = sns.lineplot(x=anos, y = suicidio_brasil_media, label='Brasil', color='red')\n",
        "plt.title('Média de suicídio (Brasil X Mundo)', fontsize=19)\n",
        "plt.ylabel('casos de suicidio a cada 100 mil pessoas',fontsize=13)"
      ],
      "metadata": {
        "colab": {
          "base_uri": "https://localhost:8080/",
          "height": 358
        },
        "id": "4P-JtR2DYRTe",
        "outputId": "66097e26-e102-4fc3-d75b-a404cd7b73b5"
      },
      "execution_count": 185,
      "outputs": [
        {
          "output_type": "execute_result",
          "data": {
            "text/plain": [
              "Text(0, 0.5, 'casos de suicidio a cada 100 mil pessoas')"
            ]
          },
          "metadata": {},
          "execution_count": 185
        },
        {
          "output_type": "display_data",
          "data": {
            "image/png": "[encoded data removed]",
            "text/plain": [
              "<Figure size 1080x360 with 1 Axes>"
            ]
          },
          "metadata": {
            "needs_background": "light"
          }
        }
      ]
    },
    {
      "cell_type": "code",
      "source": [
        ""
      ],
      "metadata": {
        "id": "SZYWArKOZMMG"
      },
      "execution_count": null,
      "outputs": []
    }
  ]
}