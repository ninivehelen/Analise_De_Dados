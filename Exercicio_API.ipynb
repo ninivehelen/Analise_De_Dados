{
  "nbformat": 4,
  "nbformat_minor": 0,
  "metadata": {
    "colab": {
      "name": "Exercicio_API.ipynb",
      "provenance": [],
      "collapsed_sections": [],
      "authorship_tag": "ABX9TyOp8yNxCjlFNEF1tZzCLYh2",
      "include_colab_link": true
    },
    "kernelspec": {
      "name": "python3",
      "display_name": "Python 3"
    },
    "language_info": {
      "name": "python"
    }
  },
  "cells": [
    {
      "cell_type": "markdown",
      "metadata": {
        "id": "view-in-github",
        "colab_type": "text"
      },
      "source": [
        "<a href=\"https://colab.research.google.com/github/ninivehelen/Analise_De_Dados/blob/master/Exercicio_API.ipynb\" target=\"_parent\"><img src=\"https://colab.research.google.com/assets/colab-badge.svg\" alt=\"Open In Colab\"/></a>"
      ]
    },
    {
      "cell_type": "markdown",
      "metadata": {
        "id": "w1qJV3J7-KST"
      },
      "source": [
        "**Exercicio API**\n",
        "\n"
      ]
    },
    {
      "cell_type": "markdown",
      "metadata": {
        "id": "4Ag66OFXGx71"
      },
      "source": [
        "**Artista top 1 mais ouvido na  Espanha**"
      ]
    },
    {
      "cell_type": "code",
      "metadata": {
        "colab": {
          "base_uri": "https://localhost:8080/"
        },
        "id": "PxKV6OVE_ksH",
        "outputId": "81bc6ff2-5f58-44ec-e255-c99a9f1979e1"
      },
      "source": [
        "pip install jason"
      ],
      "execution_count": null,
      "outputs": [
        {
          "output_type": "stream",
          "name": "stdout",
          "text": [
            "Collecting jason\n",
            "  Downloading jason-0.1.7.tar.gz (2.4 kB)\n",
            "Building wheels for collected packages: jason\n",
            "  Building wheel for jason (setup.py) ... \u001b[?25l\u001b[?25hdone\n",
            "  Created wheel for jason: filename=jason-0.1.7-py3-none-any.whl size=2636 sha256=ad0e57cc63a1c26554dc7916394d57c80ccbbcdec7d2a1cbcd4f77750a263d21\n",
            "  Stored in directory: /root/.cache/pip/wheels/1a/5d/55/8051c6e467334036591b7c685a996d635e2cd3620cd52557d1\n",
            "Successfully built jason\n",
            "Installing collected packages: jason\n",
            "Successfully installed jason-0.1.7\n"
          ]
        }
      ]
    },
    {
      "cell_type": "markdown",
      "metadata": {
        "id": "vd55PzY56z3L"
      },
      "source": [
        "**Importando bibliotecas**"
      ]
    },
    {
      "cell_type": "code",
      "metadata": {
        "id": "_bdSQWuQ-BLm"
      },
      "source": [
        "import json \n",
        "import requests \n",
        "import pandas as pd"
      ],
      "execution_count": null,
      "outputs": []
    },
    {
      "cell_type": "markdown",
      "metadata": {
        "id": "V8Ktm7lb62Sw"
      },
      "source": [
        "**#Fazendo requisição na pagina**\n",
        "**# Criando o dataFrame dos artistas mais ouvidos na espanha**\n"
      ]
    },
    {
      "cell_type": "code",
      "metadata": {
        "colab": {
          "base_uri": "https://localhost:8080/",
          "height": 224
        },
        "id": "MmXGbXg9_gHe",
        "outputId": "76b70382-0fff-4cd2-affa-cc39966848bd"
      },
      "source": [
        "url = \"http://ws.audioscrobbler.com/2.0/?method=geo.gettopartists&country=spain&api_key=........&format=json\"\n",
        "data = requests.get(url).text\n",
        "data = json.loads(data)\n",
        "print(type(data))\n",
        "artist_name = [] # lista para adicionar o nome dos artistas\n",
        "artist_listeners = [] # lista para adicionar o numero de vezes que foi ouvido\n",
        "for i in data['topartists']['artist']: # For para conseguir a lista de todos os artistas top espanha\n",
        "    artist_name.append(i['name'])  # Adicionando a lista\n",
        "    artist_listeners.append(int(i['listeners'])) # Adicionando a lista\n",
        "\n",
        "df = pd.DataFrame({'name': artist_name, 'listeners': artist_listeners})   # Criando dataframe\n",
        "df.sort_values(by='listeners', ascending=False).head(5) # Ordenando em ordem crescente # Mostrando apenas os 5 primeiros já que a lista é grande\n"
      ],
      "execution_count": null,
      "outputs": [
        {
          "output_type": "stream",
          "name": "stdout",
          "text": [
            "<class 'dict'>\n"
          ]
        },
        {
          "output_type": "execute_result",
          "data": {
            "text/html": [
              "<div>\n",
              "<style scoped>\n",
              "    .dataframe tbody tr th:only-of-type {\n",
              "        vertical-align: middle;\n",
              "    }\n",
              "\n",
              "    .dataframe tbody tr th {\n",
              "        vertical-align: top;\n",
              "    }\n",
              "\n",
              "    .dataframe thead th {\n",
              "        text-align: right;\n",
              "    }\n",
              "</style>\n",
              "<table border=\"1\" class=\"dataframe\">\n",
              "  <thead>\n",
              "    <tr style=\"text-align: right;\">\n",
              "      <th></th>\n",
              "      <th>name</th>\n",
              "      <th>listeners</th>\n",
              "    </tr>\n",
              "  </thead>\n",
              "  <tbody>\n",
              "    <tr>\n",
              "      <th>3</th>\n",
              "      <td>Coldplay</td>\n",
              "      <td>6107775</td>\n",
              "    </tr>\n",
              "    <tr>\n",
              "      <th>33</th>\n",
              "      <td>Rihanna</td>\n",
              "      <td>5307979</td>\n",
              "    </tr>\n",
              "    <tr>\n",
              "      <th>1</th>\n",
              "      <td>Radiohead</td>\n",
              "      <td>5283562</td>\n",
              "    </tr>\n",
              "    <tr>\n",
              "      <th>10</th>\n",
              "      <td>Red Hot Chili Peppers</td>\n",
              "      <td>5086580</td>\n",
              "    </tr>\n",
              "    <tr>\n",
              "      <th>26</th>\n",
              "      <td>The Killers</td>\n",
              "      <td>4931183</td>\n",
              "    </tr>\n",
              "  </tbody>\n",
              "</table>\n",
              "</div>"
            ],
            "text/plain": [
              "                     name  listeners\n",
              "3                Coldplay    6107775\n",
              "33                Rihanna    5307979\n",
              "1               Radiohead    5283562\n",
              "10  Red Hot Chili Peppers    5086580\n",
              "26            The Killers    4931183"
            ]
          },
          "metadata": {},
          "execution_count": 4
        }
      ]
    },
    {
      "cell_type": "code",
      "metadata": {
        "id": "XcNIuhG4_3Yi"
      },
      "source": [
        ""
      ],
      "execution_count": null,
      "outputs": []
    }
  ]
}