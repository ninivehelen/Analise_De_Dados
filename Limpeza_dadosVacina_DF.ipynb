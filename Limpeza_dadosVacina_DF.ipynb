{
  "nbformat": 4,
  "nbformat_minor": 0,
  "metadata": {
    "colab": {
      "name": "Limpeza_dadosVacina_DF.ipynb",
      "provenance": [],
      "mount_file_id": "1Hje8Aotzhrbis_gyLPu95h3ji9aWMEFa",
      "authorship_tag": "ABX9TyMDAmmjQAiRmCqLQsVjWjjZ",
      "include_colab_link": true
    },
    "kernelspec": {
      "name": "python3",
      "display_name": "Python 3"
    },
    "language_info": {
      "name": "python"
    }
  },
  "cells": [
    {
      "cell_type": "markdown",
      "metadata": {
        "id": "view-in-github",
        "colab_type": "text"
      },
      "source": [
        "<a href=\"https://colab.research.google.com/github/ninivehelen/Analise_De_Dados/blob/master/Limpeza_dadosVacina_DF.ipynb\" target=\"_parent\"><img src=\"https://colab.research.google.com/assets/colab-badge.svg\" alt=\"Open In Colab\"/></a>"
      ]
    },
    {
      "cell_type": "markdown",
      "metadata": {
        "id": "vm__7TqdUEEJ"
      },
      "source": [
        "**Limpeza dos dados sobre a vacinação no Distrito Federal(DF)**\n",
        "**dados extraídos do https://dados.gov.br/dataset/covid-19-vacinacao/resource/ef3bd0b8-b605-474b-9ae5-c97390c197a8**\n",
        "\n"
      ]
    },
    {
      "cell_type": "code",
      "metadata": {
        "colab": {
          "base_uri": "https://localhost:8080/"
        },
        "id": "9tl26X74Axhp",
        "outputId": "3611fb4d-0efa-44d7-937f-513bd5a3a30e"
      },
      "source": [
        "from google.colab import drive\n",
        "drive.mount('/content/drive')"
      ],
      "execution_count": 1,
      "outputs": [
        {
          "output_type": "stream",
          "name": "stdout",
          "text": [
            "Drive already mounted at /content/drive; to attempt to forcibly remount, call drive.mount(\"/content/drive\", force_remount=True).\n"
          ]
        }
      ]
    },
    {
      "cell_type": "markdown",
      "metadata": {
        "id": "osC9eHAxU0t5"
      },
      "source": [
        "****Importando bibliotecas**"
      ]
    },
    {
      "cell_type": "code",
      "metadata": {
        "id": "TVnmiKTXBdMY"
      },
      "source": [
        "import pandas as pd\n",
        "import matplotlib.pyplot as plt\n"
      ],
      "execution_count": 2,
      "outputs": []
    },
    {
      "cell_type": "code",
      "metadata": {
        "id": "CrPFPAiJ9ykU"
      },
      "source": [
        "df_vacina = pd.read_csv(\"/content/drive/MyDrive/df_vacina.csv\", sep=\";\")"
      ],
      "execution_count": 3,
      "outputs": []
    },
    {
      "cell_type": "markdown",
      "metadata": {
        "id": "s8s2iSR6U4RQ"
      },
      "source": [
        "**Visualizando os dados**"
      ]
    },
    {
      "cell_type": "code",
      "metadata": {
        "colab": {
          "base_uri": "https://localhost:8080/",
          "height": 573
        },
        "id": "Rn16FzxDAyEQ",
        "outputId": "57b36328-7db6-48f0-8ea1-1e9f5ee68ded"
      },
      "source": [
        "df_vacina.head()"
      ],
      "execution_count": 4,
      "outputs": [
        {
          "output_type": "execute_result",
          "data": {
            "text/html": [
              "<div>\n",
              "<style scoped>\n",
              "    .dataframe tbody tr th:only-of-type {\n",
              "        vertical-align: middle;\n",
              "    }\n",
              "\n",
              "    .dataframe tbody tr th {\n",
              "        vertical-align: top;\n",
              "    }\n",
              "\n",
              "    .dataframe thead th {\n",
              "        text-align: right;\n",
              "    }\n",
              "</style>\n",
              "<table border=\"1\" class=\"dataframe\">\n",
              "  <thead>\n",
              "    <tr style=\"text-align: right;\">\n",
              "      <th></th>\n",
              "      <th>document_id</th>\n",
              "      <th>paciente_id</th>\n",
              "      <th>paciente_idade</th>\n",
              "      <th>paciente_datanascimento</th>\n",
              "      <th>paciente_enumsexobiologico</th>\n",
              "      <th>paciente_racacor_codigo</th>\n",
              "      <th>paciente_racacor_valor</th>\n",
              "      <th>paciente_endereco_coibgemunicipio</th>\n",
              "      <th>paciente_endereco_copais</th>\n",
              "      <th>paciente_endereco_nmmunicipio</th>\n",
              "      <th>paciente_endereco_nmpais</th>\n",
              "      <th>paciente_endereco_uf</th>\n",
              "      <th>paciente_endereco_cep</th>\n",
              "      <th>paciente_nacionalidade_enumnacionalidade</th>\n",
              "      <th>estabelecimento_valor</th>\n",
              "      <th>estabelecimento_razaosocial</th>\n",
              "      <th>estalecimento_nofantasia</th>\n",
              "      <th>estabelecimento_municipio_codigo</th>\n",
              "      <th>estabelecimento_municipio_nome</th>\n",
              "      <th>estabelecimento_uf</th>\n",
              "      <th>vacina_grupoatendimento_codigo</th>\n",
              "      <th>vacina_grupoatendimento_nome</th>\n",
              "      <th>vacina_categoria_codigo</th>\n",
              "      <th>vacina_categoria_nome</th>\n",
              "      <th>vacina_lote</th>\n",
              "      <th>vacina_fabricante_nome</th>\n",
              "      <th>vacina_fabricante_referencia</th>\n",
              "      <th>vacina_dataaplicacao</th>\n",
              "      <th>vacina_descricao_dose</th>\n",
              "      <th>vacina_codigo</th>\n",
              "      <th>vacina_nome</th>\n",
              "      <th>sistema_origem</th>\n",
              "      <th>data_importacao_rnds</th>\n",
              "      <th>id_sistema_origem</th>\n",
              "      <th>vacina_numdose</th>\n",
              "    </tr>\n",
              "  </thead>\n",
              "  <tbody>\n",
              "    <tr>\n",
              "      <th>0</th>\n",
              "      <td>e101d1ea-936c-406f-9c9f-b004432f93cd-i0b0</td>\n",
              "      <td>c5d589c269fdab3e869ac7b00c764f066be88d78de31b9...</td>\n",
              "      <td>27.0</td>\n",
              "      <td>1994-08-18</td>\n",
              "      <td>M</td>\n",
              "      <td>99.0</td>\n",
              "      <td>SEM INFORMACAO</td>\n",
              "      <td>330490.0</td>\n",
              "      <td>10.0</td>\n",
              "      <td>SAO GONCALO</td>\n",
              "      <td>BRASIL</td>\n",
              "      <td>RJ</td>\n",
              "      <td>24445.0</td>\n",
              "      <td>B</td>\n",
              "      <td>11150</td>\n",
              "      <td>UNIDADE BASICA DE SAUDE N 1 ASA SUL</td>\n",
              "      <td>UBS 01 ASA SUL</td>\n",
              "      <td>530010</td>\n",
              "      <td>BRASILIA</td>\n",
              "      <td>DF</td>\n",
              "      <td>201</td>\n",
              "      <td>Pessoas de 18 a 64 anos</td>\n",
              "      <td>2.0</td>\n",
              "      <td>Faixa Etária</td>\n",
              "      <td>217VCD224Z</td>\n",
              "      <td>ASTRAZENECA/FIOCRUZ</td>\n",
              "      <td>Organization/33781055000135</td>\n",
              "      <td>2021-08-20</td>\n",
              "      <td>2ª Dose</td>\n",
              "      <td>85</td>\n",
              "      <td>COVID-19 ASTRAZENECA/FIOCRUZ - COVISHIELD</td>\n",
              "      <td>Novo PNI</td>\n",
              "      <td>2021-08-20T17:11:42.000Z</td>\n",
              "      <td>16341</td>\n",
              "      <td>2</td>\n",
              "    </tr>\n",
              "    <tr>\n",
              "      <th>1</th>\n",
              "      <td>69b3de2d-6bea-47d8-a9f8-6c03d5c72536-i0b0</td>\n",
              "      <td>4d45d5ae1c1ac43788fee2514dc911f02264a044b0ac13...</td>\n",
              "      <td>14.0</td>\n",
              "      <td>2007-01-21</td>\n",
              "      <td>M</td>\n",
              "      <td>1.0</td>\n",
              "      <td>BRANCA</td>\n",
              "      <td>500270.0</td>\n",
              "      <td>10.0</td>\n",
              "      <td>CAMPO GRANDE</td>\n",
              "      <td>BRASIL</td>\n",
              "      <td>MS</td>\n",
              "      <td>79040.0</td>\n",
              "      <td>B</td>\n",
              "      <td>3212033</td>\n",
              "      <td>UNIDADE BASICA DE SAUDE N 4 SAO SEBASTIAO</td>\n",
              "      <td>UBS 4 MORRO AZUL SAO SEBASTIAO</td>\n",
              "      <td>530010</td>\n",
              "      <td>BRASILIA</td>\n",
              "      <td>DF</td>\n",
              "      <td>201</td>\n",
              "      <td>Pessoas de 18 a 64 anos</td>\n",
              "      <td>2.0</td>\n",
              "      <td>Faixa Etária</td>\n",
              "      <td>FG3528</td>\n",
              "      <td>PFIZER</td>\n",
              "      <td>Organization/00394544000851</td>\n",
              "      <td>2021-10-13</td>\n",
              "      <td>2ª Dose</td>\n",
              "      <td>87</td>\n",
              "      <td>COVID-19 PFIZER - COMIRNATY</td>\n",
              "      <td>Novo PNI</td>\n",
              "      <td>2021-10-13T17:11:59.000Z</td>\n",
              "      <td>16341</td>\n",
              "      <td>2</td>\n",
              "    </tr>\n",
              "    <tr>\n",
              "      <th>2</th>\n",
              "      <td>a94ae13a-2ddd-469f-895b-ad5fca115c76-i0b0</td>\n",
              "      <td>9bc8b46ecef729448f4d88a7c8d986579c8bb69d266734...</td>\n",
              "      <td>39.0</td>\n",
              "      <td>1981-12-06</td>\n",
              "      <td>F</td>\n",
              "      <td>3.0</td>\n",
              "      <td>PARDA</td>\n",
              "      <td>530010.0</td>\n",
              "      <td>10.0</td>\n",
              "      <td>BRASILIA</td>\n",
              "      <td>BRASIL</td>\n",
              "      <td>DF</td>\n",
              "      <td>71571.0</td>\n",
              "      <td>B</td>\n",
              "      <td>10634</td>\n",
              "      <td>UNIDADE BASICA DE SAUDE 01 PARANOA</td>\n",
              "      <td>UBS 1 PARANOA</td>\n",
              "      <td>530010</td>\n",
              "      <td>BRASILIA</td>\n",
              "      <td>DF</td>\n",
              "      <td>103</td>\n",
              "      <td>Diabetes Mellitus</td>\n",
              "      <td>1.0</td>\n",
              "      <td>Comorbidades</td>\n",
              "      <td>210121</td>\n",
              "      <td>ASTRAZENECA</td>\n",
              "      <td>Organization/00394544000851</td>\n",
              "      <td>2021-08-17</td>\n",
              "      <td>2ª Dose</td>\n",
              "      <td>89</td>\n",
              "      <td>COVID-19 ASTRAZENECA - ChAdOx1-S</td>\n",
              "      <td>Novo PNI</td>\n",
              "      <td>2021-08-17T13:32:41.000Z</td>\n",
              "      <td>16341</td>\n",
              "      <td>2</td>\n",
              "    </tr>\n",
              "    <tr>\n",
              "      <th>3</th>\n",
              "      <td>6b869ee2-b100-4f4e-9a09-0f87ba9c6c2a-i0b0</td>\n",
              "      <td>fd5549d1162c6068db341458c7cddb0467e932cdaff3fd...</td>\n",
              "      <td>26.0</td>\n",
              "      <td>1995-03-07</td>\n",
              "      <td>M</td>\n",
              "      <td>2.0</td>\n",
              "      <td>PRETA</td>\n",
              "      <td>520490.0</td>\n",
              "      <td>10.0</td>\n",
              "      <td>CAMPOS BELOS</td>\n",
              "      <td>BRASIL</td>\n",
              "      <td>GO</td>\n",
              "      <td>73840.0</td>\n",
              "      <td>B</td>\n",
              "      <td>2779374</td>\n",
              "      <td>UNIDADE BASICA DE SAUDE N 1 DA ESTRUTURAL</td>\n",
              "      <td>UBS 01 ESTRUTURAL</td>\n",
              "      <td>530010</td>\n",
              "      <td>BRASILIA</td>\n",
              "      <td>DF</td>\n",
              "      <td>201</td>\n",
              "      <td>Pessoas de 18 a 64 anos</td>\n",
              "      <td>2.0</td>\n",
              "      <td>Faixa Etária</td>\n",
              "      <td>210388</td>\n",
              "      <td>SINOVAC/BUTANTAN</td>\n",
              "      <td>Organization/61189445000156</td>\n",
              "      <td>2021-10-08</td>\n",
              "      <td>2ª Dose</td>\n",
              "      <td>86</td>\n",
              "      <td>COVID-19 SINOVAC/BUTANTAN - CORONAVAC</td>\n",
              "      <td>Novo PNI</td>\n",
              "      <td>2021-10-08T19:09:46.000Z</td>\n",
              "      <td>16341</td>\n",
              "      <td>2</td>\n",
              "    </tr>\n",
              "    <tr>\n",
              "      <th>4</th>\n",
              "      <td>306e8064-cdc1-45e1-805d-4fc59372830a-i0b0</td>\n",
              "      <td>6838e6bec22aaa7e66ebf1e98007f85a53867af776dd1b...</td>\n",
              "      <td>31.0</td>\n",
              "      <td>1989-12-03</td>\n",
              "      <td>F</td>\n",
              "      <td>3.0</td>\n",
              "      <td>PARDA</td>\n",
              "      <td>530010.0</td>\n",
              "      <td>10.0</td>\n",
              "      <td>BRASILIA</td>\n",
              "      <td>BRASIL</td>\n",
              "      <td>DF</td>\n",
              "      <td>NaN</td>\n",
              "      <td>B</td>\n",
              "      <td>10723</td>\n",
              "      <td>UNIDADE BASICA DE SAUDE N 2 ASA NORTE</td>\n",
              "      <td>UBS 2 ASA NORTE</td>\n",
              "      <td>530010</td>\n",
              "      <td>BRASILIA</td>\n",
              "      <td>DF</td>\n",
              "      <td>201</td>\n",
              "      <td>Pessoas de 18 a 64 anos</td>\n",
              "      <td>2.0</td>\n",
              "      <td>Faixa Etária</td>\n",
              "      <td>31065BD</td>\n",
              "      <td>PFIZER</td>\n",
              "      <td>Organization/00394544000851</td>\n",
              "      <td>2021-10-25</td>\n",
              "      <td>2ª Dose</td>\n",
              "      <td>87</td>\n",
              "      <td>COVID-19 PFIZER - COMIRNATY</td>\n",
              "      <td>Novo PNI</td>\n",
              "      <td>2021-10-25T14:02:02.000Z</td>\n",
              "      <td>16341</td>\n",
              "      <td>2</td>\n",
              "    </tr>\n",
              "  </tbody>\n",
              "</table>\n",
              "</div>"
            ],
            "text/plain": [
              "                                 document_id  ... vacina_numdose\n",
              "0  e101d1ea-936c-406f-9c9f-b004432f93cd-i0b0  ...              2\n",
              "1  69b3de2d-6bea-47d8-a9f8-6c03d5c72536-i0b0  ...              2\n",
              "2  a94ae13a-2ddd-469f-895b-ad5fca115c76-i0b0  ...              2\n",
              "3  6b869ee2-b100-4f4e-9a09-0f87ba9c6c2a-i0b0  ...              2\n",
              "4  306e8064-cdc1-45e1-805d-4fc59372830a-i0b0  ...              2\n",
              "\n",
              "[5 rows x 35 columns]"
            ]
          },
          "metadata": {},
          "execution_count": 4
        }
      ]
    },
    {
      "cell_type": "markdown",
      "metadata": {
        "id": "qtFVcVWNU7Fq"
      },
      "source": [
        "**Descrição dos dados**"
      ]
    },
    {
      "cell_type": "code",
      "metadata": {
        "colab": {
          "base_uri": "https://localhost:8080/",
          "height": 320
        },
        "id": "MhjUWXLnBzmy",
        "outputId": "8b84152b-6ceb-4aa0-9a43-214cdfc3e7d1"
      },
      "source": [
        "df_vacina.describe()"
      ],
      "execution_count": 5,
      "outputs": [
        {
          "output_type": "execute_result",
          "data": {
            "text/html": [
              "<div>\n",
              "<style scoped>\n",
              "    .dataframe tbody tr th:only-of-type {\n",
              "        vertical-align: middle;\n",
              "    }\n",
              "\n",
              "    .dataframe tbody tr th {\n",
              "        vertical-align: top;\n",
              "    }\n",
              "\n",
              "    .dataframe thead th {\n",
              "        text-align: right;\n",
              "    }\n",
              "</style>\n",
              "<table border=\"1\" class=\"dataframe\">\n",
              "  <thead>\n",
              "    <tr style=\"text-align: right;\">\n",
              "      <th></th>\n",
              "      <th>paciente_idade</th>\n",
              "      <th>paciente_racacor_codigo</th>\n",
              "      <th>paciente_endereco_coibgemunicipio</th>\n",
              "      <th>paciente_endereco_copais</th>\n",
              "      <th>paciente_endereco_cep</th>\n",
              "      <th>estabelecimento_valor</th>\n",
              "      <th>estabelecimento_municipio_codigo</th>\n",
              "      <th>vacina_grupoatendimento_codigo</th>\n",
              "      <th>vacina_categoria_codigo</th>\n",
              "      <th>vacina_codigo</th>\n",
              "      <th>id_sistema_origem</th>\n",
              "      <th>vacina_numdose</th>\n",
              "    </tr>\n",
              "  </thead>\n",
              "  <tbody>\n",
              "    <tr>\n",
              "      <th>count</th>\n",
              "      <td>4.133261e+06</td>\n",
              "      <td>4.133261e+06</td>\n",
              "      <td>4.098478e+06</td>\n",
              "      <td>4.098589e+06</td>\n",
              "      <td>3.454101e+06</td>\n",
              "      <td>4.133262e+06</td>\n",
              "      <td>4133262.0</td>\n",
              "      <td>4.133262e+06</td>\n",
              "      <td>4.131754e+06</td>\n",
              "      <td>4.133262e+06</td>\n",
              "      <td>4.133262e+06</td>\n",
              "      <td>4.133262e+06</td>\n",
              "    </tr>\n",
              "    <tr>\n",
              "      <th>mean</th>\n",
              "      <td>4.313339e+01</td>\n",
              "      <td>4.226944e+01</td>\n",
              "      <td>5.068851e+05</td>\n",
              "      <td>1.000116e+01</td>\n",
              "      <td>6.978292e+04</td>\n",
              "      <td>2.178688e+06</td>\n",
              "      <td>530010.0</td>\n",
              "      <td>3.356056e+03</td>\n",
              "      <td>3.429441e+00</td>\n",
              "      <td>8.619961e+01</td>\n",
              "      <td>1.634287e+04</td>\n",
              "      <td>2.929772e+00</td>\n",
              "    </tr>\n",
              "    <tr>\n",
              "      <th>std</th>\n",
              "      <td>1.788981e+01</td>\n",
              "      <td>4.747313e+01</td>\n",
              "      <td>7.571144e+04</td>\n",
              "      <td>4.799356e-01</td>\n",
              "      <td>9.998875e+03</td>\n",
              "      <td>3.449518e+06</td>\n",
              "      <td>0.0</td>\n",
              "      <td>5.518447e+04</td>\n",
              "      <td>7.505594e+00</td>\n",
              "      <td>1.003460e+00</td>\n",
              "      <td>6.504907e+01</td>\n",
              "      <td>7.070552e+00</td>\n",
              "    </tr>\n",
              "    <tr>\n",
              "      <th>min</th>\n",
              "      <td>0.000000e+00</td>\n",
              "      <td>1.000000e+00</td>\n",
              "      <td>1.100010e+05</td>\n",
              "      <td>1.000000e+01</td>\n",
              "      <td>0.000000e+00</td>\n",
              "      <td>1.045600e+04</td>\n",
              "      <td>530010.0</td>\n",
              "      <td>0.000000e+00</td>\n",
              "      <td>1.000000e+00</td>\n",
              "      <td>8.500000e+01</td>\n",
              "      <td>1.634100e+04</td>\n",
              "      <td>1.000000e+00</td>\n",
              "    </tr>\n",
              "    <tr>\n",
              "      <th>25%</th>\n",
              "      <td>2.900000e+01</td>\n",
              "      <td>3.000000e+00</td>\n",
              "      <td>5.300100e+05</td>\n",
              "      <td>1.000000e+01</td>\n",
              "      <td>7.109000e+04</td>\n",
              "      <td>1.089800e+04</td>\n",
              "      <td>530010.0</td>\n",
              "      <td>2.010000e+02</td>\n",
              "      <td>2.000000e+00</td>\n",
              "      <td>8.500000e+01</td>\n",
              "      <td>1.634100e+04</td>\n",
              "      <td>1.000000e+00</td>\n",
              "    </tr>\n",
              "    <tr>\n",
              "      <th>50%</th>\n",
              "      <td>4.200000e+01</td>\n",
              "      <td>4.000000e+00</td>\n",
              "      <td>5.300100e+05</td>\n",
              "      <td>1.000000e+01</td>\n",
              "      <td>7.213000e+04</td>\n",
              "      <td>1.115000e+04</td>\n",
              "      <td>530010.0</td>\n",
              "      <td>2.010000e+02</td>\n",
              "      <td>2.000000e+00</td>\n",
              "      <td>8.600000e+01</td>\n",
              "      <td>1.634100e+04</td>\n",
              "      <td>1.000000e+00</td>\n",
              "    </tr>\n",
              "    <tr>\n",
              "      <th>75%</th>\n",
              "      <td>5.600000e+01</td>\n",
              "      <td>9.900000e+01</td>\n",
              "      <td>5.300100e+05</td>\n",
              "      <td>1.000000e+01</td>\n",
              "      <td>7.246500e+04</td>\n",
              "      <td>3.742873e+06</td>\n",
              "      <td>530010.0</td>\n",
              "      <td>2.040000e+02</td>\n",
              "      <td>2.000000e+00</td>\n",
              "      <td>8.700000e+01</td>\n",
              "      <td>1.634100e+04</td>\n",
              "      <td>2.000000e+00</td>\n",
              "    </tr>\n",
              "    <tr>\n",
              "      <th>max</th>\n",
              "      <td>1.210000e+02</td>\n",
              "      <td>9.900000e+01</td>\n",
              "      <td>9.999990e+05</td>\n",
              "      <td>3.560000e+02</td>\n",
              "      <td>9.999900e+04</td>\n",
              "      <td>9.768637e+06</td>\n",
              "      <td>530010.0</td>\n",
              "      <td>9.999990e+05</td>\n",
              "      <td>1.140000e+02</td>\n",
              "      <td>8.900000e+01</td>\n",
              "      <td>1.860200e+04</td>\n",
              "      <td>3.800000e+01</td>\n",
              "    </tr>\n",
              "  </tbody>\n",
              "</table>\n",
              "</div>"
            ],
            "text/plain": [
              "       paciente_idade  ...  vacina_numdose\n",
              "count    4.133261e+06  ...    4.133262e+06\n",
              "mean     4.313339e+01  ...    2.929772e+00\n",
              "std      1.788981e+01  ...    7.070552e+00\n",
              "min      0.000000e+00  ...    1.000000e+00\n",
              "25%      2.900000e+01  ...    1.000000e+00\n",
              "50%      4.200000e+01  ...    1.000000e+00\n",
              "75%      5.600000e+01  ...    2.000000e+00\n",
              "max      1.210000e+02  ...    3.800000e+01\n",
              "\n",
              "[8 rows x 12 columns]"
            ]
          },
          "metadata": {},
          "execution_count": 5
        }
      ]
    },
    {
      "cell_type": "markdown",
      "metadata": {
        "id": "k4Ukz7r4U-n6"
      },
      "source": [
        "**Verificando o tipo dos dados**"
      ]
    },
    {
      "cell_type": "code",
      "metadata": {
        "colab": {
          "base_uri": "https://localhost:8080/"
        },
        "id": "rPD_q_MBCQ2t",
        "outputId": "c8017a8d-8ca0-4489-88d5-2b8cec8cc039"
      },
      "source": [
        "df_vacina.dtypes"
      ],
      "execution_count": 6,
      "outputs": [
        {
          "output_type": "execute_result",
          "data": {
            "text/plain": [
              "document_id                                  object\n",
              "paciente_id                                  object\n",
              "paciente_idade                              float64\n",
              "paciente_datanascimento                      object\n",
              "paciente_enumsexobiologico                   object\n",
              "paciente_racacor_codigo                     float64\n",
              "paciente_racacor_valor                       object\n",
              "paciente_endereco_coibgemunicipio           float64\n",
              "paciente_endereco_copais                    float64\n",
              "paciente_endereco_nmmunicipio                object\n",
              "paciente_endereco_nmpais                     object\n",
              "paciente_endereco_uf                         object\n",
              "paciente_endereco_cep                       float64\n",
              "paciente_nacionalidade_enumnacionalidade     object\n",
              "estabelecimento_valor                         int64\n",
              "estabelecimento_razaosocial                  object\n",
              "estalecimento_nofantasia                     object\n",
              "estabelecimento_municipio_codigo              int64\n",
              "estabelecimento_municipio_nome               object\n",
              "estabelecimento_uf                           object\n",
              "vacina_grupoatendimento_codigo                int64\n",
              "vacina_grupoatendimento_nome                 object\n",
              "vacina_categoria_codigo                     float64\n",
              "vacina_categoria_nome                        object\n",
              "vacina_lote                                  object\n",
              "vacina_fabricante_nome                       object\n",
              "vacina_fabricante_referencia                 object\n",
              "vacina_dataaplicacao                         object\n",
              "vacina_descricao_dose                        object\n",
              "vacina_codigo                                 int64\n",
              "vacina_nome                                  object\n",
              "sistema_origem                               object\n",
              "data_importacao_rnds                         object\n",
              "id_sistema_origem                             int64\n",
              "vacina_numdose                                int64\n",
              "dtype: object"
            ]
          },
          "metadata": {},
          "execution_count": 6
        }
      ]
    },
    {
      "cell_type": "markdown",
      "metadata": {
        "id": "nCTstqcCVC2f"
      },
      "source": [
        "**Verificando dados nulos**"
      ]
    },
    {
      "cell_type": "code",
      "metadata": {
        "colab": {
          "base_uri": "https://localhost:8080/"
        },
        "id": "A8yJl6ufB6pU",
        "outputId": "4efa4454-de28-4db8-e9fb-5cdcbd1eb254"
      },
      "source": [
        "df_vacina.isnull().sum()"
      ],
      "execution_count": 7,
      "outputs": [
        {
          "output_type": "execute_result",
          "data": {
            "text/plain": [
              "document_id                                      0\n",
              "paciente_id                                      1\n",
              "paciente_idade                                   1\n",
              "paciente_datanascimento                          1\n",
              "paciente_enumsexobiologico                       1\n",
              "paciente_racacor_codigo                          1\n",
              "paciente_racacor_valor                           1\n",
              "paciente_endereco_coibgemunicipio            34784\n",
              "paciente_endereco_copais                     34673\n",
              "paciente_endereco_nmmunicipio                34743\n",
              "paciente_endereco_nmpais                     34673\n",
              "paciente_endereco_uf                         34784\n",
              "paciente_endereco_cep                       679161\n",
              "paciente_nacionalidade_enumnacionalidade      2403\n",
              "estabelecimento_valor                            0\n",
              "estabelecimento_razaosocial                      0\n",
              "estalecimento_nofantasia                         0\n",
              "estabelecimento_municipio_codigo                 0\n",
              "estabelecimento_municipio_nome                   0\n",
              "estabelecimento_uf                               0\n",
              "vacina_grupoatendimento_codigo                   0\n",
              "vacina_grupoatendimento_nome                     0\n",
              "vacina_categoria_codigo                       1508\n",
              "vacina_categoria_nome                         1508\n",
              "vacina_lote                                      0\n",
              "vacina_fabricante_nome                           0\n",
              "vacina_fabricante_referencia                  3424\n",
              "vacina_dataaplicacao                             0\n",
              "vacina_descricao_dose                            0\n",
              "vacina_codigo                                    0\n",
              "vacina_nome                                      0\n",
              "sistema_origem                                   0\n",
              "data_importacao_rnds                             0\n",
              "id_sistema_origem                                0\n",
              "vacina_numdose                                   0\n",
              "dtype: int64"
            ]
          },
          "metadata": {},
          "execution_count": 7
        }
      ]
    },
    {
      "cell_type": "markdown",
      "metadata": {
        "id": "tw4o2-B3VGzY"
      },
      "source": [
        "**Apagando alguns dados nulos **"
      ]
    },
    {
      "cell_type": "code",
      "metadata": {
        "id": "5XmaBZCYDJS0"
      },
      "source": [
        "df_vacina = df_vacina.dropna(subset = [\"paciente_id\"])"
      ],
      "execution_count": 10,
      "outputs": []
    },
    {
      "cell_type": "markdown",
      "metadata": {
        "id": "-QjUnQAHVJ5g"
      },
      "source": [
        "**Verificando novamente dados nulos**"
      ]
    },
    {
      "cell_type": "code",
      "metadata": {
        "colab": {
          "base_uri": "https://localhost:8080/"
        },
        "id": "_8JD6KEMSEF6",
        "outputId": "02056349-1f04-4ce8-e870-103b912d682b"
      },
      "source": [
        "df_vacina.isnull().sum()"
      ],
      "execution_count": 16,
      "outputs": [
        {
          "output_type": "execute_result",
          "data": {
            "text/plain": [
              "document_id                                      0\n",
              "paciente_id                                      0\n",
              "paciente_idade                                   0\n",
              "paciente_datanascimento                          0\n",
              "paciente_enumsexobiologico                       0\n",
              "paciente_racacor_codigo                          0\n",
              "paciente_racacor_valor                           0\n",
              "paciente_endereco_coibgemunicipio            34783\n",
              "paciente_endereco_copais                     34672\n",
              "paciente_endereco_nmmunicipio                34742\n",
              "paciente_endereco_nmpais                     34672\n",
              "paciente_endereco_uf                         34783\n",
              "paciente_endereco_cep                       679160\n",
              "paciente_nacionalidade_enumnacionalidade      2402\n",
              "estabelecimento_valor                            0\n",
              "estabelecimento_razaosocial                      0\n",
              "estalecimento_nofantasia                         0\n",
              "estabelecimento_municipio_codigo                 0\n",
              "estabelecimento_municipio_nome                   0\n",
              "estabelecimento_uf                               0\n",
              "vacina_grupoatendimento_codigo                   0\n",
              "vacina_grupoatendimento_nome                     0\n",
              "vacina_categoria_codigo                       1508\n",
              "vacina_categoria_nome                            0\n",
              "vacina_lote                                      0\n",
              "vacina_fabricante_nome                           0\n",
              "vacina_fabricante_referencia                     0\n",
              "vacina_dataaplicacao                             0\n",
              "vacina_descricao_dose                            0\n",
              "vacina_codigo                                    0\n",
              "vacina_nome                                      0\n",
              "sistema_origem                                   0\n",
              "data_importacao_rnds                             0\n",
              "id_sistema_origem                                0\n",
              "vacina_numdose                                   0\n",
              "dtype: int64"
            ]
          },
          "metadata": {},
          "execution_count": 16
        }
      ]
    },
    {
      "cell_type": "markdown",
      "metadata": {
        "id": "u68duxDuVNEK"
      },
      "source": [
        "**Colocando informaçao de \"nao informado\" em dados faltantes que não são numericos**"
      ]
    },
    {
      "cell_type": "code",
      "metadata": {
        "id": "HbxHcXT4QH39"
      },
      "source": [
        "df_vacina.fillna(\"Não informado\", inplace = True)"
      ],
      "execution_count": 17,
      "outputs": []
    },
    {
      "cell_type": "code",
      "metadata": {
        "colab": {
          "base_uri": "https://localhost:8080/"
        },
        "id": "JbWeNoGjQYUx",
        "outputId": "e1224301-97bb-4191-cd97-e06de574e017"
      },
      "source": [
        "df_vacina.isnull().sum()"
      ],
      "execution_count": 18,
      "outputs": [
        {
          "output_type": "execute_result",
          "data": {
            "text/plain": [
              "document_id                                 0\n",
              "paciente_id                                 0\n",
              "paciente_idade                              0\n",
              "paciente_datanascimento                     0\n",
              "paciente_enumsexobiologico                  0\n",
              "paciente_racacor_codigo                     0\n",
              "paciente_racacor_valor                      0\n",
              "paciente_endereco_coibgemunicipio           0\n",
              "paciente_endereco_copais                    0\n",
              "paciente_endereco_nmmunicipio               0\n",
              "paciente_endereco_nmpais                    0\n",
              "paciente_endereco_uf                        0\n",
              "paciente_endereco_cep                       0\n",
              "paciente_nacionalidade_enumnacionalidade    0\n",
              "estabelecimento_valor                       0\n",
              "estabelecimento_razaosocial                 0\n",
              "estalecimento_nofantasia                    0\n",
              "estabelecimento_municipio_codigo            0\n",
              "estabelecimento_municipio_nome              0\n",
              "estabelecimento_uf                          0\n",
              "vacina_grupoatendimento_codigo              0\n",
              "vacina_grupoatendimento_nome                0\n",
              "vacina_categoria_codigo                     0\n",
              "vacina_categoria_nome                       0\n",
              "vacina_lote                                 0\n",
              "vacina_fabricante_nome                      0\n",
              "vacina_fabricante_referencia                0\n",
              "vacina_dataaplicacao                        0\n",
              "vacina_descricao_dose                       0\n",
              "vacina_codigo                               0\n",
              "vacina_nome                                 0\n",
              "sistema_origem                              0\n",
              "data_importacao_rnds                        0\n",
              "id_sistema_origem                           0\n",
              "vacina_numdose                              0\n",
              "dtype: int64"
            ]
          },
          "metadata": {},
          "execution_count": 18
        }
      ]
    },
    {
      "cell_type": "markdown",
      "metadata": {
        "id": "_ArzJTtTVUov"
      },
      "source": [
        "**Verificando se há dados duplicados**"
      ]
    },
    {
      "cell_type": "code",
      "metadata": {
        "colab": {
          "base_uri": "https://localhost:8080/"
        },
        "id": "5aS_DOQ3R1qk",
        "outputId": "ef5b9631-1336-4e2d-e6ff-8a9ae7c5a5c4"
      },
      "source": [
        "df_vacina.duplicated().sum()"
      ],
      "execution_count": 21,
      "outputs": [
        {
          "output_type": "execute_result",
          "data": {
            "text/plain": [
              "0"
            ]
          },
          "metadata": {},
          "execution_count": 21
        }
      ]
    },
    {
      "cell_type": "code",
      "metadata": {
        "id": "M8y_K6pZTfGq"
      },
      "source": [
        ""
      ],
      "execution_count": null,
      "outputs": []
    }
  ]
}