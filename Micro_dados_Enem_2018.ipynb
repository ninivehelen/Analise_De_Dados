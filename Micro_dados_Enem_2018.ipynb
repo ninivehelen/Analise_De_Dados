{
  "nbformat": 4,
  "nbformat_minor": 0,
  "metadata": {
    "colab": {
      "name": "Cópia de Micro_dados_enem_2018.ipynb",
      "provenance": [],
      "collapsed_sections": [],
      "mount_file_id": "1XJ6fIyQZ4arduSatm8X4f2Lz2BjstJ0x",
      "authorship_tag": "ABX9TyNknO4MANW0QXPxyV38/vhl",
      "include_colab_link": true
    },
    "kernelspec": {
      "name": "python3",
      "display_name": "Python 3"
    },
    "language_info": {
      "name": "python"
    }
  },
  "cells": [
    {
      "cell_type": "markdown",
      "metadata": {
        "id": "view-in-github",
        "colab_type": "text"
      },
      "source": [
        "<a href=\"https://colab.research.google.com/github/ninivehelen/Analise_De_Dados/blob/master/Micro_dados_Enem_2018.ipynb\" target=\"_parent\"><img src=\"https://colab.research.google.com/assets/colab-badge.svg\" alt=\"Open In Colab\"/></a>"
      ]
    },
    {
      "cell_type": "markdown",
      "metadata": {
        "id": "mqVqKgQ2eNF4"
      },
      "source": [
        "**Analise De Dados do Enem 2018**"
      ]
    },
    {
      "cell_type": "code",
      "metadata": {
        "id": "SpPrGv2YY2JL"
      },
      "source": [
        "import pandas as pd "
      ],
      "execution_count": 1,
      "outputs": []
    },
    {
      "cell_type": "code",
      "metadata": {
        "id": "J9P452hpsDx4"
      },
      "source": [
        "import matplotlib.pyplot as plt\n"
      ],
      "execution_count": 49,
      "outputs": []
    },
    {
      "cell_type": "code",
      "metadata": {
        "id": "dZSmOM4ubPZh"
      },
      "source": [
        "dados = pd.read_csv(\"/content/drive/MyDrive/Dados/MICRODADOS_ENEM_2018.csv\", sep=\";\", encoding=\"ISO-8859-1\",usecols=[0,1,2,3,4,5,6,7,93,109,110,111])"
      ],
      "execution_count": 17,
      "outputs": []
    },
    {
      "cell_type": "code",
      "metadata": {
        "colab": {
          "base_uri": "https://localhost:8080/",
          "height": 224
        },
        "id": "M4FkPwuvbzVm",
        "outputId": "b87a9cce-8ad0-48bb-835d-0e1c90f102c0"
      },
      "source": [
        "dados.head()"
      ],
      "execution_count": 18,
      "outputs": [
        {
          "output_type": "execute_result",
          "data": {
            "text/html": [
              "<div>\n",
              "<style scoped>\n",
              "    .dataframe tbody tr th:only-of-type {\n",
              "        vertical-align: middle;\n",
              "    }\n",
              "\n",
              "    .dataframe tbody tr th {\n",
              "        vertical-align: top;\n",
              "    }\n",
              "\n",
              "    .dataframe thead th {\n",
              "        text-align: right;\n",
              "    }\n",
              "</style>\n",
              "<table border=\"1\" class=\"dataframe\">\n",
              "  <thead>\n",
              "    <tr style=\"text-align: right;\">\n",
              "      <th></th>\n",
              "      <th>NU_INSCRICAO</th>\n",
              "      <th>NU_ANO</th>\n",
              "      <th>CO_MUNICIPIO_RESIDENCIA</th>\n",
              "      <th>NO_MUNICIPIO_RESIDENCIA</th>\n",
              "      <th>CO_UF_RESIDENCIA</th>\n",
              "      <th>SG_UF_RESIDENCIA</th>\n",
              "      <th>NU_IDADE</th>\n",
              "      <th>TP_SEXO</th>\n",
              "      <th>NU_NOTA_MT</th>\n",
              "      <th>NU_NOTA_REDACAO</th>\n",
              "      <th>Q001</th>\n",
              "      <th>Q002</th>\n",
              "    </tr>\n",
              "  </thead>\n",
              "  <tbody>\n",
              "    <tr>\n",
              "      <th>0</th>\n",
              "      <td>180008202043</td>\n",
              "      <td>2018</td>\n",
              "      <td>5300108</td>\n",
              "      <td>Brasília</td>\n",
              "      <td>53</td>\n",
              "      <td>DF</td>\n",
              "      <td>44.0</td>\n",
              "      <td>M</td>\n",
              "      <td>NaN</td>\n",
              "      <td>NaN</td>\n",
              "      <td>A</td>\n",
              "      <td>A</td>\n",
              "    </tr>\n",
              "    <tr>\n",
              "      <th>1</th>\n",
              "      <td>180007197856</td>\n",
              "      <td>2018</td>\n",
              "      <td>2111102</td>\n",
              "      <td>São João dos Patos</td>\n",
              "      <td>21</td>\n",
              "      <td>MA</td>\n",
              "      <td>23.0</td>\n",
              "      <td>F</td>\n",
              "      <td>480.3</td>\n",
              "      <td>280.0</td>\n",
              "      <td>B</td>\n",
              "      <td>B</td>\n",
              "    </tr>\n",
              "    <tr>\n",
              "      <th>2</th>\n",
              "      <td>180008517434</td>\n",
              "      <td>2018</td>\n",
              "      <td>3530607</td>\n",
              "      <td>Mogi das Cruzes</td>\n",
              "      <td>35</td>\n",
              "      <td>SP</td>\n",
              "      <td>23.0</td>\n",
              "      <td>F</td>\n",
              "      <td>NaN</td>\n",
              "      <td>NaN</td>\n",
              "      <td>E</td>\n",
              "      <td>E</td>\n",
              "    </tr>\n",
              "    <tr>\n",
              "      <th>3</th>\n",
              "      <td>180007661228</td>\n",
              "      <td>2018</td>\n",
              "      <td>2916401</td>\n",
              "      <td>Itapetinga</td>\n",
              "      <td>29</td>\n",
              "      <td>BA</td>\n",
              "      <td>26.0</td>\n",
              "      <td>F</td>\n",
              "      <td>NaN</td>\n",
              "      <td>NaN</td>\n",
              "      <td>B</td>\n",
              "      <td>C</td>\n",
              "    </tr>\n",
              "    <tr>\n",
              "      <th>4</th>\n",
              "      <td>180008787987</td>\n",
              "      <td>2018</td>\n",
              "      <td>2918100</td>\n",
              "      <td>Jeremoabo</td>\n",
              "      <td>29</td>\n",
              "      <td>BA</td>\n",
              "      <td>20.0</td>\n",
              "      <td>M</td>\n",
              "      <td>NaN</td>\n",
              "      <td>360.0</td>\n",
              "      <td>C</td>\n",
              "      <td>E</td>\n",
              "    </tr>\n",
              "  </tbody>\n",
              "</table>\n",
              "</div>"
            ],
            "text/plain": [
              "   NU_INSCRICAO  NU_ANO  CO_MUNICIPIO_RESIDENCIA  ... NU_NOTA_REDACAO  Q001 Q002\n",
              "0  180008202043    2018                  5300108  ...             NaN     A    A\n",
              "1  180007197856    2018                  2111102  ...           280.0     B    B\n",
              "2  180008517434    2018                  3530607  ...             NaN     E    E\n",
              "3  180007661228    2018                  2916401  ...             NaN     B    C\n",
              "4  180008787987    2018                  2918100  ...           360.0     C    E\n",
              "\n",
              "[5 rows x 12 columns]"
            ]
          },
          "metadata": {
            "tags": []
          },
          "execution_count": 18
        }
      ]
    },
    {
      "cell_type": "markdown",
      "metadata": {
        "id": "ATQUWrkkgEZ4"
      },
      "source": [
        "**Descrição dos dados da coluna**"
      ]
    },
    {
      "cell_type": "code",
      "metadata": {
        "colab": {
          "base_uri": "https://localhost:8080/"
        },
        "id": "5igMkIN7fsZY",
        "outputId": "dda54db7-8c4b-4046-873c-e9905a85f5f8"
      },
      "source": [
        "dados.columns.values"
      ],
      "execution_count": null,
      "outputs": [
        {
          "output_type": "execute_result",
          "data": {
            "text/plain": [
              "array(['NU_INSCRICAO', 'NU_ANO', 'CO_MUNICIPIO_RESIDENCIA',\n",
              "       'NO_MUNICIPIO_RESIDENCIA', 'CO_UF_RESIDENCIA', 'SG_UF_RESIDENCIA',\n",
              "       'NU_IDADE', 'TP_SEXO', 'NU_NOTA_MT', 'NU_NOTA_REDACAO', 'Q001',\n",
              "       'Q002'], dtype=object)"
            ]
          },
          "metadata": {
            "tags": []
          },
          "execution_count": 8
        }
      ]
    },
    {
      "cell_type": "markdown",
      "metadata": {
        "id": "5yKjegkog-t4"
      },
      "source": [
        "**Filtrando dados do municipio Residencia**"
      ]
    },
    {
      "cell_type": "code",
      "metadata": {
        "id": "rVCsn7LtgL0r"
      },
      "source": [
        "dados_enem_municipio_residencia = dados['NO_MUNICIPIO_RESIDENCIA']"
      ],
      "execution_count": null,
      "outputs": []
    },
    {
      "cell_type": "markdown",
      "metadata": {
        "id": "2xIkDF2kiq8f"
      },
      "source": [
        "**Total de Candidatos por Municipio**"
      ]
    },
    {
      "cell_type": "code",
      "metadata": {
        "colab": {
          "base_uri": "https://localhost:8080/"
        },
        "id": "3BgQjU-EgMOv",
        "outputId": "700bc34a-1ce0-4167-adc8-7f67e7b3ed6d"
      },
      "source": [
        "dados_enem_municipio_residencia.value_counts().head(60)"
      ],
      "execution_count": null,
      "outputs": [
        {
          "output_type": "execute_result",
          "data": {
            "text/plain": [
              "São Paulo                  264696\n",
              "Rio de Janeiro             154108\n",
              "Fortaleza                  109617\n",
              "Brasília                   104531\n",
              "Salvador                    93852\n",
              "Manaus                      90204\n",
              "Belo Horizonte              89233\n",
              "Belém                       79500\n",
              "São Luís                    69696\n",
              "Recife                      62285\n",
              "Goiânia                     53797\n",
              "Curitiba                    51145\n",
              "Teresina                    46770\n",
              "João Pessoa                 40036\n",
              "Natal                       36020\n",
              "Maceió                      35178\n",
              "Porto Alegre                33067\n",
              "Campo Grande                30575\n",
              "Guarulhos                   29588\n",
              "Cuiabá                      27269\n",
              "Macapá                      27217\n",
              "Ananindeua                  26862\n",
              "Porto Velho                 26305\n",
              "Aracaju                     26089\n",
              "Rio Branco                  24697\n",
              "Feira de Santana            23579\n",
              "São Gonçalo                 23507\n",
              "Jaboatão dos Guararapes     23501\n",
              "Campinas                    23479\n",
              "Uberlândia                  22381\n",
              "Campina Grande              21772\n",
              "Contagem                    21300\n",
              "Nova Iguaçu                 19614\n",
              "São Bernardo do Campo       18865\n",
              "Duque de Caxias             18749\n",
              "Montes Claros               18439\n",
              "Palmas                      17937\n",
              "Juiz de Fora                17383\n",
              "Serra                       17381\n",
              "Petrolina                   17295\n",
              "São José dos Campos         17184\n",
              "Imperatriz                  17056\n",
              "Osasco                      16992\n",
              "Sorocaba                    16312\n",
              "Santarém                    15793\n",
              "Santo André                 15644\n",
              "Aparecida de Goiânia        15533\n",
              "Niterói                     15187\n",
              "Ribeirão Preto              14687\n",
              "Olinda                      14605\n",
              "Caucaia                     14459\n",
              "Vila Velha                  14421\n",
              "Vitória da Conquista        13506\n",
              "Londrina                    13503\n",
              "Paulista                    13171\n",
              "Betim                       13126\n",
              "Vitória                     13064\n",
              "Pelotas                     13001\n",
              "Florianópolis               12993\n",
              "Juazeiro do Norte           12783\n",
              "Name: NO_MUNICIPIO_RESIDENCIA, dtype: int64"
            ]
          },
          "metadata": {
            "tags": []
          },
          "execution_count": 10
        }
      ]
    },
    {
      "cell_type": "code",
      "metadata": {
        "id": "9Qa1E0YAi3z4"
      },
      "source": [
        "dados_enem_idade = dados['NU_IDADE']"
      ],
      "execution_count": null,
      "outputs": []
    },
    {
      "cell_type": "markdown",
      "metadata": {
        "id": "OXtf5QtIla0P"
      },
      "source": [
        "**Total das idades dos candidatos do Enem**"
      ]
    },
    {
      "cell_type": "code",
      "metadata": {
        "colab": {
          "base_uri": "https://localhost:8080/"
        },
        "id": "oWmul3qWkZ6o",
        "outputId": "4f906d1b-103e-43ff-db96-74e7904b53cf"
      },
      "source": [
        "dados_enem_idade.value_counts().head(50)"
      ],
      "execution_count": null,
      "outputs": [
        {
          "output_type": "execute_result",
          "data": {
            "text/plain": [
              "18.0    928792\n",
              "17.0    878293\n",
              "19.0    617458\n",
              "20.0    424793\n",
              "21.0    325778\n",
              "16.0    308476\n",
              "22.0    254332\n",
              "23.0    208830\n",
              "24.0    171932\n",
              "25.0    143814\n",
              "26.0    119173\n",
              "27.0    103828\n",
              "28.0     89205\n",
              "29.0     83240\n",
              "15.0     75928\n",
              "30.0     74938\n",
              "31.0     66274\n",
              "32.0     60498\n",
              "33.0     55397\n",
              "34.0     50380\n",
              "35.0     47354\n",
              "36.0     45451\n",
              "37.0     41662\n",
              "38.0     36375\n",
              "39.0     33589\n",
              "40.0     29378\n",
              "41.0     26055\n",
              "42.0     23456\n",
              "43.0     20808\n",
              "44.0     19544\n",
              "45.0     17237\n",
              "46.0     16100\n",
              "47.0     14477\n",
              "48.0     12697\n",
              "49.0     11183\n",
              "50.0     10075\n",
              "51.0      8918\n",
              "52.0      7987\n",
              "53.0      7346\n",
              "54.0      6234\n",
              "14.0      5625\n",
              "55.0      5455\n",
              "56.0      4599\n",
              "57.0      3781\n",
              "58.0      3193\n",
              "59.0      2643\n",
              "60.0      2036\n",
              "61.0      1783\n",
              "62.0      1379\n",
              "63.0      1149\n",
              "Name: NU_IDADE, dtype: int64"
            ]
          },
          "metadata": {
            "tags": []
          },
          "execution_count": 12
        }
      ]
    },
    {
      "cell_type": "markdown",
      "metadata": {
        "id": "uZ1mBkO8mlaA"
      },
      "source": [
        "**Histograma da concentração de quem faz enem**"
      ]
    },
    {
      "cell_type": "code",
      "metadata": {
        "colab": {
          "base_uri": "https://localhost:8080/",
          "height": 293
        },
        "id": "LVJ-bz_vmZUK",
        "outputId": "4b39c8d3-7a82-4bb9-e587-a6476519fb0f"
      },
      "source": [
        "dados_enem_idade.hist(bins=30)"
      ],
      "execution_count": null,
      "outputs": [
        {
          "output_type": "execute_result",
          "data": {
            "text/plain": [
              "<matplotlib.axes._subplots.AxesSubplot at 0x7f572329bf10>"
            ]
          },
          "metadata": {
            "tags": []
          },
          "execution_count": 13
        },
        {
          "output_type": "display_data",
          "data": {
            "image/png": "[encoded data removed]",
            "text/plain": [
              "<Figure size 432x288 with 1 Axes>"
            ]
          },
          "metadata": {
            "tags": [],
            "needs_background": "light"
          }
        }
      ]
    },
    {
      "cell_type": "code",
      "metadata": {
        "id": "NUtWaywpmvmo"
      },
      "source": [
        "dados_enem_uf_residencia = dados['SG_UF_RESIDENCIA']"
      ],
      "execution_count": null,
      "outputs": []
    },
    {
      "cell_type": "markdown",
      "metadata": {
        "id": "8r_WiBFhpDO8"
      },
      "source": [
        "**Total da soma dos canditados dos estados**"
      ]
    },
    {
      "cell_type": "code",
      "metadata": {
        "colab": {
          "base_uri": "https://localhost:8080/"
        },
        "id": "jxxGpOQ4mwS5",
        "outputId": "b62d2cae-33a7-48d7-f6a2-3829da43ade0"
      },
      "source": [
        "dados_enem_uf_residencia.value_counts()"
      ],
      "execution_count": null,
      "outputs": [
        {
          "output_type": "execute_result",
          "data": {
            "text/plain": [
              "SP    934174\n",
              "MG    587471\n",
              "BA    401328\n",
              "RJ    382078\n",
              "CE    329406\n",
              "PE    304302\n",
              "PA    283861\n",
              "RS    243555\n",
              "PR    236533\n",
              "MA    218462\n",
              "GO    191029\n",
              "PB    152049\n",
              "RN    124039\n",
              "SC    123933\n",
              "AM    123755\n",
              "PI    118350\n",
              "ES    112173\n",
              "DF    104531\n",
              "MT     96762\n",
              "AL     89670\n",
              "SE     74633\n",
              "MS     72319\n",
              "RO     62266\n",
              "TO     55145\n",
              "AP     40109\n",
              "AC     37785\n",
              "RR     14029\n",
              "Name: SG_UF_RESIDENCIA, dtype: int64"
            ]
          },
          "metadata": {
            "tags": []
          },
          "execution_count": 15
        }
      ]
    },
    {
      "cell_type": "markdown",
      "metadata": {
        "id": "T-iksXwvqHyw"
      },
      "source": [
        "**histograma Total da soma dos canditados dos estados**"
      ]
    },
    {
      "cell_type": "code",
      "metadata": {
        "colab": {
          "base_uri": "https://localhost:8080/",
          "height": 282
        },
        "id": "-YGlxUPomwJh",
        "outputId": "f88e90ce-c6f9-4330-a5d8-ba331a9be0af"
      },
      "source": [
        "dados_enem_uf_residencia.hist(bins=27)"
      ],
      "execution_count": null,
      "outputs": [
        {
          "output_type": "execute_result",
          "data": {
            "text/plain": [
              "<matplotlib.axes._subplots.AxesSubplot at 0x7f572065c850>"
            ]
          },
          "metadata": {
            "tags": []
          },
          "execution_count": 16
        },
        {
          "output_type": "display_data",
          "data": {
            "image/png": "[encoded data removed]",
            "text/plain": [
              "<Figure size 432x288 with 1 Axes>"
            ]
          },
          "metadata": {
            "tags": [],
            "needs_background": "light"
          }
        }
      ]
    },
    {
      "cell_type": "code",
      "metadata": {
        "id": "8GhWd4jimv9X"
      },
      "source": [
        "micro_dados_enem_sexo = dados['TP_SEXO']"
      ],
      "execution_count": null,
      "outputs": []
    },
    {
      "cell_type": "markdown",
      "metadata": {
        "id": "kKhgjR0Irhxe"
      },
      "source": [
        "**Total da soma do sexo dos candidatos do enem**"
      ]
    },
    {
      "cell_type": "code",
      "metadata": {
        "colab": {
          "base_uri": "https://localhost:8080/",
          "height": 295
        },
        "id": "LTigVjkLraDq",
        "outputId": "d927faee-5b73-4fe8-9123-07610ace15b2"
      },
      "source": [
        "micro_dados_enem_sexo.value_counts().plot(kind='barh')"
      ],
      "execution_count": null,
      "outputs": [
        {
          "output_type": "execute_result",
          "data": {
            "text/plain": [
              "<matplotlib.axes._subplots.AxesSubplot at 0x7f5720141c10>"
            ]
          },
          "metadata": {
            "tags": []
          },
          "execution_count": 18
        },
        {
          "output_type": "display_data",
          "data": {
            "image/png": "[encoded data removed]",
            "text/plain": [
              "<Figure size 432x288 with 1 Axes>"
            ]
          },
          "metadata": {
            "tags": [],
            "needs_background": "light"
          }
        }
      ]
    },
    {
      "cell_type": "markdown",
      "metadata": {
        "id": "9dm_RgoEBSRJ"
      },
      "source": [
        "**Selecionando as colunas**"
      ]
    },
    {
      "cell_type": "code",
      "metadata": {
        "id": "491e-7ZdhkdJ"
      },
      "source": [
        "colunas = ['TP_SEXO',\t'NU_NOTA_REDACAO']"
      ],
      "execution_count": null,
      "outputs": []
    },
    {
      "cell_type": "code",
      "metadata": {
        "id": "zUPlqLwNhlgF"
      },
      "source": [
        "micro_dados_enem_redacao = dados.filter(items = colunas)"
      ],
      "execution_count": null,
      "outputs": []
    },
    {
      "cell_type": "markdown",
      "metadata": {
        "id": "zQwU__pHBXsP"
      },
      "source": [
        "**Dados dos candidatos na Redação**"
      ]
    },
    {
      "cell_type": "code",
      "metadata": {
        "colab": {
          "base_uri": "https://localhost:8080/",
          "height": 204
        },
        "id": "d1O7Q2L2hlBp",
        "outputId": "9dadcd56-2aca-4ef3-f70d-5bd6d3000036"
      },
      "source": [
        "micro_dados_enem_redacao.head()"
      ],
      "execution_count": null,
      "outputs": [
        {
          "output_type": "execute_result",
          "data": {
            "text/html": [
              "<div>\n",
              "<style scoped>\n",
              "    .dataframe tbody tr th:only-of-type {\n",
              "        vertical-align: middle;\n",
              "    }\n",
              "\n",
              "    .dataframe tbody tr th {\n",
              "        vertical-align: top;\n",
              "    }\n",
              "\n",
              "    .dataframe thead th {\n",
              "        text-align: right;\n",
              "    }\n",
              "</style>\n",
              "<table border=\"1\" class=\"dataframe\">\n",
              "  <thead>\n",
              "    <tr style=\"text-align: right;\">\n",
              "      <th></th>\n",
              "      <th>TP_SEXO</th>\n",
              "      <th>NU_NOTA_REDACAO</th>\n",
              "    </tr>\n",
              "  </thead>\n",
              "  <tbody>\n",
              "    <tr>\n",
              "      <th>0</th>\n",
              "      <td>M</td>\n",
              "      <td>NaN</td>\n",
              "    </tr>\n",
              "    <tr>\n",
              "      <th>1</th>\n",
              "      <td>F</td>\n",
              "      <td>280.0</td>\n",
              "    </tr>\n",
              "    <tr>\n",
              "      <th>2</th>\n",
              "      <td>F</td>\n",
              "      <td>NaN</td>\n",
              "    </tr>\n",
              "    <tr>\n",
              "      <th>3</th>\n",
              "      <td>F</td>\n",
              "      <td>NaN</td>\n",
              "    </tr>\n",
              "    <tr>\n",
              "      <th>4</th>\n",
              "      <td>M</td>\n",
              "      <td>360.0</td>\n",
              "    </tr>\n",
              "  </tbody>\n",
              "</table>\n",
              "</div>"
            ],
            "text/plain": [
              "  TP_SEXO  NU_NOTA_REDACAO\n",
              "0       M              NaN\n",
              "1       F            280.0\n",
              "2       F              NaN\n",
              "3       F              NaN\n",
              "4       M            360.0"
            ]
          },
          "metadata": {
            "tags": []
          },
          "execution_count": 21
        }
      ]
    },
    {
      "cell_type": "markdown",
      "metadata": {
        "id": "rbFQCZTaBh61"
      },
      "source": [
        "**Limpeza dos dados, removendo dados em brancos**"
      ]
    },
    {
      "cell_type": "code",
      "metadata": {
        "id": "aSS0DrAtp2HX"
      },
      "source": [
        "micro_dados_enem_redacao = micro_dados_enem_redacao.dropna()"
      ],
      "execution_count": null,
      "outputs": []
    },
    {
      "cell_type": "code",
      "metadata": {
        "colab": {
          "base_uri": "https://localhost:8080/",
          "height": 204
        },
        "id": "EYPn9t8gqCOn",
        "outputId": "57e88d01-ecab-449b-8b84-d4197bcf0198"
      },
      "source": [
        "micro_dados_enem_redacao.head()"
      ],
      "execution_count": null,
      "outputs": [
        {
          "output_type": "execute_result",
          "data": {
            "text/html": [
              "<div>\n",
              "<style scoped>\n",
              "    .dataframe tbody tr th:only-of-type {\n",
              "        vertical-align: middle;\n",
              "    }\n",
              "\n",
              "    .dataframe tbody tr th {\n",
              "        vertical-align: top;\n",
              "    }\n",
              "\n",
              "    .dataframe thead th {\n",
              "        text-align: right;\n",
              "    }\n",
              "</style>\n",
              "<table border=\"1\" class=\"dataframe\">\n",
              "  <thead>\n",
              "    <tr style=\"text-align: right;\">\n",
              "      <th></th>\n",
              "      <th>TP_SEXO</th>\n",
              "      <th>NU_NOTA_REDACAO</th>\n",
              "    </tr>\n",
              "  </thead>\n",
              "  <tbody>\n",
              "    <tr>\n",
              "      <th>1</th>\n",
              "      <td>F</td>\n",
              "      <td>280.0</td>\n",
              "    </tr>\n",
              "    <tr>\n",
              "      <th>4</th>\n",
              "      <td>M</td>\n",
              "      <td>360.0</td>\n",
              "    </tr>\n",
              "    <tr>\n",
              "      <th>5</th>\n",
              "      <td>F</td>\n",
              "      <td>580.0</td>\n",
              "    </tr>\n",
              "    <tr>\n",
              "      <th>7</th>\n",
              "      <td>M</td>\n",
              "      <td>680.0</td>\n",
              "    </tr>\n",
              "    <tr>\n",
              "      <th>8</th>\n",
              "      <td>M</td>\n",
              "      <td>340.0</td>\n",
              "    </tr>\n",
              "  </tbody>\n",
              "</table>\n",
              "</div>"
            ],
            "text/plain": [
              "  TP_SEXO  NU_NOTA_REDACAO\n",
              "1       F            280.0\n",
              "4       M            360.0\n",
              "5       F            580.0\n",
              "7       M            680.0\n",
              "8       M            340.0"
            ]
          },
          "metadata": {
            "tags": []
          },
          "execution_count": 23
        }
      ]
    },
    {
      "cell_type": "markdown",
      "metadata": {
        "id": "RDyc9dpfBtgw"
      },
      "source": [
        "**Soma das notas na redação por sexo**"
      ]
    },
    {
      "cell_type": "code",
      "metadata": {
        "colab": {
          "base_uri": "https://localhost:8080/",
          "height": 142
        },
        "id": "BLbmClAqqJcE",
        "outputId": "0c188084-3602-44e6-b838-8be697c4bc4b"
      },
      "source": [
        "micro_dados_enem_redacao.groupby('TP_SEXO').count()"
      ],
      "execution_count": null,
      "outputs": [
        {
          "output_type": "execute_result",
          "data": {
            "text/html": [
              "<div>\n",
              "<style scoped>\n",
              "    .dataframe tbody tr th:only-of-type {\n",
              "        vertical-align: middle;\n",
              "    }\n",
              "\n",
              "    .dataframe tbody tr th {\n",
              "        vertical-align: top;\n",
              "    }\n",
              "\n",
              "    .dataframe thead th {\n",
              "        text-align: right;\n",
              "    }\n",
              "</style>\n",
              "<table border=\"1\" class=\"dataframe\">\n",
              "  <thead>\n",
              "    <tr style=\"text-align: right;\">\n",
              "      <th></th>\n",
              "      <th>NU_NOTA_REDACAO</th>\n",
              "    </tr>\n",
              "    <tr>\n",
              "      <th>TP_SEXO</th>\n",
              "      <th></th>\n",
              "    </tr>\n",
              "  </thead>\n",
              "  <tbody>\n",
              "    <tr>\n",
              "      <th>F</th>\n",
              "      <td>2454691</td>\n",
              "    </tr>\n",
              "    <tr>\n",
              "      <th>M</th>\n",
              "      <td>1693573</td>\n",
              "    </tr>\n",
              "  </tbody>\n",
              "</table>\n",
              "</div>"
            ],
            "text/plain": [
              "         NU_NOTA_REDACAO\n",
              "TP_SEXO                 \n",
              "F                2454691\n",
              "M                1693573"
            ]
          },
          "metadata": {
            "tags": []
          },
          "execution_count": 24
        }
      ]
    },
    {
      "cell_type": "markdown",
      "metadata": {
        "id": "quqtDrzWB6fo"
      },
      "source": [
        "**Nota maxima na redação dos candidatos  por sexo**"
      ]
    },
    {
      "cell_type": "code",
      "metadata": {
        "colab": {
          "base_uri": "https://localhost:8080/",
          "height": 142
        },
        "id": "BeqzaEpCq1Bl",
        "outputId": "7331ec62-5c2c-4327-eb72-a0753b756a18"
      },
      "source": [
        "micro_dados_enem_redacao.groupby('TP_SEXO').max()"
      ],
      "execution_count": null,
      "outputs": [
        {
          "output_type": "execute_result",
          "data": {
            "text/html": [
              "<div>\n",
              "<style scoped>\n",
              "    .dataframe tbody tr th:only-of-type {\n",
              "        vertical-align: middle;\n",
              "    }\n",
              "\n",
              "    .dataframe tbody tr th {\n",
              "        vertical-align: top;\n",
              "    }\n",
              "\n",
              "    .dataframe thead th {\n",
              "        text-align: right;\n",
              "    }\n",
              "</style>\n",
              "<table border=\"1\" class=\"dataframe\">\n",
              "  <thead>\n",
              "    <tr style=\"text-align: right;\">\n",
              "      <th></th>\n",
              "      <th>NU_NOTA_REDACAO</th>\n",
              "    </tr>\n",
              "    <tr>\n",
              "      <th>TP_SEXO</th>\n",
              "      <th></th>\n",
              "    </tr>\n",
              "  </thead>\n",
              "  <tbody>\n",
              "    <tr>\n",
              "      <th>F</th>\n",
              "      <td>1000.0</td>\n",
              "    </tr>\n",
              "    <tr>\n",
              "      <th>M</th>\n",
              "      <td>1000.0</td>\n",
              "    </tr>\n",
              "  </tbody>\n",
              "</table>\n",
              "</div>"
            ],
            "text/plain": [
              "         NU_NOTA_REDACAO\n",
              "TP_SEXO                 \n",
              "F                 1000.0\n",
              "M                 1000.0"
            ]
          },
          "metadata": {
            "tags": []
          },
          "execution_count": 25
        }
      ]
    },
    {
      "cell_type": "markdown",
      "metadata": {
        "id": "_u75zmyFCG9f"
      },
      "source": [
        "**Nota minima na redação dos candidatos  por sexo**"
      ]
    },
    {
      "cell_type": "code",
      "metadata": {
        "colab": {
          "base_uri": "https://localhost:8080/",
          "height": 142
        },
        "id": "U54LrkTaq8Wh",
        "outputId": "b1115b26-ab1c-42a3-fa9a-0ece2ba7ae06"
      },
      "source": [
        "micro_dados_enem_redacao.groupby('TP_SEXO').min()"
      ],
      "execution_count": null,
      "outputs": [
        {
          "output_type": "execute_result",
          "data": {
            "text/html": [
              "<div>\n",
              "<style scoped>\n",
              "    .dataframe tbody tr th:only-of-type {\n",
              "        vertical-align: middle;\n",
              "    }\n",
              "\n",
              "    .dataframe tbody tr th {\n",
              "        vertical-align: top;\n",
              "    }\n",
              "\n",
              "    .dataframe thead th {\n",
              "        text-align: right;\n",
              "    }\n",
              "</style>\n",
              "<table border=\"1\" class=\"dataframe\">\n",
              "  <thead>\n",
              "    <tr style=\"text-align: right;\">\n",
              "      <th></th>\n",
              "      <th>NU_NOTA_REDACAO</th>\n",
              "    </tr>\n",
              "    <tr>\n",
              "      <th>TP_SEXO</th>\n",
              "      <th></th>\n",
              "    </tr>\n",
              "  </thead>\n",
              "  <tbody>\n",
              "    <tr>\n",
              "      <th>F</th>\n",
              "      <td>0.0</td>\n",
              "    </tr>\n",
              "    <tr>\n",
              "      <th>M</th>\n",
              "      <td>0.0</td>\n",
              "    </tr>\n",
              "  </tbody>\n",
              "</table>\n",
              "</div>"
            ],
            "text/plain": [
              "         NU_NOTA_REDACAO\n",
              "TP_SEXO                 \n",
              "F                    0.0\n",
              "M                    0.0"
            ]
          },
          "metadata": {
            "tags": []
          },
          "execution_count": 26
        }
      ]
    },
    {
      "cell_type": "markdown",
      "metadata": {
        "id": "3LPqxGCZCJeo"
      },
      "source": [
        "**media da nota na  redação dos candidatos  por sexo**"
      ]
    },
    {
      "cell_type": "code",
      "metadata": {
        "colab": {
          "base_uri": "https://localhost:8080/",
          "height": 142
        },
        "id": "KivTBzSNrEcK",
        "outputId": "72ec5e37-76c2-4491-86be-02ba7da28e68"
      },
      "source": [
        "micro_dados_enem_redacao.groupby('TP_SEXO').mean()"
      ],
      "execution_count": null,
      "outputs": [
        {
          "output_type": "execute_result",
          "data": {
            "text/html": [
              "<div>\n",
              "<style scoped>\n",
              "    .dataframe tbody tr th:only-of-type {\n",
              "        vertical-align: middle;\n",
              "    }\n",
              "\n",
              "    .dataframe tbody tr th {\n",
              "        vertical-align: top;\n",
              "    }\n",
              "\n",
              "    .dataframe thead th {\n",
              "        text-align: right;\n",
              "    }\n",
              "</style>\n",
              "<table border=\"1\" class=\"dataframe\">\n",
              "  <thead>\n",
              "    <tr style=\"text-align: right;\">\n",
              "      <th></th>\n",
              "      <th>NU_NOTA_REDACAO</th>\n",
              "    </tr>\n",
              "    <tr>\n",
              "      <th>TP_SEXO</th>\n",
              "      <th></th>\n",
              "    </tr>\n",
              "  </thead>\n",
              "  <tbody>\n",
              "    <tr>\n",
              "      <th>F</th>\n",
              "      <td>512.529145</td>\n",
              "    </tr>\n",
              "    <tr>\n",
              "      <th>M</th>\n",
              "      <td>503.102340</td>\n",
              "    </tr>\n",
              "  </tbody>\n",
              "</table>\n",
              "</div>"
            ],
            "text/plain": [
              "         NU_NOTA_REDACAO\n",
              "TP_SEXO                 \n",
              "F             512.529145\n",
              "M             503.102340"
            ]
          },
          "metadata": {
            "tags": []
          },
          "execution_count": 27
        }
      ]
    },
    {
      "cell_type": "markdown",
      "metadata": {
        "id": "Y58fB0eCCPch"
      },
      "source": [
        "**mediaana da nota na  redação dos candidatos  por sexo**"
      ]
    },
    {
      "cell_type": "code",
      "metadata": {
        "colab": {
          "base_uri": "https://localhost:8080/",
          "height": 142
        },
        "id": "fHKPQ3aNsTp-",
        "outputId": "7ace2dd5-1c84-44a3-cda9-8f18221c95bc"
      },
      "source": [
        "micro_dados_enem_redacao.groupby('TP_SEXO').median()"
      ],
      "execution_count": null,
      "outputs": [
        {
          "output_type": "execute_result",
          "data": {
            "text/html": [
              "<div>\n",
              "<style scoped>\n",
              "    .dataframe tbody tr th:only-of-type {\n",
              "        vertical-align: middle;\n",
              "    }\n",
              "\n",
              "    .dataframe tbody tr th {\n",
              "        vertical-align: top;\n",
              "    }\n",
              "\n",
              "    .dataframe thead th {\n",
              "        text-align: right;\n",
              "    }\n",
              "</style>\n",
              "<table border=\"1\" class=\"dataframe\">\n",
              "  <thead>\n",
              "    <tr style=\"text-align: right;\">\n",
              "      <th></th>\n",
              "      <th>NU_NOTA_REDACAO</th>\n",
              "    </tr>\n",
              "    <tr>\n",
              "      <th>TP_SEXO</th>\n",
              "      <th></th>\n",
              "    </tr>\n",
              "  </thead>\n",
              "  <tbody>\n",
              "    <tr>\n",
              "      <th>F</th>\n",
              "      <td>520.0</td>\n",
              "    </tr>\n",
              "    <tr>\n",
              "      <th>M</th>\n",
              "      <td>520.0</td>\n",
              "    </tr>\n",
              "  </tbody>\n",
              "</table>\n",
              "</div>"
            ],
            "text/plain": [
              "         NU_NOTA_REDACAO\n",
              "TP_SEXO                 \n",
              "F                  520.0\n",
              "M                  520.0"
            ]
          },
          "metadata": {
            "tags": []
          },
          "execution_count": 28
        }
      ]
    },
    {
      "cell_type": "markdown",
      "metadata": {
        "id": "PVIdbu5NCRh5"
      },
      "source": [
        "**nota minima na redação dos candidatos  por sexo**"
      ]
    },
    {
      "cell_type": "code",
      "metadata": {
        "colab": {
          "base_uri": "https://localhost:8080/",
          "height": 142
        },
        "id": "yxTwtV2yrNoR",
        "outputId": "7302476f-a68f-4e9a-91dd-e7be1e219707"
      },
      "source": [
        "micro_dados_enem_redacao.groupby('TP_SEXO').min()"
      ],
      "execution_count": null,
      "outputs": [
        {
          "output_type": "execute_result",
          "data": {
            "text/html": [
              "<div>\n",
              "<style scoped>\n",
              "    .dataframe tbody tr th:only-of-type {\n",
              "        vertical-align: middle;\n",
              "    }\n",
              "\n",
              "    .dataframe tbody tr th {\n",
              "        vertical-align: top;\n",
              "    }\n",
              "\n",
              "    .dataframe thead th {\n",
              "        text-align: right;\n",
              "    }\n",
              "</style>\n",
              "<table border=\"1\" class=\"dataframe\">\n",
              "  <thead>\n",
              "    <tr style=\"text-align: right;\">\n",
              "      <th></th>\n",
              "      <th>NU_NOTA_REDACAO</th>\n",
              "    </tr>\n",
              "    <tr>\n",
              "      <th>TP_SEXO</th>\n",
              "      <th></th>\n",
              "    </tr>\n",
              "  </thead>\n",
              "  <tbody>\n",
              "    <tr>\n",
              "      <th>F</th>\n",
              "      <td>0.0</td>\n",
              "    </tr>\n",
              "    <tr>\n",
              "      <th>M</th>\n",
              "      <td>0.0</td>\n",
              "    </tr>\n",
              "  </tbody>\n",
              "</table>\n",
              "</div>"
            ],
            "text/plain": [
              "         NU_NOTA_REDACAO\n",
              "TP_SEXO                 \n",
              "F                    0.0\n",
              "M                    0.0"
            ]
          },
          "metadata": {
            "tags": []
          },
          "execution_count": 29
        }
      ]
    },
    {
      "cell_type": "markdown",
      "metadata": {
        "id": "_GSlovbHCZnW"
      },
      "source": [
        "**Nota minima maior que 0 da redação dos candidatos  por sexo**"
      ]
    },
    {
      "cell_type": "code",
      "metadata": {
        "colab": {
          "base_uri": "https://localhost:8080/",
          "height": 142
        },
        "id": "X8R-eRmMrej2",
        "outputId": "c4b6d215-0631-484d-9771-49251264990d"
      },
      "source": [
        "micro_dados_enem_redacao[micro_dados_enem_redacao.NU_NOTA_REDACAO>0].groupby('TP_SEXO').min()"
      ],
      "execution_count": null,
      "outputs": [
        {
          "output_type": "execute_result",
          "data": {
            "text/html": [
              "<div>\n",
              "<style scoped>\n",
              "    .dataframe tbody tr th:only-of-type {\n",
              "        vertical-align: middle;\n",
              "    }\n",
              "\n",
              "    .dataframe tbody tr th {\n",
              "        vertical-align: top;\n",
              "    }\n",
              "\n",
              "    .dataframe thead th {\n",
              "        text-align: right;\n",
              "    }\n",
              "</style>\n",
              "<table border=\"1\" class=\"dataframe\">\n",
              "  <thead>\n",
              "    <tr style=\"text-align: right;\">\n",
              "      <th></th>\n",
              "      <th>NU_NOTA_REDACAO</th>\n",
              "    </tr>\n",
              "    <tr>\n",
              "      <th>TP_SEXO</th>\n",
              "      <th></th>\n",
              "    </tr>\n",
              "  </thead>\n",
              "  <tbody>\n",
              "    <tr>\n",
              "      <th>F</th>\n",
              "      <td>40.0</td>\n",
              "    </tr>\n",
              "    <tr>\n",
              "      <th>M</th>\n",
              "      <td>40.0</td>\n",
              "    </tr>\n",
              "  </tbody>\n",
              "</table>\n",
              "</div>"
            ],
            "text/plain": [
              "         NU_NOTA_REDACAO\n",
              "TP_SEXO                 \n",
              "F                   40.0\n",
              "M                   40.0"
            ]
          },
          "metadata": {
            "tags": []
          },
          "execution_count": 30
        }
      ]
    },
    {
      "cell_type": "markdown",
      "metadata": {
        "id": "AA8U-KLJCkbF"
      },
      "source": [
        "**Histograma das notas nas redaçoes dos candidatos por sexo**"
      ]
    },
    {
      "cell_type": "code",
      "metadata": {
        "colab": {
          "base_uri": "https://localhost:8080/",
          "height": 613
        },
        "id": "V-mD6UZZsYUA",
        "outputId": "93747e5f-61f2-4df8-e333-bd3bee605af5"
      },
      "source": [
        "micro_dados_enem_redacao.groupby('TP_SEXO').hist()"
      ],
      "execution_count": null,
      "outputs": [
        {
          "output_type": "execute_result",
          "data": {
            "text/plain": [
              "TP_SEXO\n",
              "F    [[AxesSubplot(0.125,0.125;0.775x0.755)]]\n",
              "M    [[AxesSubplot(0.125,0.125;0.775x0.755)]]\n",
              "dtype: object"
            ]
          },
          "metadata": {
            "tags": []
          },
          "execution_count": 108
        },
        {
          "output_type": "display_data",
          "data": {
            "image/png": "[encoded data removed]",
            "text/plain": [
              "<Figure size 432x288 with 1 Axes>"
            ]
          },
          "metadata": {
            "tags": [],
            "needs_background": "light"
          }
        },
        {
          "output_type": "display_data",
          "data": {
            "image/png": "[encoded data removed]",
            "text/plain": [
              "<Figure size 432x288 with 1 Axes>"
            ]
          },
          "metadata": {
            "tags": [],
            "needs_background": "light"
          }
        }
      ]
    },
    {
      "cell_type": "markdown",
      "metadata": {
        "id": "tpiDcQqyCv5K"
      },
      "source": [
        "**Selecionando dados das Colunas**"
      ]
    },
    {
      "cell_type": "code",
      "metadata": {
        "id": "jNCZ6vwuC4Pr"
      },
      "source": [
        ""
      ],
      "execution_count": null,
      "outputs": []
    },
    {
      "cell_type": "code",
      "metadata": {
        "id": "9MqMMwI9v8_h"
      },
      "source": [
        "colunadados = ['NU_INSCRICAO','NU_NOTA_MT','NU_NOTA_REDACAO','Q001','Q002']"
      ],
      "execution_count": 39,
      "outputs": []
    },
    {
      "cell_type": "markdown",
      "metadata": {
        "id": "rJqCybJ0CzJl"
      },
      "source": [
        "**Filtrando dados**"
      ]
    },
    {
      "cell_type": "code",
      "metadata": {
        "id": "dyPkovQCv86R"
      },
      "source": [
        "micro_dados_nova = dados.filter(items=colunadados)"
      ],
      "execution_count": 10,
      "outputs": []
    },
    {
      "cell_type": "markdown",
      "metadata": {
        "id": "a7ui9J6SC8m_"
      },
      "source": [
        "**Mostrando cabeçalho dos dados**"
      ]
    },
    {
      "cell_type": "code",
      "metadata": {
        "colab": {
          "base_uri": "https://localhost:8080/",
          "height": 204
        },
        "id": "HUDnprViv8v7",
        "outputId": "6ebfad1c-d86c-4989-e288-3f23fa4a35f7"
      },
      "source": [
        "micro_dados_nova.head()"
      ],
      "execution_count": 30,
      "outputs": [
        {
          "output_type": "execute_result",
          "data": {
            "text/html": [
              "<div>\n",
              "<style scoped>\n",
              "    .dataframe tbody tr th:only-of-type {\n",
              "        vertical-align: middle;\n",
              "    }\n",
              "\n",
              "    .dataframe tbody tr th {\n",
              "        vertical-align: top;\n",
              "    }\n",
              "\n",
              "    .dataframe thead th {\n",
              "        text-align: right;\n",
              "    }\n",
              "</style>\n",
              "<table border=\"1\" class=\"dataframe\">\n",
              "  <thead>\n",
              "    <tr style=\"text-align: right;\">\n",
              "      <th></th>\n",
              "      <th>NU_INSCRICAO</th>\n",
              "      <th>NU_NOTA_MT</th>\n",
              "      <th>NU_NOTA_REDACAO</th>\n",
              "      <th>Q001</th>\n",
              "      <th>Q002</th>\n",
              "    </tr>\n",
              "  </thead>\n",
              "  <tbody>\n",
              "    <tr>\n",
              "      <th>1</th>\n",
              "      <td>180007197856</td>\n",
              "      <td>480.3</td>\n",
              "      <td>280.0</td>\n",
              "      <td>B</td>\n",
              "      <td>B</td>\n",
              "    </tr>\n",
              "    <tr>\n",
              "      <th>5</th>\n",
              "      <td>180007239581</td>\n",
              "      <td>538.8</td>\n",
              "      <td>580.0</td>\n",
              "      <td>C</td>\n",
              "      <td>D</td>\n",
              "    </tr>\n",
              "    <tr>\n",
              "      <th>7</th>\n",
              "      <td>180008090447</td>\n",
              "      <td>733.8</td>\n",
              "      <td>680.0</td>\n",
              "      <td>A</td>\n",
              "      <td>E</td>\n",
              "    </tr>\n",
              "    <tr>\n",
              "      <th>8</th>\n",
              "      <td>180008257068</td>\n",
              "      <td>459.0</td>\n",
              "      <td>340.0</td>\n",
              "      <td>D</td>\n",
              "      <td>D</td>\n",
              "    </tr>\n",
              "    <tr>\n",
              "      <th>9</th>\n",
              "      <td>180008202044</td>\n",
              "      <td>525.4</td>\n",
              "      <td>740.0</td>\n",
              "      <td>C</td>\n",
              "      <td>C</td>\n",
              "    </tr>\n",
              "  </tbody>\n",
              "</table>\n",
              "</div>"
            ],
            "text/plain": [
              "   NU_INSCRICAO  NU_NOTA_MT  NU_NOTA_REDACAO Q001 Q002\n",
              "1  180007197856       480.3            280.0    B    B\n",
              "5  180007239581       538.8            580.0    C    D\n",
              "7  180008090447       733.8            680.0    A    E\n",
              "8  180008257068       459.0            340.0    D    D\n",
              "9  180008202044       525.4            740.0    C    C"
            ]
          },
          "metadata": {
            "tags": []
          },
          "execution_count": 30
        }
      ]
    },
    {
      "cell_type": "markdown",
      "metadata": {
        "id": "tQlg48znDBt3"
      },
      "source": [
        "**Fazendo a limpeza dos dados**"
      ]
    },
    {
      "cell_type": "code",
      "metadata": {
        "id": "n2vWXcBXv8s0"
      },
      "source": [
        "micro_dados_nova = micro_dados_nova.dropna()"
      ],
      "execution_count": 29,
      "outputs": []
    },
    {
      "cell_type": "code",
      "metadata": {
        "colab": {
          "base_uri": "https://localhost:8080/",
          "height": 204
        },
        "id": "WDOtgrw6wv53",
        "outputId": "147c5138-34f4-42ad-e06f-721960d7c7e0"
      },
      "source": [
        "micro_dados_nova.head()"
      ],
      "execution_count": 28,
      "outputs": [
        {
          "output_type": "execute_result",
          "data": {
            "text/html": [
              "<div>\n",
              "<style scoped>\n",
              "    .dataframe tbody tr th:only-of-type {\n",
              "        vertical-align: middle;\n",
              "    }\n",
              "\n",
              "    .dataframe tbody tr th {\n",
              "        vertical-align: top;\n",
              "    }\n",
              "\n",
              "    .dataframe thead th {\n",
              "        text-align: right;\n",
              "    }\n",
              "</style>\n",
              "<table border=\"1\" class=\"dataframe\">\n",
              "  <thead>\n",
              "    <tr style=\"text-align: right;\">\n",
              "      <th></th>\n",
              "      <th>NU_INSCRICAO</th>\n",
              "      <th>NU_NOTA_MT</th>\n",
              "      <th>NU_NOTA_REDACAO</th>\n",
              "      <th>Q001</th>\n",
              "      <th>Q002</th>\n",
              "    </tr>\n",
              "  </thead>\n",
              "  <tbody>\n",
              "    <tr>\n",
              "      <th>1</th>\n",
              "      <td>180007197856</td>\n",
              "      <td>480.3</td>\n",
              "      <td>280.0</td>\n",
              "      <td>B</td>\n",
              "      <td>B</td>\n",
              "    </tr>\n",
              "    <tr>\n",
              "      <th>5</th>\n",
              "      <td>180007239581</td>\n",
              "      <td>538.8</td>\n",
              "      <td>580.0</td>\n",
              "      <td>C</td>\n",
              "      <td>D</td>\n",
              "    </tr>\n",
              "    <tr>\n",
              "      <th>7</th>\n",
              "      <td>180008090447</td>\n",
              "      <td>733.8</td>\n",
              "      <td>680.0</td>\n",
              "      <td>A</td>\n",
              "      <td>E</td>\n",
              "    </tr>\n",
              "    <tr>\n",
              "      <th>8</th>\n",
              "      <td>180008257068</td>\n",
              "      <td>459.0</td>\n",
              "      <td>340.0</td>\n",
              "      <td>D</td>\n",
              "      <td>D</td>\n",
              "    </tr>\n",
              "    <tr>\n",
              "      <th>9</th>\n",
              "      <td>180008202044</td>\n",
              "      <td>525.4</td>\n",
              "      <td>740.0</td>\n",
              "      <td>C</td>\n",
              "      <td>C</td>\n",
              "    </tr>\n",
              "  </tbody>\n",
              "</table>\n",
              "</div>"
            ],
            "text/plain": [
              "   NU_INSCRICAO  NU_NOTA_MT  NU_NOTA_REDACAO Q001 Q002\n",
              "1  180007197856       480.3            280.0    B    B\n",
              "5  180007239581       538.8            580.0    C    D\n",
              "7  180008090447       733.8            680.0    A    E\n",
              "8  180008257068       459.0            340.0    D    D\n",
              "9  180008202044       525.4            740.0    C    C"
            ]
          },
          "metadata": {
            "tags": []
          },
          "execution_count": 28
        }
      ]
    },
    {
      "cell_type": "markdown",
      "metadata": {
        "id": "DMTRGCvWHvxA"
      },
      "source": [
        "**Gerando dicionario com dados socioeconomico**"
      ]
    },
    {
      "cell_type": "code",
      "metadata": {
        "id": "XmStzlUOw0aL"
      },
      "source": [
        "q001_q002 = {'A':'Nunca estudou.', 'B':'Não completou a 4ª série/5º ano do Ensino Fundamental.','C':'Completou a 4ª série/5º ano, mas não completou a 8ª série/9º ano do Ensino Fundamental.','D':'Completou a 8ª série/9º ano do Ensino Fundamental, mas não completou o Ensino Médio.','E':'Completou o Ensino Médio, mas não completou a Faculdade.','F':'Completou a Faculdade, mas não completou a Pós-graduação.', 'G':'Completou a Pós-graduação.','H':'Não sei'}"
      ],
      "execution_count": 40,
      "outputs": []
    },
    {
      "cell_type": "code",
      "metadata": {
        "id": "1qoabJpeGbDc"
      },
      "source": [
        "dados['NO_Q001'] = [q001_q002[resp] for resp in dados.Q001]"
      ],
      "execution_count": 43,
      "outputs": []
    },
    {
      "cell_type": "markdown",
      "metadata": {
        "id": "Dv1OCDODH2xM"
      },
      "source": [
        "**Notas das redaçoes dos candidatos, se acordo com dados socioeconomico do pai**"
      ]
    },
    {
      "cell_type": "code",
      "metadata": {
        "id": "Y77Jyd8K2HPl",
        "colab": {
          "base_uri": "https://localhost:8080/",
          "height": 328
        },
        "outputId": "acde9caf-aa84-4296-8bd6-ca576257e07b"
      },
      "source": [
        "dados.filter(items = ['NU_NOTA_MT' ,'NO_Q001']).groupby('NO_Q001').mean().sort_values(by='NU_NOTA_MT',ascending=False)"
      ],
      "execution_count": 44,
      "outputs": [
        {
          "output_type": "execute_result",
          "data": {
            "text/html": [
              "<div>\n",
              "<style scoped>\n",
              "    .dataframe tbody tr th:only-of-type {\n",
              "        vertical-align: middle;\n",
              "    }\n",
              "\n",
              "    .dataframe tbody tr th {\n",
              "        vertical-align: top;\n",
              "    }\n",
              "\n",
              "    .dataframe thead th {\n",
              "        text-align: right;\n",
              "    }\n",
              "</style>\n",
              "<table border=\"1\" class=\"dataframe\">\n",
              "  <thead>\n",
              "    <tr style=\"text-align: right;\">\n",
              "      <th></th>\n",
              "      <th>NU_NOTA_MT</th>\n",
              "    </tr>\n",
              "    <tr>\n",
              "      <th>NO_Q001</th>\n",
              "      <th></th>\n",
              "    </tr>\n",
              "  </thead>\n",
              "  <tbody>\n",
              "    <tr>\n",
              "      <th>Completou a Pós-graduação.</th>\n",
              "      <td>628.754334</td>\n",
              "    </tr>\n",
              "    <tr>\n",
              "      <th>Completou a Faculdade, mas não completou a Pós-graduação.</th>\n",
              "      <td>606.771636</td>\n",
              "    </tr>\n",
              "    <tr>\n",
              "      <th>Completou o Ensino Médio, mas não completou a Faculdade.</th>\n",
              "      <td>550.855921</td>\n",
              "    </tr>\n",
              "    <tr>\n",
              "      <th>Completou a 8ª série/9º ano do Ensino Fundamental, mas não completou o Ensino Médio.</th>\n",
              "      <td>530.479855</td>\n",
              "    </tr>\n",
              "    <tr>\n",
              "      <th>Completou a 4ª série/5º ano, mas não completou a 8ª série/9º ano do Ensino Fundamental.</th>\n",
              "      <td>519.377811</td>\n",
              "    </tr>\n",
              "    <tr>\n",
              "      <th>Não sei</th>\n",
              "      <td>512.563841</td>\n",
              "    </tr>\n",
              "    <tr>\n",
              "      <th>Não completou a 4ª série/5º ano do Ensino Fundamental.</th>\n",
              "      <td>502.338643</td>\n",
              "    </tr>\n",
              "    <tr>\n",
              "      <th>Nunca estudou.</th>\n",
              "      <td>483.323897</td>\n",
              "    </tr>\n",
              "  </tbody>\n",
              "</table>\n",
              "</div>"
            ],
            "text/plain": [
              "                                                    NU_NOTA_MT\n",
              "NO_Q001                                                       \n",
              "Completou a Pós-graduação.                          628.754334\n",
              "Completou a Faculdade, mas não completou a Pós-...  606.771636\n",
              "Completou o Ensino Médio, mas não completou a F...  550.855921\n",
              "Completou a 8ª série/9º ano do Ensino Fundament...  530.479855\n",
              "Completou a 4ª série/5º ano, mas não completou ...  519.377811\n",
              "Não sei                                             512.563841\n",
              "Não completou a 4ª série/5º ano do Ensino Funda...  502.338643\n",
              "Nunca estudou.                                      483.323897"
            ]
          },
          "metadata": {
            "tags": []
          },
          "execution_count": 44
        }
      ]
    },
    {
      "cell_type": "markdown",
      "metadata": {
        "id": "e9XC2URzIHDX"
      },
      "source": [
        ""
      ]
    },
    {
      "cell_type": "code",
      "metadata": {
        "id": "3Bvu-oVRHcEg"
      },
      "source": [
        "dados['NO_Q002'] = [q001_q002[resp] for resp in dados.Q002]"
      ],
      "execution_count": 47,
      "outputs": []
    },
    {
      "cell_type": "markdown",
      "metadata": {
        "id": "N8e8xFP3IGe2"
      },
      "source": [
        "**Notas das redaçoes dos candidatos, se acordo com dados socioeconomico do pai**"
      ]
    },
    {
      "cell_type": "code",
      "metadata": {
        "colab": {
          "base_uri": "https://localhost:8080/",
          "height": 328
        },
        "id": "9cSaOgxSG8o1",
        "outputId": "316549a7-b3ce-4331-af71-9742dfb7348a"
      },
      "source": [
        "dados.filter(items = ['NU_NOTA_MT' ,'NO_Q002']).groupby('NO_Q002').mean().sort_values(by='NU_NOTA_MT',ascending=False)"
      ],
      "execution_count": 48,
      "outputs": [
        {
          "output_type": "execute_result",
          "data": {
            "text/html": [
              "<div>\n",
              "<style scoped>\n",
              "    .dataframe tbody tr th:only-of-type {\n",
              "        vertical-align: middle;\n",
              "    }\n",
              "\n",
              "    .dataframe tbody tr th {\n",
              "        vertical-align: top;\n",
              "    }\n",
              "\n",
              "    .dataframe thead th {\n",
              "        text-align: right;\n",
              "    }\n",
              "</style>\n",
              "<table border=\"1\" class=\"dataframe\">\n",
              "  <thead>\n",
              "    <tr style=\"text-align: right;\">\n",
              "      <th></th>\n",
              "      <th>NU_NOTA_MT</th>\n",
              "    </tr>\n",
              "    <tr>\n",
              "      <th>NO_Q002</th>\n",
              "      <th></th>\n",
              "    </tr>\n",
              "  </thead>\n",
              "  <tbody>\n",
              "    <tr>\n",
              "      <th>Completou a Pós-graduação.</th>\n",
              "      <td>604.586684</td>\n",
              "    </tr>\n",
              "    <tr>\n",
              "      <th>Completou a Faculdade, mas não completou a Pós-graduação.</th>\n",
              "      <td>591.357692</td>\n",
              "    </tr>\n",
              "    <tr>\n",
              "      <th>Completou o Ensino Médio, mas não completou a Faculdade.</th>\n",
              "      <td>541.930710</td>\n",
              "    </tr>\n",
              "    <tr>\n",
              "      <th>Completou a 8ª série/9º ano do Ensino Fundamental, mas não completou o Ensino Médio.</th>\n",
              "      <td>521.219833</td>\n",
              "    </tr>\n",
              "    <tr>\n",
              "      <th>Completou a 4ª série/5º ano, mas não completou a 8ª série/9º ano do Ensino Fundamental.</th>\n",
              "      <td>511.969966</td>\n",
              "    </tr>\n",
              "    <tr>\n",
              "      <th>Não sei</th>\n",
              "      <td>503.910272</td>\n",
              "    </tr>\n",
              "    <tr>\n",
              "      <th>Não completou a 4ª série/5º ano do Ensino Fundamental.</th>\n",
              "      <td>496.919650</td>\n",
              "    </tr>\n",
              "    <tr>\n",
              "      <th>Nunca estudou.</th>\n",
              "      <td>478.144011</td>\n",
              "    </tr>\n",
              "  </tbody>\n",
              "</table>\n",
              "</div>"
            ],
            "text/plain": [
              "                                                    NU_NOTA_MT\n",
              "NO_Q002                                                       \n",
              "Completou a Pós-graduação.                          604.586684\n",
              "Completou a Faculdade, mas não completou a Pós-...  591.357692\n",
              "Completou o Ensino Médio, mas não completou a F...  541.930710\n",
              "Completou a 8ª série/9º ano do Ensino Fundament...  521.219833\n",
              "Completou a 4ª série/5º ano, mas não completou ...  511.969966\n",
              "Não sei                                             503.910272\n",
              "Não completou a 4ª série/5º ano do Ensino Funda...  496.919650\n",
              "Nunca estudou.                                      478.144011"
            ]
          },
          "metadata": {
            "tags": []
          },
          "execution_count": 48
        }
      ]
    },
    {
      "cell_type": "markdown",
      "metadata": {
        "id": "RPs-xrtUeLQS"
      },
      "source": [
        ""
      ]
    },
    {
      "cell_type": "markdown",
      "metadata": {
        "id": "Ep73KNo1eKGQ"
      },
      "source": [
        ""
      ]
    }
  ]
}