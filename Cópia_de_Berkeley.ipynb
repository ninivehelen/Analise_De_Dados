{
  "nbformat": 4,
  "nbformat_minor": 0,
  "metadata": {
    "colab": {
      "name": "Cópia de Berkeley.ipynb",
      "provenance": [],
      "collapsed_sections": [],
      "mount_file_id": "10kXSkDqeYskrTOH8VfyI_J-grOfr_4_4",
      "authorship_tag": "ABX9TyObxBUrnr9kAmorpDTU90Iz",
      "include_colab_link": true
    },
    "kernelspec": {
      "name": "python3",
      "display_name": "Python 3"
    },
    "language_info": {
      "name": "python"
    }
  },
  "cells": [
    {
      "cell_type": "markdown",
      "metadata": {
        "id": "view-in-github",
        "colab_type": "text"
      },
      "source": [
        "<a href=\"https://colab.research.google.com/github/ninivehelen/Analise_De_Dados/blob/master/C%C3%B3pia_de_Berkeley.ipynb\" target=\"_parent\"><img src=\"https://colab.research.google.com/assets/colab-badge.svg\" alt=\"Open In Colab\"/></a>"
      ]
    },
    {
      "cell_type": "code",
      "metadata": {
        "colab": {
          "base_uri": "https://localhost:8080/"
        },
        "id": "gCnBYAkGDkBA",
        "outputId": "a6d128d0-94c7-4ed1-af45-8ab3ac949816"
      },
      "source": [
        "from google.colab import drive\n",
        "drive.mount('/content/drive')"
      ],
      "execution_count": 12,
      "outputs": [
        {
          "output_type": "stream",
          "name": "stdout",
          "text": [
            "Drive already mounted at /content/drive; to attempt to forcibly remount, call drive.mount(\"/content/drive\", force_remount=True).\n"
          ]
        }
      ]
    },
    {
      "cell_type": "code",
      "metadata": {
        "id": "DjCmozh_DNT5"
      },
      "source": [
        "import pandas as pd "
      ],
      "execution_count": 13,
      "outputs": []
    },
    {
      "cell_type": "code",
      "metadata": {
        "id": "Mm-myUmJDlTj"
      },
      "source": [
        "dados = pd.read_csv(\"/content/drive/MyDrive/Berkeley.csv\")"
      ],
      "execution_count": 14,
      "outputs": []
    },
    {
      "cell_type": "code",
      "metadata": {
        "id": "4q7HAXqnE7wt",
        "colab": {
          "base_uri": "https://localhost:8080/",
          "height": 793
        },
        "outputId": "e4f2d9ba-2e91-4856-b195-7d09a13d6ae5"
      },
      "source": [
        "dados.head(100)"
      ],
      "execution_count": 27,
      "outputs": [
        {
          "output_type": "execute_result",
          "data": {
            "text/html": [
              "<div>\n",
              "<style scoped>\n",
              "    .dataframe tbody tr th:only-of-type {\n",
              "        vertical-align: middle;\n",
              "    }\n",
              "\n",
              "    .dataframe tbody tr th {\n",
              "        vertical-align: top;\n",
              "    }\n",
              "\n",
              "    .dataframe thead th {\n",
              "        text-align: right;\n",
              "    }\n",
              "</style>\n",
              "<table border=\"1\" class=\"dataframe\">\n",
              "  <thead>\n",
              "    <tr style=\"text-align: right;\">\n",
              "      <th></th>\n",
              "      <th>Admit</th>\n",
              "      <th>Gender</th>\n",
              "      <th>Dept</th>\n",
              "      <th>Freq</th>\n",
              "    </tr>\n",
              "  </thead>\n",
              "  <tbody>\n",
              "    <tr>\n",
              "      <th>0</th>\n",
              "      <td>Admitted</td>\n",
              "      <td>Male</td>\n",
              "      <td>A</td>\n",
              "      <td>512</td>\n",
              "    </tr>\n",
              "    <tr>\n",
              "      <th>1</th>\n",
              "      <td>Rejected</td>\n",
              "      <td>Male</td>\n",
              "      <td>A</td>\n",
              "      <td>313</td>\n",
              "    </tr>\n",
              "    <tr>\n",
              "      <th>2</th>\n",
              "      <td>Admitted</td>\n",
              "      <td>Female</td>\n",
              "      <td>A</td>\n",
              "      <td>89</td>\n",
              "    </tr>\n",
              "    <tr>\n",
              "      <th>3</th>\n",
              "      <td>Rejected</td>\n",
              "      <td>Female</td>\n",
              "      <td>A</td>\n",
              "      <td>19</td>\n",
              "    </tr>\n",
              "    <tr>\n",
              "      <th>4</th>\n",
              "      <td>Admitted</td>\n",
              "      <td>Male</td>\n",
              "      <td>B</td>\n",
              "      <td>353</td>\n",
              "    </tr>\n",
              "    <tr>\n",
              "      <th>5</th>\n",
              "      <td>Rejected</td>\n",
              "      <td>Male</td>\n",
              "      <td>B</td>\n",
              "      <td>207</td>\n",
              "    </tr>\n",
              "    <tr>\n",
              "      <th>6</th>\n",
              "      <td>Admitted</td>\n",
              "      <td>Female</td>\n",
              "      <td>B</td>\n",
              "      <td>17</td>\n",
              "    </tr>\n",
              "    <tr>\n",
              "      <th>7</th>\n",
              "      <td>Rejected</td>\n",
              "      <td>Female</td>\n",
              "      <td>B</td>\n",
              "      <td>8</td>\n",
              "    </tr>\n",
              "    <tr>\n",
              "      <th>8</th>\n",
              "      <td>Admitted</td>\n",
              "      <td>Male</td>\n",
              "      <td>C</td>\n",
              "      <td>120</td>\n",
              "    </tr>\n",
              "    <tr>\n",
              "      <th>9</th>\n",
              "      <td>Rejected</td>\n",
              "      <td>Male</td>\n",
              "      <td>C</td>\n",
              "      <td>205</td>\n",
              "    </tr>\n",
              "    <tr>\n",
              "      <th>10</th>\n",
              "      <td>Admitted</td>\n",
              "      <td>Female</td>\n",
              "      <td>C</td>\n",
              "      <td>202</td>\n",
              "    </tr>\n",
              "    <tr>\n",
              "      <th>11</th>\n",
              "      <td>Rejected</td>\n",
              "      <td>Female</td>\n",
              "      <td>C</td>\n",
              "      <td>391</td>\n",
              "    </tr>\n",
              "    <tr>\n",
              "      <th>12</th>\n",
              "      <td>Admitted</td>\n",
              "      <td>Male</td>\n",
              "      <td>D</td>\n",
              "      <td>138</td>\n",
              "    </tr>\n",
              "    <tr>\n",
              "      <th>13</th>\n",
              "      <td>Rejected</td>\n",
              "      <td>Male</td>\n",
              "      <td>D</td>\n",
              "      <td>279</td>\n",
              "    </tr>\n",
              "    <tr>\n",
              "      <th>14</th>\n",
              "      <td>Admitted</td>\n",
              "      <td>Female</td>\n",
              "      <td>D</td>\n",
              "      <td>131</td>\n",
              "    </tr>\n",
              "    <tr>\n",
              "      <th>15</th>\n",
              "      <td>Rejected</td>\n",
              "      <td>Female</td>\n",
              "      <td>D</td>\n",
              "      <td>244</td>\n",
              "    </tr>\n",
              "    <tr>\n",
              "      <th>16</th>\n",
              "      <td>Admitted</td>\n",
              "      <td>Male</td>\n",
              "      <td>E</td>\n",
              "      <td>53</td>\n",
              "    </tr>\n",
              "    <tr>\n",
              "      <th>17</th>\n",
              "      <td>Rejected</td>\n",
              "      <td>Male</td>\n",
              "      <td>E</td>\n",
              "      <td>138</td>\n",
              "    </tr>\n",
              "    <tr>\n",
              "      <th>18</th>\n",
              "      <td>Admitted</td>\n",
              "      <td>Female</td>\n",
              "      <td>E</td>\n",
              "      <td>94</td>\n",
              "    </tr>\n",
              "    <tr>\n",
              "      <th>19</th>\n",
              "      <td>Rejected</td>\n",
              "      <td>Female</td>\n",
              "      <td>E</td>\n",
              "      <td>299</td>\n",
              "    </tr>\n",
              "    <tr>\n",
              "      <th>20</th>\n",
              "      <td>Admitted</td>\n",
              "      <td>Male</td>\n",
              "      <td>F</td>\n",
              "      <td>22</td>\n",
              "    </tr>\n",
              "    <tr>\n",
              "      <th>21</th>\n",
              "      <td>Rejected</td>\n",
              "      <td>Male</td>\n",
              "      <td>F</td>\n",
              "      <td>351</td>\n",
              "    </tr>\n",
              "    <tr>\n",
              "      <th>22</th>\n",
              "      <td>Admitted</td>\n",
              "      <td>Female</td>\n",
              "      <td>F</td>\n",
              "      <td>24</td>\n",
              "    </tr>\n",
              "    <tr>\n",
              "      <th>23</th>\n",
              "      <td>Rejected</td>\n",
              "      <td>Female</td>\n",
              "      <td>F</td>\n",
              "      <td>317</td>\n",
              "    </tr>\n",
              "  </tbody>\n",
              "</table>\n",
              "</div>"
            ],
            "text/plain": [
              "       Admit  Gender Dept  Freq\n",
              "0   Admitted    Male    A   512\n",
              "1   Rejected    Male    A   313\n",
              "2   Admitted  Female    A    89\n",
              "3   Rejected  Female    A    19\n",
              "4   Admitted    Male    B   353\n",
              "5   Rejected    Male    B   207\n",
              "6   Admitted  Female    B    17\n",
              "7   Rejected  Female    B     8\n",
              "8   Admitted    Male    C   120\n",
              "9   Rejected    Male    C   205\n",
              "10  Admitted  Female    C   202\n",
              "11  Rejected  Female    C   391\n",
              "12  Admitted    Male    D   138\n",
              "13  Rejected    Male    D   279\n",
              "14  Admitted  Female    D   131\n",
              "15  Rejected  Female    D   244\n",
              "16  Admitted    Male    E    53\n",
              "17  Rejected    Male    E   138\n",
              "18  Admitted  Female    E    94\n",
              "19  Rejected  Female    E   299\n",
              "20  Admitted    Male    F    22\n",
              "21  Rejected    Male    F   351\n",
              "22  Admitted  Female    F    24\n",
              "23  Rejected  Female    F   317"
            ]
          },
          "metadata": {},
          "execution_count": 27
        }
      ]
    },
    {
      "cell_type": "code",
      "metadata": {
        "id": "wtKKQ0AzFDHx"
      },
      "source": [
        "dados_departaento_Male = dados[dados[\"Gender\"] == 'Male']\n"
      ],
      "execution_count": 32,
      "outputs": []
    },
    {
      "cell_type": "code",
      "metadata": {
        "id": "rGCLi8VdHH9u"
      },
      "source": [
        "dados_departaento_Male_Admit = dados_departaento_Male[dados_departaento_Male[\"Admit\"] == 'Admitted']"
      ],
      "execution_count": 36,
      "outputs": []
    },
    {
      "cell_type": "code",
      "metadata": {
        "id": "rH-04znYQtZ6",
        "colab": {
          "base_uri": "https://localhost:8080/",
          "height": 235
        },
        "outputId": "80b23948-4911-4340-d0ab-3ed1869b64bb"
      },
      "source": [
        "dados_departaento_Male_Admit.head(10)"
      ],
      "execution_count": 39,
      "outputs": [
        {
          "output_type": "execute_result",
          "data": {
            "text/html": [
              "<div>\n",
              "<style scoped>\n",
              "    .dataframe tbody tr th:only-of-type {\n",
              "        vertical-align: middle;\n",
              "    }\n",
              "\n",
              "    .dataframe tbody tr th {\n",
              "        vertical-align: top;\n",
              "    }\n",
              "\n",
              "    .dataframe thead th {\n",
              "        text-align: right;\n",
              "    }\n",
              "</style>\n",
              "<table border=\"1\" class=\"dataframe\">\n",
              "  <thead>\n",
              "    <tr style=\"text-align: right;\">\n",
              "      <th></th>\n",
              "      <th>Admit</th>\n",
              "      <th>Gender</th>\n",
              "      <th>Dept</th>\n",
              "      <th>Freq</th>\n",
              "    </tr>\n",
              "  </thead>\n",
              "  <tbody>\n",
              "    <tr>\n",
              "      <th>0</th>\n",
              "      <td>Admitted</td>\n",
              "      <td>Male</td>\n",
              "      <td>A</td>\n",
              "      <td>512</td>\n",
              "    </tr>\n",
              "    <tr>\n",
              "      <th>4</th>\n",
              "      <td>Admitted</td>\n",
              "      <td>Male</td>\n",
              "      <td>B</td>\n",
              "      <td>353</td>\n",
              "    </tr>\n",
              "    <tr>\n",
              "      <th>8</th>\n",
              "      <td>Admitted</td>\n",
              "      <td>Male</td>\n",
              "      <td>C</td>\n",
              "      <td>120</td>\n",
              "    </tr>\n",
              "    <tr>\n",
              "      <th>12</th>\n",
              "      <td>Admitted</td>\n",
              "      <td>Male</td>\n",
              "      <td>D</td>\n",
              "      <td>138</td>\n",
              "    </tr>\n",
              "    <tr>\n",
              "      <th>16</th>\n",
              "      <td>Admitted</td>\n",
              "      <td>Male</td>\n",
              "      <td>E</td>\n",
              "      <td>53</td>\n",
              "    </tr>\n",
              "    <tr>\n",
              "      <th>20</th>\n",
              "      <td>Admitted</td>\n",
              "      <td>Male</td>\n",
              "      <td>F</td>\n",
              "      <td>22</td>\n",
              "    </tr>\n",
              "  </tbody>\n",
              "</table>\n",
              "</div>"
            ],
            "text/plain": [
              "       Admit Gender Dept  Freq\n",
              "0   Admitted   Male    A   512\n",
              "4   Admitted   Male    B   353\n",
              "8   Admitted   Male    C   120\n",
              "12  Admitted   Male    D   138\n",
              "16  Admitted   Male    E    53\n",
              "20  Admitted   Male    F    22"
            ]
          },
          "metadata": {},
          "execution_count": 39
        }
      ]
    },
    {
      "cell_type": "code",
      "metadata": {
        "colab": {
          "base_uri": "https://localhost:8080/"
        },
        "id": "QnIZM5ZegGWx",
        "outputId": "dbeb0ce0-1264-46ba-a314-d71aec58215a"
      },
      "source": [
        "dados_departaento_Male_Admit[\"Freq\"].sum()"
      ],
      "execution_count": 41,
      "outputs": [
        {
          "output_type": "execute_result",
          "data": {
            "text/plain": [
              "1198"
            ]
          },
          "metadata": {},
          "execution_count": 41
        }
      ]
    },
    {
      "cell_type": "code",
      "metadata": {
        "id": "E-s8qju9tJeN"
      },
      "source": [
        ""
      ],
      "execution_count": null,
      "outputs": []
    },
    {
      "cell_type": "code",
      "metadata": {
        "id": "I7JplaEPgPyv"
      },
      "source": [
        "dados_departaento_Female = dados[dados[\"Gender\"] == 'Female']"
      ],
      "execution_count": 43,
      "outputs": []
    },
    {
      "cell_type": "code",
      "metadata": {
        "id": "vhlzDf-rg9DU"
      },
      "source": [
        "dados_departaento_Female_Admit = dados_departaento_Female[dados_departaento_Female[\"Admit\"] == 'Admitted']"
      ],
      "execution_count": 44,
      "outputs": []
    },
    {
      "cell_type": "code",
      "metadata": {
        "colab": {
          "base_uri": "https://localhost:8080/",
          "height": 235
        },
        "id": "MM0yIhYIhDUj",
        "outputId": "661dfce2-70ca-42e8-8586-8870ae1abc1b"
      },
      "source": [
        "dados_departaento_Female_Admit.head(10)"
      ],
      "execution_count": 45,
      "outputs": [
        {
          "output_type": "execute_result",
          "data": {
            "text/html": [
              "<div>\n",
              "<style scoped>\n",
              "    .dataframe tbody tr th:only-of-type {\n",
              "        vertical-align: middle;\n",
              "    }\n",
              "\n",
              "    .dataframe tbody tr th {\n",
              "        vertical-align: top;\n",
              "    }\n",
              "\n",
              "    .dataframe thead th {\n",
              "        text-align: right;\n",
              "    }\n",
              "</style>\n",
              "<table border=\"1\" class=\"dataframe\">\n",
              "  <thead>\n",
              "    <tr style=\"text-align: right;\">\n",
              "      <th></th>\n",
              "      <th>Admit</th>\n",
              "      <th>Gender</th>\n",
              "      <th>Dept</th>\n",
              "      <th>Freq</th>\n",
              "    </tr>\n",
              "  </thead>\n",
              "  <tbody>\n",
              "    <tr>\n",
              "      <th>2</th>\n",
              "      <td>Admitted</td>\n",
              "      <td>Female</td>\n",
              "      <td>A</td>\n",
              "      <td>89</td>\n",
              "    </tr>\n",
              "    <tr>\n",
              "      <th>6</th>\n",
              "      <td>Admitted</td>\n",
              "      <td>Female</td>\n",
              "      <td>B</td>\n",
              "      <td>17</td>\n",
              "    </tr>\n",
              "    <tr>\n",
              "      <th>10</th>\n",
              "      <td>Admitted</td>\n",
              "      <td>Female</td>\n",
              "      <td>C</td>\n",
              "      <td>202</td>\n",
              "    </tr>\n",
              "    <tr>\n",
              "      <th>14</th>\n",
              "      <td>Admitted</td>\n",
              "      <td>Female</td>\n",
              "      <td>D</td>\n",
              "      <td>131</td>\n",
              "    </tr>\n",
              "    <tr>\n",
              "      <th>18</th>\n",
              "      <td>Admitted</td>\n",
              "      <td>Female</td>\n",
              "      <td>E</td>\n",
              "      <td>94</td>\n",
              "    </tr>\n",
              "    <tr>\n",
              "      <th>22</th>\n",
              "      <td>Admitted</td>\n",
              "      <td>Female</td>\n",
              "      <td>F</td>\n",
              "      <td>24</td>\n",
              "    </tr>\n",
              "  </tbody>\n",
              "</table>\n",
              "</div>"
            ],
            "text/plain": [
              "       Admit  Gender Dept  Freq\n",
              "2   Admitted  Female    A    89\n",
              "6   Admitted  Female    B    17\n",
              "10  Admitted  Female    C   202\n",
              "14  Admitted  Female    D   131\n",
              "18  Admitted  Female    E    94\n",
              "22  Admitted  Female    F    24"
            ]
          },
          "metadata": {},
          "execution_count": 45
        }
      ]
    },
    {
      "cell_type": "code",
      "metadata": {
        "colab": {
          "base_uri": "https://localhost:8080/"
        },
        "id": "PMGA8QUbhJ4c",
        "outputId": "ffd94fee-19dd-496b-d2d8-7e9f983537f4"
      },
      "source": [
        "dados_departaento_Female_Admit[\"Freq\"].sum()"
      ],
      "execution_count": 47,
      "outputs": [
        {
          "output_type": "execute_result",
          "data": {
            "text/plain": [
              "557"
            ]
          },
          "metadata": {},
          "execution_count": 47
        }
      ]
    },
    {
      "cell_type": "code",
      "metadata": {
        "id": "5zSS6FIstLEN"
      },
      "source": [
        "inscritos_Male_Admit = [825,560,325,417,191,373]"
      ],
      "execution_count": 62,
      "outputs": []
    },
    {
      "cell_type": "code",
      "metadata": {
        "id": "yKLS9qSetOVT"
      },
      "source": [
        "dados_departaento_Male_Admit['Inscritos'] = inscritos_Male_Admit"
      ],
      "execution_count": null,
      "outputs": []
    },
    {
      "cell_type": "code",
      "metadata": {
        "colab": {
          "base_uri": "https://localhost:8080/",
          "height": 235
        },
        "id": "vdddnRxetn7E",
        "outputId": "a876481a-df3e-4184-fdf4-4da2548374c8"
      },
      "source": [
        "dados_departaento_Male_Admit.head(7)"
      ],
      "execution_count": 65,
      "outputs": [
        {
          "output_type": "execute_result",
          "data": {
            "text/html": [
              "<div>\n",
              "<style scoped>\n",
              "    .dataframe tbody tr th:only-of-type {\n",
              "        vertical-align: middle;\n",
              "    }\n",
              "\n",
              "    .dataframe tbody tr th {\n",
              "        vertical-align: top;\n",
              "    }\n",
              "\n",
              "    .dataframe thead th {\n",
              "        text-align: right;\n",
              "    }\n",
              "</style>\n",
              "<table border=\"1\" class=\"dataframe\">\n",
              "  <thead>\n",
              "    <tr style=\"text-align: right;\">\n",
              "      <th></th>\n",
              "      <th>Admit</th>\n",
              "      <th>Gender</th>\n",
              "      <th>Dept</th>\n",
              "      <th>Freq</th>\n",
              "      <th>Inscritos</th>\n",
              "    </tr>\n",
              "  </thead>\n",
              "  <tbody>\n",
              "    <tr>\n",
              "      <th>0</th>\n",
              "      <td>Admitted</td>\n",
              "      <td>Male</td>\n",
              "      <td>A</td>\n",
              "      <td>512</td>\n",
              "      <td>825</td>\n",
              "    </tr>\n",
              "    <tr>\n",
              "      <th>4</th>\n",
              "      <td>Admitted</td>\n",
              "      <td>Male</td>\n",
              "      <td>B</td>\n",
              "      <td>353</td>\n",
              "      <td>560</td>\n",
              "    </tr>\n",
              "    <tr>\n",
              "      <th>8</th>\n",
              "      <td>Admitted</td>\n",
              "      <td>Male</td>\n",
              "      <td>C</td>\n",
              "      <td>120</td>\n",
              "      <td>325</td>\n",
              "    </tr>\n",
              "    <tr>\n",
              "      <th>12</th>\n",
              "      <td>Admitted</td>\n",
              "      <td>Male</td>\n",
              "      <td>D</td>\n",
              "      <td>138</td>\n",
              "      <td>417</td>\n",
              "    </tr>\n",
              "    <tr>\n",
              "      <th>16</th>\n",
              "      <td>Admitted</td>\n",
              "      <td>Male</td>\n",
              "      <td>E</td>\n",
              "      <td>53</td>\n",
              "      <td>191</td>\n",
              "    </tr>\n",
              "    <tr>\n",
              "      <th>20</th>\n",
              "      <td>Admitted</td>\n",
              "      <td>Male</td>\n",
              "      <td>F</td>\n",
              "      <td>22</td>\n",
              "      <td>373</td>\n",
              "    </tr>\n",
              "  </tbody>\n",
              "</table>\n",
              "</div>"
            ],
            "text/plain": [
              "       Admit Gender Dept  Freq  Inscritos\n",
              "0   Admitted   Male    A   512        825\n",
              "4   Admitted   Male    B   353        560\n",
              "8   Admitted   Male    C   120        325\n",
              "12  Admitted   Male    D   138        417\n",
              "16  Admitted   Male    E    53        191\n",
              "20  Admitted   Male    F    22        373"
            ]
          },
          "metadata": {},
          "execution_count": 65
        }
      ]
    },
    {
      "cell_type": "code",
      "metadata": {
        "id": "dlV00INLiV8D"
      },
      "source": [
        "inscritos_Female_Admit = [108,25,593,375,593,341]"
      ],
      "execution_count": 58,
      "outputs": []
    },
    {
      "cell_type": "code",
      "metadata": {
        "id": "_4cuDWmusHUx"
      },
      "source": [
        "dados_departaento_Female_Admit['Inscritos'] = inscritos_Female_Admit"
      ],
      "execution_count": null,
      "outputs": []
    },
    {
      "cell_type": "code",
      "metadata": {
        "colab": {
          "base_uri": "https://localhost:8080/",
          "height": 235
        },
        "id": "WvWFNw3XsPZW",
        "outputId": "dd7aa957-197a-45bf-8080-993518a7e060"
      },
      "source": [
        "dados_departaento_Female_Admit.head(7)"
      ],
      "execution_count": 61,
      "outputs": [
        {
          "output_type": "execute_result",
          "data": {
            "text/html": [
              "<div>\n",
              "<style scoped>\n",
              "    .dataframe tbody tr th:only-of-type {\n",
              "        vertical-align: middle;\n",
              "    }\n",
              "\n",
              "    .dataframe tbody tr th {\n",
              "        vertical-align: top;\n",
              "    }\n",
              "\n",
              "    .dataframe thead th {\n",
              "        text-align: right;\n",
              "    }\n",
              "</style>\n",
              "<table border=\"1\" class=\"dataframe\">\n",
              "  <thead>\n",
              "    <tr style=\"text-align: right;\">\n",
              "      <th></th>\n",
              "      <th>Admit</th>\n",
              "      <th>Gender</th>\n",
              "      <th>Dept</th>\n",
              "      <th>Freq</th>\n",
              "      <th>Inscritos</th>\n",
              "    </tr>\n",
              "  </thead>\n",
              "  <tbody>\n",
              "    <tr>\n",
              "      <th>2</th>\n",
              "      <td>Admitted</td>\n",
              "      <td>Female</td>\n",
              "      <td>A</td>\n",
              "      <td>89</td>\n",
              "      <td>108</td>\n",
              "    </tr>\n",
              "    <tr>\n",
              "      <th>6</th>\n",
              "      <td>Admitted</td>\n",
              "      <td>Female</td>\n",
              "      <td>B</td>\n",
              "      <td>17</td>\n",
              "      <td>25</td>\n",
              "    </tr>\n",
              "    <tr>\n",
              "      <th>10</th>\n",
              "      <td>Admitted</td>\n",
              "      <td>Female</td>\n",
              "      <td>C</td>\n",
              "      <td>202</td>\n",
              "      <td>593</td>\n",
              "    </tr>\n",
              "    <tr>\n",
              "      <th>14</th>\n",
              "      <td>Admitted</td>\n",
              "      <td>Female</td>\n",
              "      <td>D</td>\n",
              "      <td>131</td>\n",
              "      <td>375</td>\n",
              "    </tr>\n",
              "    <tr>\n",
              "      <th>18</th>\n",
              "      <td>Admitted</td>\n",
              "      <td>Female</td>\n",
              "      <td>E</td>\n",
              "      <td>94</td>\n",
              "      <td>593</td>\n",
              "    </tr>\n",
              "    <tr>\n",
              "      <th>22</th>\n",
              "      <td>Admitted</td>\n",
              "      <td>Female</td>\n",
              "      <td>F</td>\n",
              "      <td>24</td>\n",
              "      <td>341</td>\n",
              "    </tr>\n",
              "  </tbody>\n",
              "</table>\n",
              "</div>"
            ],
            "text/plain": [
              "       Admit  Gender Dept  Freq  Inscritos\n",
              "2   Admitted  Female    A    89        108\n",
              "6   Admitted  Female    B    17         25\n",
              "10  Admitted  Female    C   202        593\n",
              "14  Admitted  Female    D   131        375\n",
              "18  Admitted  Female    E    94        593\n",
              "22  Admitted  Female    F    24        341"
            ]
          },
          "metadata": {},
          "execution_count": 61
        }
      ]
    },
    {
      "cell_type": "code",
      "metadata": {
        "id": "f9xI-DqZsxuL"
      },
      "source": [
        "dados3 = pd.concat([dados_departaento_Male_Admit, dados_departaento_Female_Admit])"
      ],
      "execution_count": 74,
      "outputs": []
    },
    {
      "cell_type": "code",
      "metadata": {
        "colab": {
          "base_uri": "https://localhost:8080/",
          "height": 421
        },
        "id": "1ttyxUnTuTwt",
        "outputId": "89db6c7d-a950-4ff1-d883-b6d7d07cc48e"
      },
      "source": [
        "dados3.head(15)"
      ],
      "execution_count": 75,
      "outputs": [
        {
          "output_type": "execute_result",
          "data": {
            "text/html": [
              "<div>\n",
              "<style scoped>\n",
              "    .dataframe tbody tr th:only-of-type {\n",
              "        vertical-align: middle;\n",
              "    }\n",
              "\n",
              "    .dataframe tbody tr th {\n",
              "        vertical-align: top;\n",
              "    }\n",
              "\n",
              "    .dataframe thead th {\n",
              "        text-align: right;\n",
              "    }\n",
              "</style>\n",
              "<table border=\"1\" class=\"dataframe\">\n",
              "  <thead>\n",
              "    <tr style=\"text-align: right;\">\n",
              "      <th></th>\n",
              "      <th>Admit</th>\n",
              "      <th>Gender</th>\n",
              "      <th>Dept</th>\n",
              "      <th>Freq</th>\n",
              "      <th>Inscritos</th>\n",
              "    </tr>\n",
              "  </thead>\n",
              "  <tbody>\n",
              "    <tr>\n",
              "      <th>0</th>\n",
              "      <td>Admitted</td>\n",
              "      <td>Male</td>\n",
              "      <td>A</td>\n",
              "      <td>512</td>\n",
              "      <td>825</td>\n",
              "    </tr>\n",
              "    <tr>\n",
              "      <th>4</th>\n",
              "      <td>Admitted</td>\n",
              "      <td>Male</td>\n",
              "      <td>B</td>\n",
              "      <td>353</td>\n",
              "      <td>560</td>\n",
              "    </tr>\n",
              "    <tr>\n",
              "      <th>8</th>\n",
              "      <td>Admitted</td>\n",
              "      <td>Male</td>\n",
              "      <td>C</td>\n",
              "      <td>120</td>\n",
              "      <td>325</td>\n",
              "    </tr>\n",
              "    <tr>\n",
              "      <th>12</th>\n",
              "      <td>Admitted</td>\n",
              "      <td>Male</td>\n",
              "      <td>D</td>\n",
              "      <td>138</td>\n",
              "      <td>417</td>\n",
              "    </tr>\n",
              "    <tr>\n",
              "      <th>16</th>\n",
              "      <td>Admitted</td>\n",
              "      <td>Male</td>\n",
              "      <td>E</td>\n",
              "      <td>53</td>\n",
              "      <td>191</td>\n",
              "    </tr>\n",
              "    <tr>\n",
              "      <th>20</th>\n",
              "      <td>Admitted</td>\n",
              "      <td>Male</td>\n",
              "      <td>F</td>\n",
              "      <td>22</td>\n",
              "      <td>373</td>\n",
              "    </tr>\n",
              "    <tr>\n",
              "      <th>2</th>\n",
              "      <td>Admitted</td>\n",
              "      <td>Female</td>\n",
              "      <td>A</td>\n",
              "      <td>89</td>\n",
              "      <td>108</td>\n",
              "    </tr>\n",
              "    <tr>\n",
              "      <th>6</th>\n",
              "      <td>Admitted</td>\n",
              "      <td>Female</td>\n",
              "      <td>B</td>\n",
              "      <td>17</td>\n",
              "      <td>25</td>\n",
              "    </tr>\n",
              "    <tr>\n",
              "      <th>10</th>\n",
              "      <td>Admitted</td>\n",
              "      <td>Female</td>\n",
              "      <td>C</td>\n",
              "      <td>202</td>\n",
              "      <td>593</td>\n",
              "    </tr>\n",
              "    <tr>\n",
              "      <th>14</th>\n",
              "      <td>Admitted</td>\n",
              "      <td>Female</td>\n",
              "      <td>D</td>\n",
              "      <td>131</td>\n",
              "      <td>375</td>\n",
              "    </tr>\n",
              "    <tr>\n",
              "      <th>18</th>\n",
              "      <td>Admitted</td>\n",
              "      <td>Female</td>\n",
              "      <td>E</td>\n",
              "      <td>94</td>\n",
              "      <td>593</td>\n",
              "    </tr>\n",
              "    <tr>\n",
              "      <th>22</th>\n",
              "      <td>Admitted</td>\n",
              "      <td>Female</td>\n",
              "      <td>F</td>\n",
              "      <td>24</td>\n",
              "      <td>341</td>\n",
              "    </tr>\n",
              "  </tbody>\n",
              "</table>\n",
              "</div>"
            ],
            "text/plain": [
              "       Admit  Gender Dept  Freq  Inscritos\n",
              "0   Admitted    Male    A   512        825\n",
              "4   Admitted    Male    B   353        560\n",
              "8   Admitted    Male    C   120        325\n",
              "12  Admitted    Male    D   138        417\n",
              "16  Admitted    Male    E    53        191\n",
              "20  Admitted    Male    F    22        373\n",
              "2   Admitted  Female    A    89        108\n",
              "6   Admitted  Female    B    17         25\n",
              "10  Admitted  Female    C   202        593\n",
              "14  Admitted  Female    D   131        375\n",
              "18  Admitted  Female    E    94        593\n",
              "22  Admitted  Female    F    24        341"
            ]
          },
          "metadata": {},
          "execution_count": 75
        }
      ]
    },
    {
      "cell_type": "code",
      "metadata": {
        "id": "yppN7TsjuU6h"
      },
      "source": [
        ""
      ],
      "execution_count": null,
      "outputs": []
    }
  ]
}