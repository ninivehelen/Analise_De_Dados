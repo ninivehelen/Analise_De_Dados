{
  "nbformat": 4,
  "nbformat_minor": 0,
  "metadata": {
    "colab": {
      "name": "vacina_GO.ipynb",
      "provenance": [],
      "collapsed_sections": []
    },
    "kernelspec": {
      "name": "python3",
      "display_name": "Python 3"
    },
    "language_info": {
      "name": "python"
    }
  },
  "cells": [
    {
      "cell_type": "markdown",
      "metadata": {
        "id": "_dAXQtnA_Ft9"
      },
      "source": [
        "**Dados sobre a vacinação no Góias**\n",
        "\n"
      ]
    },
    {
      "cell_type": "code",
      "metadata": {
        "colab": {
          "base_uri": "https://localhost:8080/"
        },
        "id": "L9d0vVIUuWgX",
        "outputId": "b35ad05f-c1d2-4c54-9e17-e2d61c3ce57c"
      },
      "source": [
        "from google.colab import drive\n",
        "drive.mount('/content/drive')"
      ],
      "execution_count": 3,
      "outputs": [
        {
          "output_type": "stream",
          "text": [
            "Drive already mounted at /content/drive; to attempt to forcibly remount, call drive.mount(\"/content/drive\", force_remount=True).\n"
          ],
          "name": "stdout"
        }
      ]
    },
    {
      "cell_type": "code",
      "metadata": {
        "id": "MoFZV9PTuTSa"
      },
      "source": [
        "import pandas as pd"
      ],
      "execution_count": 16,
      "outputs": []
    },
    {
      "cell_type": "code",
      "metadata": {
        "id": "KD1fDJ7dulYi"
      },
      "source": [
        "vacina_GO = pd.read_csv(\"/content/drive/MyDrive/vacina_covid.csv\", sep=\";\")"
      ],
      "execution_count": 17,
      "outputs": []
    },
    {
      "cell_type": "markdown",
      "metadata": {
        "id": "951lRGub9S90"
      },
      "source": [
        "**Cabeçalho dos Dados**"
      ]
    },
    {
      "cell_type": "code",
      "metadata": {
        "id": "BoI01Qj8u-UD",
        "colab": {
          "base_uri": "https://localhost:8080/",
          "height": 547
        },
        "outputId": "0d0b95e9-2677-4aca-8c4d-5f89f1b1d4ff"
      },
      "source": [
        "vacina_GO.head()"
      ],
      "execution_count": 18,
      "outputs": [
        {
          "output_type": "execute_result",
          "data": {
            "text/html": [
              "<div>\n",
              "<style scoped>\n",
              "    .dataframe tbody tr th:only-of-type {\n",
              "        vertical-align: middle;\n",
              "    }\n",
              "\n",
              "    .dataframe tbody tr th {\n",
              "        vertical-align: top;\n",
              "    }\n",
              "\n",
              "    .dataframe thead th {\n",
              "        text-align: right;\n",
              "    }\n",
              "</style>\n",
              "<table border=\"1\" class=\"dataframe\">\n",
              "  <thead>\n",
              "    <tr style=\"text-align: right;\">\n",
              "      <th></th>\n",
              "      <th>document_id</th>\n",
              "      <th>paciente_id</th>\n",
              "      <th>paciente_idade</th>\n",
              "      <th>paciente_datanascimento</th>\n",
              "      <th>paciente_enumsexobiologico</th>\n",
              "      <th>paciente_racacor_codigo</th>\n",
              "      <th>paciente_racacor_valor</th>\n",
              "      <th>paciente_endereco_coibgemunicipio</th>\n",
              "      <th>paciente_endereco_copais</th>\n",
              "      <th>paciente_endereco_nmmunicipio</th>\n",
              "      <th>paciente_endereco_nmpais</th>\n",
              "      <th>paciente_endereco_uf</th>\n",
              "      <th>paciente_endereco_cep</th>\n",
              "      <th>paciente_nacionalidade_enumnacionalidade</th>\n",
              "      <th>estabelecimento_valor</th>\n",
              "      <th>estabelecimento_razaosocial</th>\n",
              "      <th>estalecimento_nofantasia</th>\n",
              "      <th>estabelecimento_municipio_codigo</th>\n",
              "      <th>estabelecimento_municipio_nome</th>\n",
              "      <th>estabelecimento_uf</th>\n",
              "      <th>vacina_grupoatendimento_codigo</th>\n",
              "      <th>vacina_grupoatendimento_nome</th>\n",
              "      <th>vacina_categoria_codigo</th>\n",
              "      <th>vacina_categoria_nome</th>\n",
              "      <th>vacina_lote</th>\n",
              "      <th>vacina_fabricante_nome</th>\n",
              "      <th>vacina_fabricante_referencia</th>\n",
              "      <th>vacina_dataaplicacao</th>\n",
              "      <th>vacina_descricao_dose</th>\n",
              "      <th>vacina_codigo</th>\n",
              "      <th>vacina_nome</th>\n",
              "      <th>sistema_origem</th>\n",
              "      <th>data_importacao_rnds</th>\n",
              "      <th>id_sistema_origem</th>\n",
              "    </tr>\n",
              "  </thead>\n",
              "  <tbody>\n",
              "    <tr>\n",
              "      <th>0</th>\n",
              "      <td>342cfe4f-979a-4965-b98f-90a42096f0f8-i0b0</td>\n",
              "      <td>616aae2456e161e8e55a032604617138a75f20acd74b0a...</td>\n",
              "      <td>64</td>\n",
              "      <td>1956-12-15</td>\n",
              "      <td>F</td>\n",
              "      <td>2</td>\n",
              "      <td>PRETA</td>\n",
              "      <td>520870.0</td>\n",
              "      <td>10.0</td>\n",
              "      <td>GOIANIA</td>\n",
              "      <td>BRASIL</td>\n",
              "      <td>GO</td>\n",
              "      <td>74393.0</td>\n",
              "      <td>B</td>\n",
              "      <td>6449409</td>\n",
              "      <td>SECRETARIA MUNICIPAL DE SAUDE</td>\n",
              "      <td>SECRETARIA MUNICIPAL DE SAUDE DE GOIANIA</td>\n",
              "      <td>520870</td>\n",
              "      <td>GOIANIA</td>\n",
              "      <td>GO</td>\n",
              "      <td>201</td>\n",
              "      <td>Pessoas de 18 a 64 anos</td>\n",
              "      <td>2.0</td>\n",
              "      <td>Faixa Etária</td>\n",
              "      <td>213VCD013W</td>\n",
              "      <td>FUNDACAO OSWALDO CRUZ</td>\n",
              "      <td>Organization/33781055000135</td>\n",
              "      <td>2021-04-20</td>\n",
              "      <td>1ª Dose</td>\n",
              "      <td>85</td>\n",
              "      <td>Vacina Covid-19 - Covishield</td>\n",
              "      <td>Novo PNI</td>\n",
              "      <td>2021-05-21T17:52:46.000Z</td>\n",
              "      <td>16341</td>\n",
              "    </tr>\n",
              "    <tr>\n",
              "      <th>1</th>\n",
              "      <td>d0126e79-94c7-4976-9b97-3de02c1ef233-i0b0</td>\n",
              "      <td>799b7fd78ed03d7f3ed3ed2b595f4d1cf273a996dcd9e9...</td>\n",
              "      <td>43</td>\n",
              "      <td>1978-03-15</td>\n",
              "      <td>M</td>\n",
              "      <td>99</td>\n",
              "      <td>SEM INFORMACAO</td>\n",
              "      <td>520140.0</td>\n",
              "      <td>10.0</td>\n",
              "      <td>APARECIDA DE GOIANIA</td>\n",
              "      <td>BRASIL</td>\n",
              "      <td>GO</td>\n",
              "      <td>74919.0</td>\n",
              "      <td>B</td>\n",
              "      <td>2358700</td>\n",
              "      <td>FUNDO MUNICIPAL DE SAUDE APDAGO</td>\n",
              "      <td>UNIDADE MOVEL MEDICA</td>\n",
              "      <td>520140</td>\n",
              "      <td>APARECIDA DE GOIANIA</td>\n",
              "      <td>GO</td>\n",
              "      <td>1401</td>\n",
              "      <td>Funcionário do Sistema de Privação de Liberdade</td>\n",
              "      <td>14.0</td>\n",
              "      <td>Funcionário do Sistema de Privação de Liberdade</td>\n",
              "      <td>210148</td>\n",
              "      <td>FUNDACAO BUTANTAN</td>\n",
              "      <td>Organization/61189445000156</td>\n",
              "      <td>2021-05-04</td>\n",
              "      <td>2ª Dose</td>\n",
              "      <td>86</td>\n",
              "      <td>Covid-19-Coronavac-Sinovac/Butantan</td>\n",
              "      <td>Novo PNI</td>\n",
              "      <td>2021-05-04T12:38:08.000Z</td>\n",
              "      <td>16341</td>\n",
              "    </tr>\n",
              "    <tr>\n",
              "      <th>2</th>\n",
              "      <td>34340259-8e2f-4bdd-b944-354977f1d153-i0b0</td>\n",
              "      <td>d7dc4798ffb8fcd90db3119ab748269a1aeee122c886ed...</td>\n",
              "      <td>47</td>\n",
              "      <td>1973-11-16</td>\n",
              "      <td>F</td>\n",
              "      <td>3</td>\n",
              "      <td>PARDA</td>\n",
              "      <td>521460.0</td>\n",
              "      <td>10.0</td>\n",
              "      <td>NIQUELANDIA</td>\n",
              "      <td>BRASIL</td>\n",
              "      <td>GO</td>\n",
              "      <td>76420.0</td>\n",
              "      <td>B</td>\n",
              "      <td>433462</td>\n",
              "      <td>MUNICIPIO DE NIQUELANDIA</td>\n",
              "      <td>PSF JARDIM AGUAS CLARAS</td>\n",
              "      <td>521460</td>\n",
              "      <td>NIQUELANDIA</td>\n",
              "      <td>GO</td>\n",
              "      <td>601</td>\n",
              "      <td>Quilombola</td>\n",
              "      <td>6.0</td>\n",
              "      <td>Povos e Comunidades Tradicionais</td>\n",
              "      <td>210060</td>\n",
              "      <td>FUNDACAO BUTANTAN</td>\n",
              "      <td>Organization/61189445000156</td>\n",
              "      <td>2021-05-05</td>\n",
              "      <td>1ª Dose</td>\n",
              "      <td>86</td>\n",
              "      <td>Covid-19-Coronavac-Sinovac/Butantan</td>\n",
              "      <td>Novo PNI</td>\n",
              "      <td>2021-05-05T17:00:41.000Z</td>\n",
              "      <td>16341</td>\n",
              "    </tr>\n",
              "    <tr>\n",
              "      <th>3</th>\n",
              "      <td>2967dd8e-7a6e-439b-ae03-1d0dd9ff99df-i0b0</td>\n",
              "      <td>d0dfa5daa2a130d61fcfc675e231edb556f83c546a6f8d...</td>\n",
              "      <td>75</td>\n",
              "      <td>1945-12-21</td>\n",
              "      <td>M</td>\n",
              "      <td>3</td>\n",
              "      <td>PARDA</td>\n",
              "      <td>521487.0</td>\n",
              "      <td>10.0</td>\n",
              "      <td>NOVA IGUACU DE GOIAS</td>\n",
              "      <td>BRASIL</td>\n",
              "      <td>GO</td>\n",
              "      <td>76495.0</td>\n",
              "      <td>B</td>\n",
              "      <td>2436965</td>\n",
              "      <td>MUNICIPIO DE NOVA IGUACU DE GOIAS</td>\n",
              "      <td>CENTRO DE SAUDE SANTA ROSA</td>\n",
              "      <td>521487</td>\n",
              "      <td>NOVA IGUACU DE GOIAS</td>\n",
              "      <td>GO</td>\n",
              "      <td>204</td>\n",
              "      <td>Pessoas de 75 a 79 anos</td>\n",
              "      <td>2.0</td>\n",
              "      <td>Faixa Etária</td>\n",
              "      <td>210120</td>\n",
              "      <td>FUNDACAO BUTANTAN</td>\n",
              "      <td>Organization/61189445000156</td>\n",
              "      <td>2021-04-20</td>\n",
              "      <td>2ª Dose</td>\n",
              "      <td>86</td>\n",
              "      <td>Covid-19-Coronavac-Sinovac/Butantan</td>\n",
              "      <td>Novo PNI</td>\n",
              "      <td>2021-04-23T06:32:38.000Z</td>\n",
              "      <td>16341</td>\n",
              "    </tr>\n",
              "    <tr>\n",
              "      <th>4</th>\n",
              "      <td>03685096-ff09-4dfa-a018-21d124b5bfea-i0b0</td>\n",
              "      <td>4be0b7b1ad13cda4208b714ef3f3a56b98ecf5f0a9f185...</td>\n",
              "      <td>69</td>\n",
              "      <td>1951-08-19</td>\n",
              "      <td>F</td>\n",
              "      <td>3</td>\n",
              "      <td>PARDA</td>\n",
              "      <td>150034.0</td>\n",
              "      <td>10.0</td>\n",
              "      <td>AGUA AZUL DO NORTE</td>\n",
              "      <td>BRASIL</td>\n",
              "      <td>PA</td>\n",
              "      <td>68533.0</td>\n",
              "      <td>B</td>\n",
              "      <td>2361248</td>\n",
              "      <td>PREFEITURA MUNICIPAL DE BRAZABRANTES</td>\n",
              "      <td>UBS SEBASTIAO LOZI ESF ROQUE ALVES SANTANA</td>\n",
              "      <td>520360</td>\n",
              "      <td>BRAZABRANTES</td>\n",
              "      <td>GO</td>\n",
              "      <td>202</td>\n",
              "      <td>Pessoas de 65 a 69 anos</td>\n",
              "      <td>2.0</td>\n",
              "      <td>Faixa Etária</td>\n",
              "      <td>210060</td>\n",
              "      <td>FUNDACAO BUTANTAN</td>\n",
              "      <td>Organization/61189445000156</td>\n",
              "      <td>2021-03-23</td>\n",
              "      <td>1ª Dose</td>\n",
              "      <td>86</td>\n",
              "      <td>Covid-19-Coronavac-Sinovac/Butantan</td>\n",
              "      <td>Novo PNI</td>\n",
              "      <td>2021-04-04T20:52:01.000Z</td>\n",
              "      <td>16341</td>\n",
              "    </tr>\n",
              "  </tbody>\n",
              "</table>\n",
              "</div>"
            ],
            "text/plain": [
              "                                 document_id  ... id_sistema_origem\n",
              "0  342cfe4f-979a-4965-b98f-90a42096f0f8-i0b0  ...             16341\n",
              "1  d0126e79-94c7-4976-9b97-3de02c1ef233-i0b0  ...             16341\n",
              "2  34340259-8e2f-4bdd-b944-354977f1d153-i0b0  ...             16341\n",
              "3  2967dd8e-7a6e-439b-ae03-1d0dd9ff99df-i0b0  ...             16341\n",
              "4  03685096-ff09-4dfa-a018-21d124b5bfea-i0b0  ...             16341\n",
              "\n",
              "[5 rows x 34 columns]"
            ]
          },
          "metadata": {
            "tags": []
          },
          "execution_count": 18
        }
      ]
    },
    {
      "cell_type": "markdown",
      "metadata": {
        "id": "JBHumIbs9K6W"
      },
      "source": [
        " **Informaçoes dos Dados**\n",
        "\n"
      ]
    },
    {
      "cell_type": "code",
      "metadata": {
        "id": "UFTer9VmwbBM",
        "colab": {
          "base_uri": "https://localhost:8080/"
        },
        "outputId": "c1c6d072-b055-41e9-9b9b-4162a14b0780"
      },
      "source": [
        "vacina_GO.info()"
      ],
      "execution_count": 19,
      "outputs": [
        {
          "output_type": "stream",
          "text": [
            "<class 'pandas.core.frame.DataFrame'>\n",
            "RangeIndex: 3123857 entries, 0 to 3123856\n",
            "Data columns (total 34 columns):\n",
            " #   Column                                    Dtype  \n",
            "---  ------                                    -----  \n",
            " 0   document_id                               object \n",
            " 1   paciente_id                               object \n",
            " 2   paciente_idade                            int64  \n",
            " 3   paciente_datanascimento                   object \n",
            " 4   paciente_enumsexobiologico                object \n",
            " 5   paciente_racacor_codigo                   int64  \n",
            " 6   paciente_racacor_valor                    object \n",
            " 7   paciente_endereco_coibgemunicipio         float64\n",
            " 8   paciente_endereco_copais                  float64\n",
            " 9   paciente_endereco_nmmunicipio             object \n",
            " 10  paciente_endereco_nmpais                  object \n",
            " 11  paciente_endereco_uf                      object \n",
            " 12  paciente_endereco_cep                     float64\n",
            " 13  paciente_nacionalidade_enumnacionalidade  object \n",
            " 14  estabelecimento_valor                     int64  \n",
            " 15  estabelecimento_razaosocial               object \n",
            " 16  estalecimento_nofantasia                  object \n",
            " 17  estabelecimento_municipio_codigo          int64  \n",
            " 18  estabelecimento_municipio_nome            object \n",
            " 19  estabelecimento_uf                        object \n",
            " 20  vacina_grupoatendimento_codigo            int64  \n",
            " 21  vacina_grupoatendimento_nome              object \n",
            " 22  vacina_categoria_codigo                   float64\n",
            " 23  vacina_categoria_nome                     object \n",
            " 24  vacina_lote                               object \n",
            " 25  vacina_fabricante_nome                    object \n",
            " 26  vacina_fabricante_referencia              object \n",
            " 27  vacina_dataaplicacao                      object \n",
            " 28  vacina_descricao_dose                     object \n",
            " 29  vacina_codigo                             int64  \n",
            " 30  vacina_nome                               object \n",
            " 31  sistema_origem                            object \n",
            " 32  data_importacao_rnds                      object \n",
            " 33  id_sistema_origem                         int64  \n",
            "dtypes: float64(4), int64(7), object(23)\n",
            "memory usage: 810.3+ MB\n"
          ],
          "name": "stdout"
        }
      ]
    },
    {
      "cell_type": "markdown",
      "metadata": {
        "id": "MU2kma5K9ZIQ"
      },
      "source": [
        "**Raça dos pacientes Vacinados**"
      ]
    },
    {
      "cell_type": "code",
      "metadata": {
        "colab": {
          "base_uri": "https://localhost:8080/",
          "height": 282
        },
        "id": "xXiSWj3q1PUa",
        "outputId": "5319f68c-f35a-4b0a-aa31-9981cd7315e7"
      },
      "source": [
        "vacina_GO.paciente_racacor_valor.value_counts().plot(kind='barh')"
      ],
      "execution_count": 65,
      "outputs": [
        {
          "output_type": "execute_result",
          "data": {
            "text/plain": [
              "<matplotlib.axes._subplots.AxesSubplot at 0x7f4a1118f490>"
            ]
          },
          "metadata": {
            "tags": []
          },
          "execution_count": 65
        },
        {
          "output_type": "display_data",
          "data": {
            "image/png": "[encoded data removed]",
            "text/plain": [
              "<Figure size 432x288 with 1 Axes>"
            ]
          },
          "metadata": {
            "tags": [],
            "needs_background": "light"
          }
        }
      ]
    },
    {
      "cell_type": "markdown",
      "metadata": {
        "id": "RkgbRgpy-C2V"
      },
      "source": [
        "**Total Estabelecimento Razão Social de vacinas aplicadas/ 20 primeiras**"
      ]
    },
    {
      "cell_type": "code",
      "metadata": {
        "colab": {
          "base_uri": "https://localhost:8080/"
        },
        "id": "mqPmUK002JxR",
        "outputId": "4992aafa-0ad0-41ae-9766-3c10a06aa59e"
      },
      "source": [
        "vacina_GO.estabelecimento_razaosocial.value_counts().head(20)"
      ],
      "execution_count": 106,
      "outputs": [
        {
          "output_type": "execute_result",
          "data": {
            "text/plain": [
              "SECRETARIA MUNICIPAL DE SAUDE                    782201\n",
              "FUNDO MUNICIPAL DE SAUDE APDAGO                  176258\n",
              "PREFEITURA MUNICIPAL DE ANAPOLIS                 158692\n",
              "MUNICIPIO DE RIO VERDE                            97402\n",
              "PREFEITURA MUNICIPAL DE LUZIANIA                  70578\n",
              "FUNDO MUNICIPAL DE SAUDE DE TRINDADE              54184\n",
              "SECRETARIA MUNICIPAL DE SAUDE DE ITUMBIARA        54158\n",
              "FUNDO MUNICIPAL DE SAUDE                          54066\n",
              "MUNICIPIO DE FORMOSA                              50395\n",
              "MUNICIPIO DE CATALAO                              48609\n",
              "PREFEITURA MUNICIPAL DE JATAI                     45496\n",
              "PREFEITURA MUNICIPAL DE VALPARAISO DE GOIAS       41853\n",
              "MUNICIPIO DE CALDAS NOVAS                         39800\n",
              "PREFEITURA MUNICIPAL DE SENADOR CANEDO            39207\n",
              "PREFEITURA MUNICIPAL DE GOIANESIA                 36711\n",
              "PREFEITURA MUNICIPAL DE AGUAS LINDAS DE GOIAS     34232\n",
              "MUNICIPIO DE CIDADE OCIDENTAL                     28194\n",
              "PREFEITURA MUNICIPAL DE INHUMAS                   27763\n",
              "MUNICIPIO DE ANAPOLIS                             26545\n",
              "PREFEITURA MUNICIPAL DE NOVO GAMA                 25294\n",
              "Name: estabelecimento_razaosocial, dtype: int64"
            ]
          },
          "metadata": {
            "tags": []
          },
          "execution_count": 106
        }
      ]
    },
    {
      "cell_type": "markdown",
      "metadata": {
        "id": "p7CU1jaU-Mky"
      },
      "source": [
        "**Total de cada Fabricante da vacina aplicada**"
      ]
    },
    {
      "cell_type": "code",
      "metadata": {
        "colab": {
          "base_uri": "https://localhost:8080/",
          "height": 295
        },
        "id": "4zZwrNoD3y5X",
        "outputId": "7279d1ad-4abb-4389-ed19-f6668d71d399"
      },
      "source": [
        "vacina_GO.vacina_fabricante_nome.value_counts().plot(kind='barh')"
      ],
      "execution_count": 67,
      "outputs": [
        {
          "output_type": "execute_result",
          "data": {
            "text/plain": [
              "<matplotlib.axes._subplots.AxesSubplot at 0x7f4a10ddef10>"
            ]
          },
          "metadata": {
            "tags": []
          },
          "execution_count": 67
        },
        {
          "output_type": "display_data",
          "data": {
            "image/png": "[encoded data removed]",
            "text/plain": [
              "<Figure size 432x288 with 1 Axes>"
            ]
          },
          "metadata": {
            "tags": [],
            "needs_background": "light"
          }
        }
      ]
    },
    {
      "cell_type": "markdown",
      "metadata": {
        "id": "CI110oRa-lcx"
      },
      "source": [
        "**Total nome Vacina**"
      ]
    },
    {
      "cell_type": "code",
      "metadata": {
        "colab": {
          "base_uri": "https://localhost:8080/"
        },
        "id": "815wlsoI5uvG",
        "outputId": "30ecfeb0-dd81-4311-b5fe-8f24f6dcc01a"
      },
      "source": [
        "vacina_GO.vacina_nome.value_counts()"
      ],
      "execution_count": 105,
      "outputs": [
        {
          "output_type": "execute_result",
          "data": {
            "text/plain": [
              "Vacina Covid-19 - Covishield                                 1337797\n",
              "Covid-19-Coronavac-Sinovac/Butantan                          1267053\n",
              "Vacina covid-19 - BNT162b2 - BioNTech/Fosun Pharma/Pfizer     326776\n",
              "Covid-19-AstraZeneca                                          156311\n",
              "Vacina covid-19 - Ad26.COV2.S - Janssen-Cilag                  35920\n",
              "Name: vacina_nome, dtype: int64"
            ]
          },
          "metadata": {
            "tags": []
          },
          "execution_count": 105
        }
      ]
    },
    {
      "cell_type": "markdown",
      "metadata": {
        "id": "vJD_XCc5-qNK"
      },
      "source": [
        "**Total categoria dos Vacinados**"
      ]
    },
    {
      "cell_type": "code",
      "metadata": {
        "colab": {
          "base_uri": "https://localhost:8080/"
        },
        "id": "4CAdDsGU5HpV",
        "outputId": "d786ee3d-7e9d-43a7-c69b-a2afdcd55d08"
      },
      "source": [
        "vacina_GO.vacina_categoria_nome.value_counts()"
      ],
      "execution_count": 103,
      "outputs": [
        {
          "output_type": "execute_result",
          "data": {
            "text/plain": [
              "Faixa Etária                                       1928020\n",
              "Trabalhadores de Saúde                              409543\n",
              "Comorbidades                                        379271\n",
              "Trabalhadores da Educação                           118487\n",
              "Trabalhadores Industriais                            45849\n",
              "Trabalhadores de Transporte                          43666\n",
              "Pessoas de 60 anos ou mais institucionalizadas       40536\n",
              "Forças de Segurança e Salvamento                     32003\n",
              "Povos e Comunidades Tradicionais                     31257\n",
              "Pessoas com Deficiência                              21210\n",
              "População Privada de Liberdade                       10415\n",
              "Funcionário do Sistema de Privação de Liberdade       4519\n",
              "Forças Armadas (membros ativos)                       4314\n",
              "Povos Indígenas                                        653\n",
              "Pessoas em Situação de Rua                             632\n",
              "Trabalhadores Portuários                               458\n",
              "Name: vacina_categoria_nome, dtype: int64"
            ]
          },
          "metadata": {
            "tags": []
          },
          "execution_count": 103
        }
      ]
    },
    {
      "cell_type": "markdown",
      "metadata": {
        "id": "-58ZvL-KBiVN"
      },
      "source": [
        "**Total Vacinados por sexo Biologico**"
      ]
    },
    {
      "cell_type": "code",
      "metadata": {
        "colab": {
          "base_uri": "https://localhost:8080/",
          "height": 292
        },
        "id": "Glnw_jo18Oye",
        "outputId": "b8a58e56-6d8f-49e1-cab8-149620170410"
      },
      "source": [
        "vacina_GO.paciente_enumsexobiologico.value_counts().plot(kind=\"bar\")"
      ],
      "execution_count": 58,
      "outputs": [
        {
          "output_type": "execute_result",
          "data": {
            "text/plain": [
              "<matplotlib.axes._subplots.AxesSubplot at 0x7f4a1135aa50>"
            ]
          },
          "metadata": {
            "tags": []
          },
          "execution_count": 58
        },
        {
          "output_type": "display_data",
          "data": {
            "image/png": "[encoded data removed]",
            "text/plain": [
              "<Figure size 432x288 with 1 Axes>"
            ]
          },
          "metadata": {
            "tags": [],
            "needs_background": "light"
          }
        }
      ]
    },
    {
      "cell_type": "markdown",
      "metadata": {
        "id": "iwqHfqEpD97c"
      },
      "source": [
        "**Convertendo dados para data**"
      ]
    },
    {
      "cell_type": "code",
      "metadata": {
        "id": "V3o4gEYzAA0S"
      },
      "source": [
        "vacina_GO.vacina_dataaplicacao= pd.to_datetime(vacina_GO.vacina_dataaplicacao)"
      ],
      "execution_count": 63,
      "outputs": []
    },
    {
      "cell_type": "markdown",
      "metadata": {
        "id": "WfC3fnH-EBah"
      },
      "source": [
        "**Leitura dos dados em formato data**"
      ]
    },
    {
      "cell_type": "code",
      "metadata": {
        "colab": {
          "base_uri": "https://localhost:8080/"
        },
        "id": "8uLvPt3eDDWk",
        "outputId": "226d2b16-3e33-41e7-e0b9-d8802d873be7"
      },
      "source": [
        "vacina_GO.vacina_dataaplicacao"
      ],
      "execution_count": 64,
      "outputs": [
        {
          "output_type": "execute_result",
          "data": {
            "text/plain": [
              "0         2021-04-20\n",
              "1         2021-05-04\n",
              "2         2021-05-05\n",
              "3         2021-04-20\n",
              "4         2021-03-23\n",
              "             ...    \n",
              "3123852   2021-06-01\n",
              "3123853   2021-01-27\n",
              "3123854   2021-05-04\n",
              "3123855   2021-05-27\n",
              "3123856   2021-05-15\n",
              "Name: vacina_dataaplicacao, Length: 3123857, dtype: datetime64[ns]"
            ]
          },
          "metadata": {
            "tags": []
          },
          "execution_count": 64
        }
      ]
    },
    {
      "cell_type": "markdown",
      "metadata": {
        "id": "QPD-z3DhG5eo"
      },
      "source": [
        "**Total vacinados Municipios/ os 20 primeiros**"
      ]
    },
    {
      "cell_type": "code",
      "metadata": {
        "colab": {
          "base_uri": "https://localhost:8080/"
        },
        "id": "ARxDbFa9GF36",
        "outputId": "13bb63dd-33ec-476b-dda2-80bcb3d76964"
      },
      "source": [
        "vacina_GO.estabelecimento_municipio_nome.value_counts().head(20)\n"
      ],
      "execution_count": 98,
      "outputs": [
        {
          "output_type": "execute_result",
          "data": {
            "text/plain": [
              "GOIANIA                  759424\n",
              "APARECIDA DE GOIANIA     221226\n",
              "ANAPOLIS                 185237\n",
              "RIO VERDE                 97402\n",
              "LUZIANIA                  70578\n",
              "ITUMBIARA                 54209\n",
              "TRINDADE                  54184\n",
              "FORMOSA                   50395\n",
              "AGUAS LINDAS DE GOIAS     49584\n",
              "CATALAO                   48609\n",
              "JATAI                     45496\n",
              "VALPARAISO DE GOIAS       44790\n",
              "CALDAS NOVAS              40076\n",
              "SENADOR CANEDO            39207\n",
              "GOIANESIA                 37478\n",
              "PLANALTINA                33815\n",
              "CIDADE OCIDENTAL          28194\n",
              "INHUMAS                   27763\n",
              "NOVO GAMA                 25294\n",
              "MINEIROS                  25136\n",
              "Name: estabelecimento_municipio_nome, dtype: int64"
            ]
          },
          "metadata": {
            "tags": []
          },
          "execution_count": 98
        }
      ]
    },
    {
      "cell_type": "markdown",
      "metadata": {
        "id": "COyFO8GHIPs3"
      },
      "source": [
        "**Faixa Etaria de Vacinados**"
      ]
    },
    {
      "cell_type": "code",
      "metadata": {
        "colab": {
          "base_uri": "https://localhost:8080/"
        },
        "id": "0bN1s9eLGzKQ",
        "outputId": "b403d3cf-13f2-4e11-f199-d275dba79bb1"
      },
      "source": [
        "vacina_GO.vacina_grupoatendimento_nome.value_counts().head(60)"
      ],
      "execution_count": 100,
      "outputs": [
        {
          "output_type": "execute_result",
          "data": {
            "text/plain": [
              "Pessoas de 18 a 64 anos                                                      742801\n",
              "Pessoas de 65 a 69 anos                                                      363440\n",
              "Pessoas de 70 a 74 anos                                                      278885\n",
              "Pessoas de 80 anos ou mais                                                   201413\n",
              "Pessoas de 75 a 79 anos                                                      184143\n",
              "Pessoas de 60 a 64 anos                                                      157338\n",
              "Outros                                                                       153561\n",
              "Hipertensão de difícil controle ou com complicações/lesão de órgão alvo      131515\n",
              "Diabetes Mellitus                                                            104651\n",
              "Ensino Básico                                                                102311\n",
              "Técnico de Enfermagem                                                         48559\n",
              "Trabalhadores Industriais                                                     45849\n",
              "Pessoas de 60 nos ou mais Institucionalizadas                                 40536\n",
              "Outros Imunossuprimidos                                                       38676\n",
              "Pneumopatias Crônicas Graves                                                  34064\n",
              "Caminhoneiro                                                                  33500\n",
              "Quilombola                                                                    31253\n",
              "Obesidade Grave (Imc>=40)                                                     30039\n",
              "Doenças Cardiovasculares e Cerebrovasculares                                  28668\n",
              "Médico                                                                        27052\n",
              "Recepcionista                                                                 24999\n",
              "Enfermeiro(a)                                                                 22527\n",
              "Pessoas com Deficiências Permanente Grave                                     19327\n",
              "Odontologista                                                                 18834\n",
              "Gestante                                                                      17535\n",
              "Profissionais e Auxiliares de limpeza                                         16892\n",
              "Ensino Superior                                                               16176\n",
              "Policial Militar                                                              15421\n",
              "Farmacêutico                                                                  15109\n",
              "Acadêmicos/estudantes em estágio em estabelecimentos de saúde                 14298\n",
              "Outros Grupos                                                                 10657\n",
              "População Privada de Liberdade                                                10415\n",
              "Fisioterapeutas                                                                8253\n",
              "Psicólogo                                                                      7768\n",
              "Motorista de Ambulância                                                        7727\n",
              "Coletivo Rodoviário Passageiros Urbano e de Longo Curso                        7111\n",
              "Policial Civil                                                                 6584\n",
              "Cuidador de Idosos                                                             6289\n",
              "Trabalhadores de limpeza urbana e manejo de resíduos sólidos                   6155\n",
              "Doença Renal Crônica                                                           5071\n",
              "Guarda Municipal                                                               4954\n",
              "Técnico de Odontologia                                                         4887\n",
              "Puérpera                                                                       4882\n",
              "Funcionário do Sistema de Privação de Liberdade                                4519\n",
              "Cozinheiro e Auxiliares                                                        4339\n",
              "Biomédico                                                                      3800\n",
              "Segurança                                                                      3767\n",
              "Profissionais de Educação Física                                               3663\n",
              "Nutricionista                                                                  3654\n",
              "Médico Veterinário                                                             3583\n",
              "Bombeiro Militar                                                               3477\n",
              "Exército Brasileiro - EB                                                       2810\n",
              "Assistente Social                                                              2457\n",
              "Funcionário do Sistema Funerário c/ cadáveres potencialmente contaminados      2430\n",
              "Aéreo                                                                          2329\n",
              "Neoplasias                                                                     2274\n",
              "Auxiliar de Enfermagem                                                         2043\n",
              "Síndrome de Down                                                               1902\n",
              "Pessoas com Deficiência Institucionalizadas                                    1883\n",
              "Fonoaudiólogo                                                                  1579\n",
              "Name: vacina_grupoatendimento_nome, dtype: int64"
            ]
          },
          "metadata": {
            "tags": []
          },
          "execution_count": 100
        }
      ]
    },
    {
      "cell_type": "code",
      "metadata": {
        "id": "pkOsWeXAHolb"
      },
      "source": [
        ""
      ],
      "execution_count": null,
      "outputs": []
    }
  ]
}