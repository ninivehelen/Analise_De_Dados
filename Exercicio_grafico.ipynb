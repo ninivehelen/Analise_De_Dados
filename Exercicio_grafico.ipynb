{
  "nbformat": 4,
  "nbformat_minor": 0,
  "metadata": {
    "colab": {
      "name": "Exercicio_grafico.ipynb",
      "provenance": [],
      "collapsed_sections": [],
      "authorship_tag": "ABX9TyNyw12NhdyonCX1F09stz1N",
      "include_colab_link": true
    },
    "kernelspec": {
      "name": "python3",
      "display_name": "Python 3"
    },
    "language_info": {
      "name": "python"
    }
  },
  "cells": [
    {
      "cell_type": "markdown",
      "metadata": {
        "id": "view-in-github",
        "colab_type": "text"
      },
      "source": [
        "<a href=\"https://colab.research.google.com/github/ninivehelen/Analise_De_Dados/blob/master/Exercicio_grafico.ipynb\" target=\"_parent\"><img src=\"https://colab.research.google.com/assets/colab-badge.svg\" alt=\"Open In Colab\"/></a>"
      ]
    },
    {
      "cell_type": "markdown",
      "metadata": {
        "id": "vBSn2rhvLteC"
      },
      "source": [
        "**Gráfico da classificação dos filmes**"
      ]
    },
    {
      "cell_type": "code",
      "metadata": {
        "id": "kWBKZj3ADTIB"
      },
      "source": [
        "import pandas as pd\n",
        "import matplotlib.pyplot as plt\n",
        "import seaborn as sns"
      ],
      "execution_count": 95,
      "outputs": []
    },
    {
      "cell_type": "code",
      "metadata": {
        "id": "Nbg6nKewDXRI"
      },
      "source": [
        "df_movies = pd.read_csv(\"/content/movies.csv\")"
      ],
      "execution_count": 96,
      "outputs": []
    },
    {
      "cell_type": "code",
      "metadata": {
        "id": "waS4Ml3PDg5h"
      },
      "source": [
        "df_notas = pd.read_csv(\"/content/ratings.csv\")"
      ],
      "execution_count": 97,
      "outputs": []
    },
    {
      "cell_type": "markdown",
      "metadata": {
        "id": "gEXw-8OBNGFM"
      },
      "source": [
        "**Calculando a média**"
      ]
    },
    {
      "cell_type": "code",
      "metadata": {
        "id": "kki9CNqtK0gq"
      },
      "source": [
        "df_notas = df_notas.groupby('movieId').mean()['rating']"
      ],
      "execution_count": 98,
      "outputs": []
    },
    {
      "cell_type": "markdown",
      "metadata": {
        "id": "0oQqMxYJMvkt"
      },
      "source": [
        "**Juntando dataframe filmes e os das notas**"
      ]
    },
    {
      "cell_type": "code",
      "metadata": {
        "id": "i_6QzbvSDiem"
      },
      "source": [
        "df_movies_notas = pd.merge(df_movies, df_notas, how = 'inner', on = 'movieId')"
      ],
      "execution_count": 99,
      "outputs": []
    },
    {
      "cell_type": "markdown",
      "metadata": {
        "id": "Up2rAIVsMzqd"
      },
      "source": [
        "**Unindo dataframe pelo Id**"
      ]
    },
    {
      "cell_type": "code",
      "metadata": {
        "id": "WrmMtbMjDkME"
      },
      "source": [
        "df_movies_notas = df_movies_notas.groupby(by=\"movieId\").first()"
      ],
      "execution_count": 100,
      "outputs": []
    },
    {
      "cell_type": "code",
      "metadata": {
        "colab": {
          "base_uri": "https://localhost:8080/",
          "height": 455
        },
        "id": "jNBYg5q6Dqhs",
        "outputId": "7c00d99b-b82d-4810-f298-ed793d81bf03"
      },
      "source": [
        "df_movies_notas"
      ],
      "execution_count": 101,
      "outputs": [
        {
          "output_type": "execute_result",
          "data": {
            "text/html": [
              "<div>\n",
              "<style scoped>\n",
              "    .dataframe tbody tr th:only-of-type {\n",
              "        vertical-align: middle;\n",
              "    }\n",
              "\n",
              "    .dataframe tbody tr th {\n",
              "        vertical-align: top;\n",
              "    }\n",
              "\n",
              "    .dataframe thead th {\n",
              "        text-align: right;\n",
              "    }\n",
              "</style>\n",
              "<table border=\"1\" class=\"dataframe\">\n",
              "  <thead>\n",
              "    <tr style=\"text-align: right;\">\n",
              "      <th></th>\n",
              "      <th>title</th>\n",
              "      <th>genres</th>\n",
              "      <th>rating</th>\n",
              "    </tr>\n",
              "    <tr>\n",
              "      <th>movieId</th>\n",
              "      <th></th>\n",
              "      <th></th>\n",
              "      <th></th>\n",
              "    </tr>\n",
              "  </thead>\n",
              "  <tbody>\n",
              "    <tr>\n",
              "      <th>1</th>\n",
              "      <td>Toy Story (1995)</td>\n",
              "      <td>Adventure|Animation|Children|Comedy|Fantasy</td>\n",
              "      <td>3.920930</td>\n",
              "    </tr>\n",
              "    <tr>\n",
              "      <th>2</th>\n",
              "      <td>Jumanji (1995)</td>\n",
              "      <td>Adventure|Children|Fantasy</td>\n",
              "      <td>3.431818</td>\n",
              "    </tr>\n",
              "    <tr>\n",
              "      <th>3</th>\n",
              "      <td>Grumpier Old Men (1995)</td>\n",
              "      <td>Comedy|Romance</td>\n",
              "      <td>3.259615</td>\n",
              "    </tr>\n",
              "    <tr>\n",
              "      <th>4</th>\n",
              "      <td>Waiting to Exhale (1995)</td>\n",
              "      <td>Comedy|Drama|Romance</td>\n",
              "      <td>2.357143</td>\n",
              "    </tr>\n",
              "    <tr>\n",
              "      <th>5</th>\n",
              "      <td>Father of the Bride Part II (1995)</td>\n",
              "      <td>Comedy</td>\n",
              "      <td>3.071429</td>\n",
              "    </tr>\n",
              "    <tr>\n",
              "      <th>...</th>\n",
              "      <td>...</td>\n",
              "      <td>...</td>\n",
              "      <td>...</td>\n",
              "    </tr>\n",
              "    <tr>\n",
              "      <th>193581</th>\n",
              "      <td>Black Butler: Book of the Atlantic (2017)</td>\n",
              "      <td>Action|Animation|Comedy|Fantasy</td>\n",
              "      <td>4.000000</td>\n",
              "    </tr>\n",
              "    <tr>\n",
              "      <th>193583</th>\n",
              "      <td>No Game No Life: Zero (2017)</td>\n",
              "      <td>Animation|Comedy|Fantasy</td>\n",
              "      <td>3.500000</td>\n",
              "    </tr>\n",
              "    <tr>\n",
              "      <th>193585</th>\n",
              "      <td>Flint (2017)</td>\n",
              "      <td>Drama</td>\n",
              "      <td>3.500000</td>\n",
              "    </tr>\n",
              "    <tr>\n",
              "      <th>193587</th>\n",
              "      <td>Bungo Stray Dogs: Dead Apple (2018)</td>\n",
              "      <td>Action|Animation</td>\n",
              "      <td>3.500000</td>\n",
              "    </tr>\n",
              "    <tr>\n",
              "      <th>193609</th>\n",
              "      <td>Andrew Dice Clay: Dice Rules (1991)</td>\n",
              "      <td>Comedy</td>\n",
              "      <td>4.000000</td>\n",
              "    </tr>\n",
              "  </tbody>\n",
              "</table>\n",
              "<p>9724 rows × 3 columns</p>\n",
              "</div>"
            ],
            "text/plain": [
              "                                             title  ...    rating\n",
              "movieId                                             ...          \n",
              "1                                 Toy Story (1995)  ...  3.920930\n",
              "2                                   Jumanji (1995)  ...  3.431818\n",
              "3                          Grumpier Old Men (1995)  ...  3.259615\n",
              "4                         Waiting to Exhale (1995)  ...  2.357143\n",
              "5               Father of the Bride Part II (1995)  ...  3.071429\n",
              "...                                            ...  ...       ...\n",
              "193581   Black Butler: Book of the Atlantic (2017)  ...  4.000000\n",
              "193583                No Game No Life: Zero (2017)  ...  3.500000\n",
              "193585                                Flint (2017)  ...  3.500000\n",
              "193587         Bungo Stray Dogs: Dead Apple (2018)  ...  3.500000\n",
              "193609         Andrew Dice Clay: Dice Rules (1991)  ...  4.000000\n",
              "\n",
              "[9724 rows x 3 columns]"
            ]
          },
          "metadata": {},
          "execution_count": 101
        }
      ]
    },
    {
      "cell_type": "markdown",
      "metadata": {
        "id": "4ERR7eHOL7kL"
      },
      "source": [
        "**Selecionando os 3 filmes categorizado como Bom e Ruim**"
      ]
    },
    {
      "cell_type": "code",
      "metadata": {
        "id": "TPZVKw24DsUZ"
      },
      "source": [
        "melhor_filme = (df_movies_notas.loc[df_movies_notas['title'].isin(['Harry Potter and the Prisoner of Azkaban (2004)','Dark Knight, The (2008)','Avengers: Infinity War - Part I (2018)'])])"
      ],
      "execution_count": 102,
      "outputs": []
    },
    {
      "cell_type": "code",
      "metadata": {
        "id": "9EP9lmxuDxgX"
      },
      "source": [
        "pior_filme = (df_movies_notas.loc[df_movies_notas['title'].isin(['Batman v Superman: Dawn of Justice (2016)','Green Lantern (2011)','Suicide Squad (2016)'])])"
      ],
      "execution_count": 103,
      "outputs": []
    },
    {
      "cell_type": "markdown",
      "metadata": {
        "id": "9G0qTybTMDqR"
      },
      "source": [
        "**Categorizando os filmes para gerar o gráfico**"
      ]
    },
    {
      "cell_type": "code",
      "metadata": {
        "colab": {
          "base_uri": "https://localhost:8080/"
        },
        "id": "6PoYf-7gDyw1",
        "outputId": "915390f3-759f-4f5f-dcc0-0f9fcb55c962"
      },
      "source": [
        "melhor_filme['classificacao'] = 'Bom'"
      ],
      "execution_count": 104,
      "outputs": [
        {
          "output_type": "stream",
          "name": "stderr",
          "text": [
            "/usr/local/lib/python3.7/dist-packages/ipykernel_launcher.py:1: SettingWithCopyWarning: \n",
            "A value is trying to be set on a copy of a slice from a DataFrame.\n",
            "Try using .loc[row_indexer,col_indexer] = value instead\n",
            "\n",
            "See the caveats in the documentation: https://pandas.pydata.org/pandas-docs/stable/user_guide/indexing.html#returning-a-view-versus-a-copy\n",
            "  \"\"\"Entry point for launching an IPython kernel.\n"
          ]
        }
      ]
    },
    {
      "cell_type": "code",
      "metadata": {
        "colab": {
          "base_uri": "https://localhost:8080/",
          "height": 175
        },
        "id": "1OBNP-LrDz8_",
        "outputId": "57d0b815-5c32-463b-d23d-7afed63e7dcc"
      },
      "source": [
        "melhor_filme"
      ],
      "execution_count": 105,
      "outputs": [
        {
          "output_type": "execute_result",
          "data": {
            "text/html": [
              "<div>\n",
              "<style scoped>\n",
              "    .dataframe tbody tr th:only-of-type {\n",
              "        vertical-align: middle;\n",
              "    }\n",
              "\n",
              "    .dataframe tbody tr th {\n",
              "        vertical-align: top;\n",
              "    }\n",
              "\n",
              "    .dataframe thead th {\n",
              "        text-align: right;\n",
              "    }\n",
              "</style>\n",
              "<table border=\"1\" class=\"dataframe\">\n",
              "  <thead>\n",
              "    <tr style=\"text-align: right;\">\n",
              "      <th></th>\n",
              "      <th>title</th>\n",
              "      <th>genres</th>\n",
              "      <th>rating</th>\n",
              "      <th>classificacao</th>\n",
              "    </tr>\n",
              "    <tr>\n",
              "      <th>movieId</th>\n",
              "      <th></th>\n",
              "      <th></th>\n",
              "      <th></th>\n",
              "      <th></th>\n",
              "    </tr>\n",
              "  </thead>\n",
              "  <tbody>\n",
              "    <tr>\n",
              "      <th>8368</th>\n",
              "      <td>Harry Potter and the Prisoner of Azkaban (2004)</td>\n",
              "      <td>Adventure|Fantasy|IMAX</td>\n",
              "      <td>3.913978</td>\n",
              "      <td>Bom</td>\n",
              "    </tr>\n",
              "    <tr>\n",
              "      <th>58559</th>\n",
              "      <td>Dark Knight, The (2008)</td>\n",
              "      <td>Action|Crime|Drama|IMAX</td>\n",
              "      <td>4.238255</td>\n",
              "      <td>Bom</td>\n",
              "    </tr>\n",
              "    <tr>\n",
              "      <th>122912</th>\n",
              "      <td>Avengers: Infinity War - Part I (2018)</td>\n",
              "      <td>Action|Adventure|Sci-Fi</td>\n",
              "      <td>4.000000</td>\n",
              "      <td>Bom</td>\n",
              "    </tr>\n",
              "  </tbody>\n",
              "</table>\n",
              "</div>"
            ],
            "text/plain": [
              "                                                   title  ... classificacao\n",
              "movieId                                                   ...              \n",
              "8368     Harry Potter and the Prisoner of Azkaban (2004)  ...           Bom\n",
              "58559                            Dark Knight, The (2008)  ...           Bom\n",
              "122912            Avengers: Infinity War - Part I (2018)  ...           Bom\n",
              "\n",
              "[3 rows x 4 columns]"
            ]
          },
          "metadata": {},
          "execution_count": 105
        }
      ]
    },
    {
      "cell_type": "code",
      "metadata": {
        "colab": {
          "base_uri": "https://localhost:8080/"
        },
        "id": "kj4BClbsD2zY",
        "outputId": "790eaddc-ffd4-429a-999f-81faa8fe0498"
      },
      "source": [
        "pior_filme['classificacao'] = 'Ruim'"
      ],
      "execution_count": 106,
      "outputs": [
        {
          "output_type": "stream",
          "name": "stderr",
          "text": [
            "/usr/local/lib/python3.7/dist-packages/ipykernel_launcher.py:1: SettingWithCopyWarning: \n",
            "A value is trying to be set on a copy of a slice from a DataFrame.\n",
            "Try using .loc[row_indexer,col_indexer] = value instead\n",
            "\n",
            "See the caveats in the documentation: https://pandas.pydata.org/pandas-docs/stable/user_guide/indexing.html#returning-a-view-versus-a-copy\n",
            "  \"\"\"Entry point for launching an IPython kernel.\n"
          ]
        }
      ]
    },
    {
      "cell_type": "code",
      "metadata": {
        "colab": {
          "base_uri": "https://localhost:8080/",
          "height": 175
        },
        "id": "8_GXhrZdKc_r",
        "outputId": "1bfebecb-2d22-42ea-cd8d-4f12e052f45c"
      },
      "source": [
        "pior_filme"
      ],
      "execution_count": 107,
      "outputs": [
        {
          "output_type": "execute_result",
          "data": {
            "text/html": [
              "<div>\n",
              "<style scoped>\n",
              "    .dataframe tbody tr th:only-of-type {\n",
              "        vertical-align: middle;\n",
              "    }\n",
              "\n",
              "    .dataframe tbody tr th {\n",
              "        vertical-align: top;\n",
              "    }\n",
              "\n",
              "    .dataframe thead th {\n",
              "        text-align: right;\n",
              "    }\n",
              "</style>\n",
              "<table border=\"1\" class=\"dataframe\">\n",
              "  <thead>\n",
              "    <tr style=\"text-align: right;\">\n",
              "      <th></th>\n",
              "      <th>title</th>\n",
              "      <th>genres</th>\n",
              "      <th>rating</th>\n",
              "      <th>classificacao</th>\n",
              "    </tr>\n",
              "    <tr>\n",
              "      <th>movieId</th>\n",
              "      <th></th>\n",
              "      <th></th>\n",
              "      <th></th>\n",
              "      <th></th>\n",
              "    </tr>\n",
              "  </thead>\n",
              "  <tbody>\n",
              "    <tr>\n",
              "      <th>87430</th>\n",
              "      <td>Green Lantern (2011)</td>\n",
              "      <td>Action|Adventure|Sci-Fi</td>\n",
              "      <td>2.350000</td>\n",
              "      <td>Ruim</td>\n",
              "    </tr>\n",
              "    <tr>\n",
              "      <th>135536</th>\n",
              "      <td>Suicide Squad (2016)</td>\n",
              "      <td>Action|Crime|Sci-Fi</td>\n",
              "      <td>2.916667</td>\n",
              "      <td>Ruim</td>\n",
              "    </tr>\n",
              "    <tr>\n",
              "      <th>136864</th>\n",
              "      <td>Batman v Superman: Dawn of Justice (2016)</td>\n",
              "      <td>Action|Adventure|Fantasy|Sci-Fi</td>\n",
              "      <td>2.343750</td>\n",
              "      <td>Ruim</td>\n",
              "    </tr>\n",
              "  </tbody>\n",
              "</table>\n",
              "</div>"
            ],
            "text/plain": [
              "                                             title  ... classificacao\n",
              "movieId                                             ...              \n",
              "87430                         Green Lantern (2011)  ...          Ruim\n",
              "135536                        Suicide Squad (2016)  ...          Ruim\n",
              "136864   Batman v Superman: Dawn of Justice (2016)  ...          Ruim\n",
              "\n",
              "[3 rows x 4 columns]"
            ]
          },
          "metadata": {},
          "execution_count": 107
        }
      ]
    },
    {
      "cell_type": "markdown",
      "metadata": {
        "id": "mFtbDMkRMK7B"
      },
      "source": [
        "**Juntando o dataframe com os filmes selecionados  categorizados**"
      ]
    },
    {
      "cell_type": "code",
      "metadata": {
        "id": "D14WUAcJD64q"
      },
      "source": [
        "filmes_notas = pd.concat([pior_filme, melhor_filme])"
      ],
      "execution_count": 108,
      "outputs": []
    },
    {
      "cell_type": "code",
      "metadata": {
        "colab": {
          "base_uri": "https://localhost:8080/",
          "height": 269
        },
        "id": "PSeTSOuWD9xM",
        "outputId": "1641f573-1def-49b7-9aa7-c9750df75edb"
      },
      "source": [
        "filmes_notas"
      ],
      "execution_count": 109,
      "outputs": [
        {
          "output_type": "execute_result",
          "data": {
            "text/html": [
              "<div>\n",
              "<style scoped>\n",
              "    .dataframe tbody tr th:only-of-type {\n",
              "        vertical-align: middle;\n",
              "    }\n",
              "\n",
              "    .dataframe tbody tr th {\n",
              "        vertical-align: top;\n",
              "    }\n",
              "\n",
              "    .dataframe thead th {\n",
              "        text-align: right;\n",
              "    }\n",
              "</style>\n",
              "<table border=\"1\" class=\"dataframe\">\n",
              "  <thead>\n",
              "    <tr style=\"text-align: right;\">\n",
              "      <th></th>\n",
              "      <th>title</th>\n",
              "      <th>genres</th>\n",
              "      <th>rating</th>\n",
              "      <th>classificacao</th>\n",
              "    </tr>\n",
              "    <tr>\n",
              "      <th>movieId</th>\n",
              "      <th></th>\n",
              "      <th></th>\n",
              "      <th></th>\n",
              "      <th></th>\n",
              "    </tr>\n",
              "  </thead>\n",
              "  <tbody>\n",
              "    <tr>\n",
              "      <th>87430</th>\n",
              "      <td>Green Lantern (2011)</td>\n",
              "      <td>Action|Adventure|Sci-Fi</td>\n",
              "      <td>2.350000</td>\n",
              "      <td>Ruim</td>\n",
              "    </tr>\n",
              "    <tr>\n",
              "      <th>135536</th>\n",
              "      <td>Suicide Squad (2016)</td>\n",
              "      <td>Action|Crime|Sci-Fi</td>\n",
              "      <td>2.916667</td>\n",
              "      <td>Ruim</td>\n",
              "    </tr>\n",
              "    <tr>\n",
              "      <th>136864</th>\n",
              "      <td>Batman v Superman: Dawn of Justice (2016)</td>\n",
              "      <td>Action|Adventure|Fantasy|Sci-Fi</td>\n",
              "      <td>2.343750</td>\n",
              "      <td>Ruim</td>\n",
              "    </tr>\n",
              "    <tr>\n",
              "      <th>8368</th>\n",
              "      <td>Harry Potter and the Prisoner of Azkaban (2004)</td>\n",
              "      <td>Adventure|Fantasy|IMAX</td>\n",
              "      <td>3.913978</td>\n",
              "      <td>Bom</td>\n",
              "    </tr>\n",
              "    <tr>\n",
              "      <th>58559</th>\n",
              "      <td>Dark Knight, The (2008)</td>\n",
              "      <td>Action|Crime|Drama|IMAX</td>\n",
              "      <td>4.238255</td>\n",
              "      <td>Bom</td>\n",
              "    </tr>\n",
              "    <tr>\n",
              "      <th>122912</th>\n",
              "      <td>Avengers: Infinity War - Part I (2018)</td>\n",
              "      <td>Action|Adventure|Sci-Fi</td>\n",
              "      <td>4.000000</td>\n",
              "      <td>Bom</td>\n",
              "    </tr>\n",
              "  </tbody>\n",
              "</table>\n",
              "</div>"
            ],
            "text/plain": [
              "                                                   title  ... classificacao\n",
              "movieId                                                   ...              \n",
              "87430                               Green Lantern (2011)  ...          Ruim\n",
              "135536                              Suicide Squad (2016)  ...          Ruim\n",
              "136864         Batman v Superman: Dawn of Justice (2016)  ...          Ruim\n",
              "8368     Harry Potter and the Prisoner of Azkaban (2004)  ...           Bom\n",
              "58559                            Dark Knight, The (2008)  ...           Bom\n",
              "122912            Avengers: Infinity War - Part I (2018)  ...           Bom\n",
              "\n",
              "[6 rows x 4 columns]"
            ]
          },
          "metadata": {},
          "execution_count": 109
        }
      ]
    },
    {
      "cell_type": "markdown",
      "metadata": {
        "id": "8d0cAuZOMVw2"
      },
      "source": [
        "**Gerando o gráfico**"
      ]
    },
    {
      "cell_type": "code",
      "metadata": {
        "colab": {
          "base_uri": "https://localhost:8080/",
          "height": 616
        },
        "id": "lxw6UI6BD--G",
        "outputId": "00b3f861-9d43-4b46-cb65-4e374c1dd317"
      },
      "source": [
        "fig = sns.catplot(data=filmes_notas, kind='bar', x='title', y='rating', hue='classificacao',palette=\"Set2\")\n",
        "fig.set_xticklabels(filmes_notas['title'], rotation=90)"
      ],
      "execution_count": 111,
      "outputs": [
        {
          "output_type": "execute_result",
          "data": {
            "text/plain": [
              "<seaborn.axisgrid.FacetGrid at 0x7f5d7a1ad210>"
            ]
          },
          "metadata": {},
          "execution_count": 111
        },
        {
          "output_type": "display_data",
          "data": {
            "image/png": "[encoded data removed]",
            "text/plain": [
              "<Figure size 431.625x360 with 1 Axes>"
            ]
          },
          "metadata": {
            "needs_background": "light"
          }
        }
      ]
    }
  ]
}